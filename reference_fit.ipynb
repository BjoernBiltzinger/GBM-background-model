{
 "cells": [
  {
   "cell_type": "code",
   "execution_count": 1,
   "metadata": {
    "collapsed": true
   },
   "outputs": [],
   "source": [
    "#!/usr/bin python2.7\n",
    "\n",
    "from astropy.io       import fits\n",
    "from astropy.table    import Table\n",
    "from astropy.time     import Time\n",
    "from datetime         import date\n",
    "from datetime         import datetime\n",
    "import ephem\n",
    "import fileinput\n",
    "import getpass\n",
    "import math\n",
    "import matplotlib.pyplot                   as plt\n",
    "import matplotlib                          as mpl\n",
    "import numpy                               as np\n",
    "from numpy            import linalg        as LA\n",
    "import os\n",
    "import pyfits\n",
    "import scipy.optimize                      as optimization\n",
    "from scipy            import integrate\n",
    "from scipy            import interpolate\n",
    "from scipy.optimize   import curve_fit\n",
    "import subprocess\n",
    "from subprocess       import Popen, PIPE\n",
    "import urllib2\n",
    "from work_module      import calculate\n",
    "from work_module      import detector\n",
    "from work_module      import readfile\n",
    "from work_module      import writefile\n",
    "calc = calculate()\n",
    "det = detector()\n",
    "rf = readfile()\n",
    "wf = writefile()\n",
    "\n",
    "#docstrings of the different self-made classes within the self-made module\n",
    "#cdoc = calc.__doc__\n",
    "#ddoc = det.__doc__\n",
    "#rdoc = rf.__doc__"
   ]
  },
  {
   "cell_type": "code",
   "execution_count": 2,
   "metadata": {
    "collapsed": false
   },
   "outputs": [
    {
     "name": "stderr",
     "output_type": "stream",
     "text": [
      "work_module.py:2542: RuntimeWarning: invalid value encountered in arccos\n",
      "  ang_det_sun = np.arccos(scalar_product)\n",
      "work_module.py:2102: RuntimeWarning: invalid value encountered in arccos\n",
      "  ang_det_geo = np.arccos(scalar_product)\n"
     ]
    }
   ],
   "source": [
    "day = 150926\n",
    "detector_name = 'n5'\n",
    "data_type = 'ctime'\n",
    "year = int('20' + str(day)[0:2])\n",
    "\n",
    "#get the iso-date-format from the day\n",
    "date = datetime(year, int(str(day)[2:4]), int(str(day)[4:6]))\n",
    "\n",
    "#get the ordinal indicator for the date\n",
    "ordinal = lambda n: \"%d%s\" % (n,\"tsnrhtdd\"[(n/10%10!=1)*(n%10<4)*n%10::4])\n",
    "\n",
    "#read the measurement data\n",
    "ctime_data = rf.ctime(detector_name, day)\n",
    "echan = ctime_data[0]\n",
    "total_counts = ctime_data[1]\n",
    "echan_counts = ctime_data[2]\n",
    "total_rate = ctime_data[3]\n",
    "echan_rate = ctime_data[4]\n",
    "bin_time = ctime_data[5]\n",
    "good_time = ctime_data[6]\n",
    "exptime = ctime_data[7]\n",
    "bin_time_mid = np.array((bin_time[:,0]+bin_time[:,1])/2)\n",
    "\n",
    "total_rate = np.sum(echan_rate[1:-2], axis = 0)\n",
    "\n",
    "echan = 1 #define which energy-channels one wants to look at\n",
    "counts = echan_rate[echan]\n",
    "#counts = total_rate\n",
    "\n",
    "#read the satellite data\n",
    "sat_data = rf.poshist_bin(day, bin_time_mid, detector_name, data_type)\n",
    "sat_time_bin = sat_data[0]\n",
    "sat_pos_bin = sat_data[1]\n",
    "sat_lat_bin = sat_data[2]\n",
    "sat_lon_bin = sat_data[3]\n",
    "sat_q_bin = sat_data[4]\n",
    "\n",
    "#calculate the sun data\n",
    "sun_data = calc.sun_ang_bin(detector_name, day, bin_time_mid, data_type)\n",
    "sun_ang_bin = sun_data[0]\n",
    "sun_ang_bin = calc.ang_eff(sun_ang_bin, echan)[0]\n",
    "sun_rad = sun_data[2]\n",
    "sun_ra = sun_rad[:,0]\n",
    "sun_dec = sun_rad[:,1]\n",
    "sun_occ = calc.src_occultation_bin(day, sun_ra, sun_dec, bin_time_mid)[0]\n",
    "\n",
    "#calculate the earth data\n",
    "earth_data = calc.earth_ang_bin(detector_name, day, bin_time_mid, data_type)\n",
    "earth_ang_bin = earth_data[0]\n",
    "#earth_ang_bin = calc.ang_eff(earth_ang_bin, echan)[0]\n",
    "earth_ang_bin = calc.earth_occ_eff(earth_ang_bin, echan)\n",
    "\n",
    "#read the SFL data\n",
    "flares = rf.flares(year)\n",
    "flares_day = flares[0]\n",
    "flares_time = flares[1]\n",
    "if np.any(flares_day == day) == True:\n",
    "    flares_today = flares_time[:,np.where(flares_day == day)]\n",
    "    flares_today = np.squeeze(flares_today, axis=(1,))/3600.\n",
    "else:\n",
    "    flares_today = np.array(-5)\n",
    "\n",
    "#read the mcilwain parameter data\n",
    "sat_time = rf.poshist(day)[0]\n",
    "lat_data = rf.mcilwain(day)\n",
    "mc_b = lat_data[1]\n",
    "mc_l = lat_data[2]\n",
    "\n",
    "mc_b = calc.intpol(mc_b, day, 0, sat_time, bin_time_mid)[0]\n",
    "mc_l = calc.intpol(mc_l, day, 0, sat_time, bin_time_mid)[0]\n",
    "\n",
    "magnetic = mc_l\n",
    "magnetic = magnetic - np.mean(magnetic, dtype=np.float64)\n",
    "\n",
    "#constant function corresponding to the diffuse y-ray background\n",
    "cgb = np.ones(len(total_rate))\n",
    "\n",
    "#counts[120000:] = 0\n",
    "cgb[np.where(total_rate == 0)] = 0\n",
    "earth_ang_bin[np.where(total_rate == 0)] = 0\n",
    "sun_ang_bin[np.where(sun_occ == 0)] = 0\n",
    "sun_ang_bin[np.where(total_rate == 0)] = 0\n",
    "magnetic[np.where(total_rate == 0)] = 0\n",
    "\n",
    "#remove vertical movement from scaling sun_ang_bin\n",
    "sun_ang_bin[sun_ang_bin>0] = sun_ang_bin[sun_ang_bin>0] - np.min(sun_ang_bin[sun_ang_bin>0])"
   ]
  },
  {
   "cell_type": "code",
   "execution_count": 3,
   "metadata": {
    "collapsed": false
   },
   "outputs": [
    {
     "name": "stdout",
     "output_type": "stream",
     "text": [
      "2399\n",
      "22312\n",
      "167308\n",
      "185443\n",
      "202562\n",
      "219471\n",
      "236937\n",
      "255193\n",
      "273998\n"
     ]
    }
   ],
   "source": [
    "saa_exits = [0]\n",
    "for i in range(1, len(total_rate)):\n",
    "    if np.logical_and(total_rate[i-1] == 0, total_rate[i] != 0):\n",
    "        print i\n",
    "        saa_exits.append(i)\n",
    "saa_exits = np.array(saa_exits)\n",
    "\n",
    "if saa_exits[1] - saa_exits[0] < 10:\n",
    "    saa_exits = np.delete(saa_exits, 0)"
   ]
  },
  {
   "cell_type": "code",
   "execution_count": 4,
   "metadata": {
    "collapsed": true
   },
   "outputs": [],
   "source": [
    "#def exp_func(x, a, b, c):\n",
    "#    return a*np.exp(-b*x) + c\n",
    "def exp_func(x, a, b, i, addition):\n",
    "#    if saa_exits[i] == 0:\n",
    "#        addition = 0\n",
    "#    elif saa_exits[i] < 200:\n",
    "#        addition = 10\n",
    "#    else:\n",
    "#        addition = 9\n",
    "    x_func = x[saa_exits[i]+math.fabs(addition):] - x[saa_exits[i]+math.fabs(addition)]\n",
    "    func = math.fabs(a)*np.exp(-math.fabs(b)*x_func)\n",
    "    zeros = np.zeros(len(x))\n",
    "    zeros[saa_exits[i]+addition:] = func\n",
    "    zeros[np.where(total_rate==0)] = 0\n",
    "    return zeros"
   ]
  },
  {
   "cell_type": "code",
   "execution_count": 5,
   "metadata": {
    "collapsed": true
   },
   "outputs": [],
   "source": [
    "deaths = len(saa_exits)\n",
    "\n",
    "exp = []\n",
    "for i in range(0, deaths):\n",
    "    exp = np.append(exp, [40., 0.001])"
   ]
  },
  {
   "cell_type": "code",
   "execution_count": 6,
   "metadata": {
    "collapsed": true
   },
   "outputs": [],
   "source": [
    "def fit_function(x, a, b, c, d, addition, exp1, exp2, deaths):\n",
    "        this_is_it = a*cgb + b*magnetic + c*earth_ang_bin + d*sun_ang_bin\n",
    "        for i in range(0, deaths):\n",
    "            this_is_it = np.add(this_is_it, exp_func(x, exp1[i], exp2[i], i, addition))\n",
    "        return this_is_it\n",
    "\n",
    "def wrapper_fit_function(x, deaths, a, b, c, d, addition, *args):\n",
    "    exp1 = args[::2]\n",
    "    exp2 = args[1::2]\n",
    "    return fit_function(x, a, b, c, d, addition, np.fabs(exp1), np.fabs(exp2), deaths)\n",
    "\n",
    "x0 = np.append(np.array([20., -1., 5]), exp)\n",
    "sigma = np.array((counts + 1)**(0.5))"
   ]
  },
  {
   "cell_type": "code",
   "execution_count": 7,
   "metadata": {
    "collapsed": true
   },
   "outputs": [],
   "source": [
    "energy_eff_width = np.array([0.138, 0.953, 1., 1.010, 0.859, 0.266, 0.109, 0.050])\n",
    "\n",
    "cgb_ref = np.array([5.49, 2.69, 1., 0.443, 0.164, 0.0185, 0.00600, 0.00212]) * energy_eff_width\n",
    "earth_occ_ref = np.array([6.994, 3.3976, 1., 0.23507, -0.061, -0.0586, -0.04544, -0.03653]) * energy_eff_width\n",
    "\n",
    "#cgb_ref = np.array([0.3927, 1.7199, 1., 0.6736, 0.5674, 0.1110, 0.1557, 0.1767])\n",
    "#earth_occ_ref = np.array([0.7620, 3.0449, 1., 0.2801, -0.1018, -0.0665, -0.1095, -0.1304])\n",
    "\n",
    "cgb_e2 = 248.732651279 #n3: 243.029530211\n",
    "earth_occ_e2 = -153.385764169 #n3: -176.022964251\n",
    "\n",
    "cgb_coeff = cgb_e2*cgb_ref[echan]\n",
    "earth_occ = earth_occ_e2*earth_occ_ref[echan]"
   ]
  },
  {
   "cell_type": "code",
   "execution_count": 8,
   "metadata": {
    "collapsed": false
   },
   "outputs": [
    {
     "name": "stderr",
     "output_type": "stream",
     "text": [
      "/usr/local/lib/python2.7/dist-packages/ipykernel/__main__.py:10: DeprecationWarning: using a non-integer number instead of an integer will result in an error in the future\n",
      "/usr/local/lib/python2.7/dist-packages/ipykernel/__main__.py:13: DeprecationWarning: using a non-integer number instead of an integer will result in an error in the future\n"
     ]
    },
    {
     "name": "stdout",
     "output_type": "stream",
     "text": [
      "CGB coefficient: 637.643562839\n",
      "Magnetic field coefficient: -84.7018250595\n",
      "Earth angle coefficient: -496.649729141\n",
      "Sun angle coefficient: -7.110087648\n",
      "Addition:  5.0\n",
      "starting exp: 0.414873216639 & 0.0289097817028\n",
      "first SAA: 60.2398118941 & 0.00411206227894\n"
     ]
    }
   ],
   "source": [
    "fit_results = optimization.curve_fit(lambda x, b, d, addition, *args: wrapper_fit_function(x, deaths, cgb_coeff, b, earth_occ, d, addition, *args), bin_time_mid, counts, x0, sigma, maxfev = 100000)\n",
    "coeff = fit_results[0]\n",
    "\n",
    "print 'CGB coefficient:',cgb_coeff\n",
    "print 'Magnetic field coefficient:',coeff[0]\n",
    "print 'Earth angle coefficient:',earth_occ\n",
    "print 'Sun angle coefficient:',coeff[1]\n",
    "print 'Addition: ', coeff[2]\n",
    "print 'starting exp:',coeff[3],'&',coeff[4]\n",
    "print 'first SAA:',coeff[5],'&',coeff[6]"
   ]
  },
  {
   "cell_type": "code",
   "execution_count": 9,
   "metadata": {
    "collapsed": false,
    "scrolled": true
   },
   "outputs": [
    {
     "name": "stderr",
     "output_type": "stream",
     "text": [
      "/usr/local/lib/python2.7/dist-packages/ipykernel/__main__.py:10: DeprecationWarning: using a non-integer number instead of an integer will result in an error in the future\n",
      "/usr/local/lib/python2.7/dist-packages/ipykernel/__main__.py:13: DeprecationWarning: using a non-integer number instead of an integer will result in an error in the future\n"
     ]
    }
   ],
   "source": [
    "b = coeff[0]\n",
    "d = coeff[1]\n",
    "addition = coeff[2]\n",
    "exp1 = coeff[3::2]\n",
    "exp2 = coeff[4::2]\n",
    "\n",
    "fit_curve = fit_function(bin_time_mid, cgb_coeff, b, earth_occ, d, addition, exp1, exp2, deaths)"
   ]
  },
  {
   "cell_type": "code",
   "execution_count": 10,
   "metadata": {
    "collapsed": false
   },
   "outputs": [],
   "source": [
    "#####plot-algorhythm#####\n",
    "#convert the x-axis into hours of the day\n",
    "plot_time_bin_date = calc.met_to_date(bin_time_mid)[0]\n",
    "plot_time_bin = (plot_time_bin_date - calc.day_to_met(day)[1])*24#Time of day in hours\n",
    "plot_time_sat_date = calc.met_to_date(sat_time_bin)[0]\n",
    "plot_time_sat = (plot_time_sat_date - calc.day_to_met(day)[1])*24#Time of day in hours\n",
    "\n",
    "\n",
    "###plot each on the same axis as converted to counts###\n",
    "fig, ax1 = plt.subplots()\n",
    "\n",
    "plot1 = ax1.plot(plot_time_bin, counts, 'b-', label = 'Countrate')\n",
    "plot2 = ax1.plot(plot_time_bin, fit_curve, 'r-', label = 'Fit')\n",
    "plot3 = ax1.plot(plot_time_sat, d*sun_ang_bin, 'y-', label = 'Sun angle')\n",
    "plot4 = ax1.plot(plot_time_sat, earth_occ*earth_ang_bin, 'c-', label = 'Earth angle')\n",
    "plot5 = ax1.plot(plot_time_sat, b*magnetic, 'g-', label = 'Magnetic field')\n",
    "plot6 = ax1.plot(plot_time_sat, cgb_coeff*cgb, 'b--', label = 'Cosmic y-ray background')\n",
    "#plot7 = ax1.plot(plot_time_sat, j2000_orb, 'y--', label = 'J2000 orbit')\n",
    "#plot8 = ax1.plot(plot_time_sat, geo_orb, 'g--', label = 'Geographical orbit')\n",
    "\n",
    "#plot vertical lines for the solar flares of the day\n",
    "if np.all(flares_today != -5):\n",
    "    if len(flares_today[0]) > 1:\n",
    "        for i in range(0, len(flares_today[0])):\n",
    "            plt.axvline(x = flares_today[0,i], ymin = 0., ymax = 1., linewidth=2, color = 'grey')\n",
    "            plt.axvline(x = flares_today[1,i], ymin = 0., ymax = 1., color = 'grey', linestyle = '--')\n",
    "    else:\n",
    "        plt.axvline(x = flares_today[0], ymin = 0., ymax = 1., linewidth=2, color = 'grey')\n",
    "        plt.axvline(x = flares_today[1], ymin = 0., ymax = 1., color = 'grey', linestyle = '--')\n",
    "\n",
    "plots = plot1 + plot2 + plot3 + plot4 + plot5 + plot6\n",
    "labels = [l.get_label() for l in plots]\n",
    "ax1.legend(plots, labels, loc=1)\n",
    "\n",
    "ax1.grid()\n",
    "\n",
    "ax1.set_xlabel('Time of day in 24h')\n",
    "ax1.set_ylabel('Countrate')\n",
    "\n",
    "#ax1.set_xlim([9.84, 9.85])\n",
    "ax1.set_xlim([-0.5, 24.5])\n",
    "ax1.set_ylim([-500, 750])\n",
    "\n",
    "plt.title(data_type + '-countrate-fit of the ' + detector_name + '-detector on the ' + ordinal(int(str(day)[4:6])) + ' ' + date.strftime('%B')[0:3] + ' ' + str(year))\n",
    "\n",
    "\n",
    "figure_path = '/home/tkili/Work/Fits/' + str(day) + '/'\n",
    "if not os.access(figure_path, os.F_OK):\n",
    "    os.mkdir(figure_path)\n",
    "if counts.all == total_rate.all:\n",
    "    figure_name = detector_name + 'ref_tot.png'\n",
    "else:\n",
    "    figure_name = detector_name + '_ref_e' + str(echan) + '.png'\n",
    "            \n",
    "fig = plt.gcf() # get current figure\n",
    "fig.set_size_inches(20, 12)\n",
    "            \n",
    "figure = os.path.join(figure_path, figure_name)\n",
    "plt.savefig(figure, bbox_inches='tight', dpi = 80)\n",
    "            \n",
    "#plt.show()\n",
    "            \n",
    "fig.clf()\n",
    "plt.clf()\n",
    "\n"
   ]
  },
  {
   "cell_type": "code",
   "execution_count": null,
   "metadata": {
    "collapsed": true
   },
   "outputs": [],
   "source": []
  }
 ],
 "metadata": {
  "kernelspec": {
   "display_name": "Python 2",
   "language": "python",
   "name": "python2"
  },
  "language_info": {
   "codemirror_mode": {
    "name": "ipython",
    "version": 2
   },
   "file_extension": ".py",
   "mimetype": "text/x-python",
   "name": "python",
   "nbconvert_exporter": "python",
   "pygments_lexer": "ipython2",
   "version": "2.7.6"
  }
 },
 "nbformat": 4,
 "nbformat_minor": 0
}
