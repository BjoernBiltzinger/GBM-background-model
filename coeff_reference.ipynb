{
 "cells": [
  {
   "cell_type": "code",
   "execution_count": 4,
   "metadata": {
    "collapsed": false
   },
   "outputs": [],
   "source": [
    "import matplotlib.pyplot as plt\n",
    "import numpy as np\n",
    "\n",
    "x = np.array([8, 19, 38, 75, 198, 417, 762, 1492])\n",
    "cgb = np.array([5.49, 2.69, 1., 0.443, 0.164, 0.0185, 0.00600, 0.00212])\n",
    "earth = np.array([0.0007377, 0.1017, 1., 1.205, 0.988, 0.301, 0.1943, 0.1436])\n",
    "earth_occ = -np.array([7.00629318, 3.4035806, 1., 0.23188162, -0.05829884, -0.05086629, -0.03695036, -0.02970391])\n",
    "\n",
    "energy_eff_width = np.array([0.138, 0.953, 1., 1.010, 0.859, 0.266, 0.109, 0.050])\n",
    "energy_eff_area = np.array([0.042, 0.602, 1., 2.202, 7.047, 2.0758, 2.049, 2.139])\n",
    "energy_eff_total_area = np.array([0.0377, 0.542, 1., 2.17, 7.77, 6.38, 8.48, 13.21])\n",
    "\n",
    "cgb_eff_width = cgb*energy_eff_width\n",
    "earth_occ_eff_width = earth_occ*energy_eff_width\n",
    "cgb_eff_area = cgb*energy_eff_area\n",
    "earth_occ_eff_area = earth_occ*energy_eff_area\n",
    "cgb_eff_total_area = cgb*energy_eff_total_area\n",
    "earth_occ_eff_total_area = earth_occ*energy_eff_total_area\n",
    "\n",
    "cgb_fits = np.array([0.3927, 1.7199, 1., 0.6736, 0.5674, 0.1110, 0.1557, 0.1767])\n",
    "earth_occ_fits = np.array([0.7620, 3.0449, 1., 0.2801, -0.1018, -0.0665, -0.1095, -0.1304])\n",
    "\n",
    "#plt.plot(x, cgb, 'b-', label = 'Cosmic y-ray background')\n",
    "#plt.plot(x, earth_occ, 'c-', label = 'Earth occultation')\n",
    "plt.plot(x, cgb_eff_area, 'r-', label = 'Cosmic y-ray background')\n",
    "plt.plot(x, earth_occ_eff_area, 'y-', label = 'Earth occultation')\n",
    "plt.plot(x, cgb_eff_width, 'b--', label = 'Cosmic y-ray background')\n",
    "plt.plot(x, earth_occ_eff_width, 'm--', label = 'Earth occultation')\n",
    "plt.plot(x, cgb_eff_total_area, 'b-', label = 'Cosmic y-ray background')\n",
    "plt.plot(x, earth_occ_eff_total_area, 'm-', label = 'Earth occultation')\n",
    "plt.plot(x, cgb_fits, 'r--', label = 'Cosmic y-ray background')\n",
    "plt.plot(x, -earth_occ_fits, 'y--', label = 'Earth occultation')\n",
    "#plt.plot(x, sun, 'y-', label = 'Sun angle')\n",
    "plt.xlabel('Energie in keV')\n",
    "plt.ylabel('Coefficient value')\n",
    "plt.show()"
   ]
  },
  {
   "cell_type": "code",
   "execution_count": 9,
   "metadata": {
    "collapsed": false
   },
   "outputs": [
    {
     "name": "stdout",
     "output_type": "stream",
     "text": [
      "[  7.57620000e-01   2.56357000e+00   1.00000000e+00   4.47430000e-01\n",
      "   1.40876000e-01   4.92100000e-03   6.54000000e-04   1.06000000e-04]\n"
     ]
    }
   ],
   "source": [
    "print cxb_eff_width"
   ]
  },
  {
   "cell_type": "code",
   "execution_count": 10,
   "metadata": {
    "collapsed": false
   },
   "outputs": [
    {
     "name": "stdout",
     "output_type": "stream",
     "text": [
      "[ -9.65172000e-01  -3.23791280e+00  -1.00000000e+00  -2.37420700e-01\n",
      "   5.23990000e-02   1.55876000e-02   4.95296000e-03   1.82650000e-03]\n"
     ]
    }
   ],
   "source": [
    "print earth_occ_eff_width"
   ]
  },
  {
   "cell_type": "code",
   "execution_count": 7,
   "metadata": {
    "collapsed": false
   },
   "outputs": [
    {
     "name": "stdout",
     "output_type": "stream",
     "text": [
      "[ 7.00629318  3.4035806   1.          0.23188162 -0.05829884 -0.05086629\n",
      " -0.03695036 -0.02970391]\n"
     ]
    }
   ],
   "source": [
    "absolute = np.array([-4.3558, -2.116, -0.6228, -0.1464, 0.038, 0.0365, 0.0283, 0.02275])\n",
    "area_norm = np.array([1.00177221, 1.00177221, 1., 0.98644723, 0.9554873, 0.86793222, 0.81316915, 0.81316915])\n",
    "\n",
    "\n",
    "absol = absolute*area_norm\n",
    "normed_absol = absol/absol[2]\n",
    "\n",
    "print normed_absol"
   ]
  }
 ],
 "metadata": {
  "kernelspec": {
   "display_name": "Python 2",
   "language": "python",
   "name": "python2"
  },
  "language_info": {
   "codemirror_mode": {
    "name": "ipython",
    "version": 2
   },
   "file_extension": ".py",
   "mimetype": "text/x-python",
   "name": "python",
   "nbconvert_exporter": "python",
   "pygments_lexer": "ipython2",
   "version": "2.7.6"
  }
 },
 "nbformat": 4,
 "nbformat_minor": 0
}
