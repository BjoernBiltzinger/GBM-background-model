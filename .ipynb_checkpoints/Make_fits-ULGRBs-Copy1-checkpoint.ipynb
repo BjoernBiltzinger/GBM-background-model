{
 "cells": [
  {
   "cell_type": "code",
   "execution_count": 1,
   "metadata": {
    "collapsed": false
   },
   "outputs": [],
   "source": [
    "#!/usr/bin python2.7\n",
    "\n",
    "from astropy.io       import fits\n",
    "from astropy.table    import Table\n",
    "from astropy.time     import Time\n",
    "from datetime         import date\n",
    "from datetime         import datetime\n",
    "import ephem\n",
    "import fileinput\n",
    "import getpass\n",
    "import math\n",
    "import matplotlib.pyplot                   as plt\n",
    "import matplotlib                          as mpl\n",
    "import numpy                               as np\n",
    "from numpy            import linalg        as LA\n",
    "import os\n",
    "import pyfits\n",
    "import scipy.optimize                      as optimization\n",
    "from scipy            import integrate\n",
    "from scipy            import interpolate\n",
    "from scipy.optimize   import curve_fit\n",
    "import subprocess\n",
    "from subprocess       import Popen, PIPE\n",
    "import urllib2\n",
    "from work_module      import calculate\n",
    "from work_module      import detector\n",
    "from work_module      import readfile\n",
    "from work_module      import writefile\n",
    "calc = calculate()\n",
    "det = detector()\n",
    "rf = readfile()\n",
    "wf = writefile()"
   ]
  },
  {
   "cell_type": "code",
   "execution_count": 2,
   "metadata": {
    "collapsed": false
   },
   "outputs": [
    {
     "name": "stdout",
     "output_type": "stream",
     "text": [
      "140611\n",
      "n0\n",
      "0\n"
     ]
    },
    {
     "ename": "KeyboardInterrupt",
     "evalue": "",
     "output_type": "error",
     "traceback": [
      "\u001b[1;31m---------------------------------------------------------------------------\u001b[0m",
      "\u001b[1;31mKeyboardInterrupt\u001b[0m                         Traceback (most recent call last)",
      "\u001b[1;32m<ipython-input-2-fabfb3baaf75>\u001b[0m in \u001b[0;36m<module>\u001b[1;34m()\u001b[0m\n\u001b[0;32m     16\u001b[0m         \u001b[1;32mfor\u001b[0m \u001b[0mk\u001b[0m \u001b[1;32min\u001b[0m \u001b[0mrange\u001b[0m\u001b[1;33m(\u001b[0m\u001b[1;36m0\u001b[0m\u001b[1;33m,\u001b[0m \u001b[0mlen\u001b[0m\u001b[1;33m(\u001b[0m\u001b[0mechan\u001b[0m\u001b[1;33m)\u001b[0m\u001b[1;33m)\u001b[0m\u001b[1;33m:\u001b[0m\u001b[1;33m\u001b[0m\u001b[0m\n\u001b[0;32m     17\u001b[0m             \u001b[1;32mprint\u001b[0m \u001b[0mechan\u001b[0m\u001b[1;33m[\u001b[0m\u001b[0mk\u001b[0m\u001b[1;33m]\u001b[0m\u001b[1;33m\u001b[0m\u001b[0m\n\u001b[1;32m---> 18\u001b[1;33m             \u001b[0mcalc\u001b[0m\u001b[1;33m.\u001b[0m\u001b[0mcurve_fit_plots\u001b[0m\u001b[1;33m(\u001b[0m\u001b[0mday\u001b[0m\u001b[1;33m[\u001b[0m\u001b[0mi\u001b[0m\u001b[1;33m]\u001b[0m\u001b[1;33m,\u001b[0m \u001b[0mdetector\u001b[0m\u001b[1;33m[\u001b[0m\u001b[0mj\u001b[0m\u001b[1;33m]\u001b[0m\u001b[1;33m,\u001b[0m \u001b[0mechan\u001b[0m\u001b[1;33m[\u001b[0m\u001b[0mk\u001b[0m\u001b[1;33m]\u001b[0m\u001b[1;33m,\u001b[0m \u001b[0mplot\u001b[0m \u001b[1;33m=\u001b[0m \u001b[1;34m'yes!'\u001b[0m\u001b[1;33m)\u001b[0m\u001b[1;33m\u001b[0m\u001b[0m\n\u001b[0m",
      "\u001b[1;32m/home/tkili/Work/python/work_module.pyc\u001b[0m in \u001b[0;36mcurve_fit_plots\u001b[1;34m(self, day, detector_name, echan, data_type, plot, write)\u001b[0m\n\u001b[0;32m   1265\u001b[0m \u001b[1;33m\u001b[0m\u001b[0m\n\u001b[0;32m   1266\u001b[0m         \u001b[1;31m#calculate the sun data\u001b[0m\u001b[1;33m\u001b[0m\u001b[1;33m\u001b[0m\u001b[0m\n\u001b[1;32m-> 1267\u001b[1;33m         \u001b[0msun_data\u001b[0m \u001b[1;33m=\u001b[0m \u001b[0mcalculate\u001b[0m\u001b[1;33m.\u001b[0m\u001b[0msun_ang_bin\u001b[0m\u001b[1;33m(\u001b[0m\u001b[0mcalculate\u001b[0m\u001b[1;33m(\u001b[0m\u001b[1;33m)\u001b[0m\u001b[1;33m,\u001b[0m \u001b[0mdetector_name\u001b[0m\u001b[1;33m,\u001b[0m \u001b[0mday\u001b[0m\u001b[1;33m,\u001b[0m \u001b[0mbin_time_mid\u001b[0m\u001b[1;33m,\u001b[0m \u001b[0mdata_type\u001b[0m\u001b[1;33m)\u001b[0m\u001b[1;33m\u001b[0m\u001b[0m\n\u001b[0m\u001b[0;32m   1268\u001b[0m         \u001b[0msun_ang_bin\u001b[0m \u001b[1;33m=\u001b[0m \u001b[0msun_data\u001b[0m\u001b[1;33m[\u001b[0m\u001b[1;36m0\u001b[0m\u001b[1;33m]\u001b[0m\u001b[1;33m\u001b[0m\u001b[0m\n\u001b[0;32m   1269\u001b[0m         \u001b[0msun_ang_bin\u001b[0m \u001b[1;33m=\u001b[0m \u001b[0mcalculate\u001b[0m\u001b[1;33m.\u001b[0m\u001b[0mang_eff\u001b[0m\u001b[1;33m(\u001b[0m\u001b[0mcalculate\u001b[0m\u001b[1;33m(\u001b[0m\u001b[1;33m)\u001b[0m\u001b[1;33m,\u001b[0m \u001b[0msun_ang_bin\u001b[0m\u001b[1;33m,\u001b[0m \u001b[0mechan\u001b[0m\u001b[1;33m)\u001b[0m\u001b[1;33m[\u001b[0m\u001b[1;36m0\u001b[0m\u001b[1;33m]\u001b[0m\u001b[1;33m\u001b[0m\u001b[0m\n",
      "\u001b[1;32m/home/tkili/Work/python/work_module.pyc\u001b[0m in \u001b[0;36msun_ang_bin\u001b[1;34m(self, detector_name, day, bin_time_mid, data_type)\u001b[0m\n\u001b[0;32m   3349\u001b[0m \u001b[1;33m\u001b[0m\u001b[0m\n\u001b[0;32m   3350\u001b[0m         \u001b[1;31m#get the sun data\u001b[0m\u001b[1;33m\u001b[0m\u001b[1;33m\u001b[0m\u001b[0m\n\u001b[1;32m-> 3351\u001b[1;33m         \u001b[0mdata_sun\u001b[0m \u001b[1;33m=\u001b[0m \u001b[0mcalculate\u001b[0m\u001b[1;33m.\u001b[0m\u001b[0msun_pos_bin\u001b[0m\u001b[1;33m(\u001b[0m\u001b[0mcalculate\u001b[0m\u001b[1;33m(\u001b[0m\u001b[1;33m)\u001b[0m\u001b[1;33m,\u001b[0m \u001b[0mday\u001b[0m\u001b[1;33m,\u001b[0m \u001b[0mbin_time_mid\u001b[0m\u001b[1;33m,\u001b[0m \u001b[0mdetector_name\u001b[0m\u001b[1;33m,\u001b[0m \u001b[0mdata_type\u001b[0m\u001b[1;33m)\u001b[0m\u001b[1;33m\u001b[0m\u001b[0m\n\u001b[0m\u001b[0;32m   3352\u001b[0m         \u001b[0msun_pos_bin\u001b[0m \u001b[1;33m=\u001b[0m \u001b[0mdata_sun\u001b[0m\u001b[1;33m[\u001b[0m\u001b[1;36m0\u001b[0m\u001b[1;33m]\u001b[0m\u001b[1;33m\u001b[0m\u001b[0m\n\u001b[0;32m   3353\u001b[0m         \u001b[0msun_rad_bin\u001b[0m \u001b[1;33m=\u001b[0m \u001b[0mdata_sun\u001b[0m\u001b[1;33m[\u001b[0m\u001b[1;36m1\u001b[0m\u001b[1;33m]\u001b[0m\u001b[1;33m\u001b[0m\u001b[0m\n",
      "\u001b[1;32m/home/tkili/Work/python/work_module.pyc\u001b[0m in \u001b[0;36msun_pos_bin\u001b[1;34m(self, day, bin_time_mid, detector_name, data_type)\u001b[0m\n\u001b[0;32m   3456\u001b[0m         \u001b[0msun_dec_bin\u001b[0m \u001b[1;33m=\u001b[0m \u001b[1;33m[\u001b[0m\u001b[1;33m]\u001b[0m\u001b[1;33m\u001b[0m\u001b[0m\n\u001b[0;32m   3457\u001b[0m         \u001b[1;32mfor\u001b[0m \u001b[0mi\u001b[0m \u001b[1;32min\u001b[0m \u001b[0mrange\u001b[0m\u001b[1;33m(\u001b[0m\u001b[1;36m0\u001b[0m\u001b[1;33m,\u001b[0m \u001b[0mlen\u001b[0m\u001b[1;33m(\u001b[0m\u001b[0msat_time_bin\u001b[0m\u001b[1;33m)\u001b[0m\u001b[1;33m)\u001b[0m\u001b[1;33m:\u001b[0m\u001b[1;33m\u001b[0m\u001b[0m\n\u001b[1;32m-> 3458\u001b[1;33m             \u001b[0msun\u001b[0m\u001b[1;33m.\u001b[0m\u001b[0mcompute\u001b[0m\u001b[1;33m(\u001b[0m\u001b[0msat_time_bin\u001b[0m\u001b[1;33m[\u001b[0m\u001b[0mi\u001b[0m\u001b[1;33m]\u001b[0m\u001b[1;33m)\u001b[0m \u001b[1;31m#generate the sun information from the ephem module for the sat_time[i]\u001b[0m\u001b[1;33m\u001b[0m\u001b[0m\n\u001b[0m\u001b[0;32m   3459\u001b[0m             \u001b[0msun_ra_bin\u001b[0m\u001b[1;33m.\u001b[0m\u001b[0mappend\u001b[0m\u001b[1;33m(\u001b[0m\u001b[0msun\u001b[0m\u001b[1;33m.\u001b[0m\u001b[0mra\u001b[0m\u001b[1;33m)\u001b[0m \u001b[1;31m#add to the right ascension vector\u001b[0m\u001b[1;33m\u001b[0m\u001b[0m\n\u001b[0;32m   3460\u001b[0m             \u001b[0msun_dec_bin\u001b[0m\u001b[1;33m.\u001b[0m\u001b[0mappend\u001b[0m\u001b[1;33m(\u001b[0m\u001b[0msun\u001b[0m\u001b[1;33m.\u001b[0m\u001b[0mdec\u001b[0m\u001b[1;33m)\u001b[0m \u001b[1;31m#add to the declination vector\u001b[0m\u001b[1;33m\u001b[0m\u001b[0m\n",
      "\u001b[1;31mKeyboardInterrupt\u001b[0m: "
     ]
    }
   ],
   "source": [
    "day = np.array([140611, 140102, 111209, 101225, '091024'])\n",
    "#day = np.array(['091024', 101225, 111209, 140102, 140611, 150914, 150926]) #ULGRBs\n",
    "detector = np.array(['n0', 'n1', 'n2', 'n3', 'n4', 'n5', 'n6', 'n7', 'n8', 'n9', 'na', 'nb'])\n",
    "#echan = np.array([2, 3, 4, 5, 6])\n",
    "echan = np.array([0, 1, 2, 3, 4, 5, 6, 7])\n",
    "\n",
    "#if len(day) == 1:\n",
    "#    for j in range(0, len(detector)):\n",
    "#        for k in range(0,len(echan)):\n",
    "#            calc.curve_fit_plots(day, detector[j], echan[k])\n",
    "#else:\n",
    "for i in range(0, len(day)):\n",
    "    print day[i]\n",
    "    for j in range(0, len(detector)):\n",
    "        print detector[j]\n",
    "        for k in range(0, len(echan)):\n",
    "            print echan[k]\n",
    "            calc.curve_fit_plots(day[i], detector[j], echan[k], plot = 'yes!')"
   ]
  }
 ],
 "metadata": {
  "kernelspec": {
   "display_name": "Python 2",
   "language": "python",
   "name": "python2"
  },
  "language_info": {
   "codemirror_mode": {
    "name": "ipython",
    "version": 2
   },
   "file_extension": ".py",
   "mimetype": "text/x-python",
   "name": "python",
   "nbconvert_exporter": "python",
   "pygments_lexer": "ipython2",
   "version": "2.7.6"
  }
 },
 "nbformat": 4,
 "nbformat_minor": 0
}
