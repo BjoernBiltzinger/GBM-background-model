{
 "cells": [
  {
   "cell_type": "code",
   "execution_count": 1,
   "metadata": {
    "collapsed": false
   },
   "outputs": [],
   "source": [
    "#!/usr/bin python2.7\n",
    "\n",
    "from astropy.io       import fits\n",
    "from astropy.table    import Table\n",
    "from astropy.time     import Time\n",
    "from datetime         import date\n",
    "from datetime         import datetime\n",
    "import ephem\n",
    "import fileinput\n",
    "import getpass\n",
    "import math\n",
    "import matplotlib.pyplot                   as plt\n",
    "import matplotlib                          as mpl\n",
    "import numpy                               as np\n",
    "from numpy            import linalg        as LA\n",
    "import os\n",
    "import pyfits\n",
    "import scipy.optimize                      as optimization\n",
    "from scipy            import integrate\n",
    "from scipy            import interpolate\n",
    "from scipy.optimize   import curve_fit\n",
    "import subprocess\n",
    "from subprocess       import Popen, PIPE\n",
    "import urllib2\n",
    "from work_module      import calculate\n",
    "from work_module      import detector\n",
    "from work_module      import readfile\n",
    "from work_module      import writefile\n",
    "calc = calculate()\n",
    "det = detector()\n",
    "rf = readfile()\n",
    "wf = writefile()"
   ]
  },
  {
   "cell_type": "code",
   "execution_count": null,
   "metadata": {
    "collapsed": false,
    "scrolled": true
   },
   "outputs": [
    {
     "name": "stdout",
     "output_type": "stream",
     "text": [
      "101225\n",
      "n0\n",
      "0\n",
      "Making New Directory\n"
     ]
    }
   ],
   "source": [
    "#### alte in Ordner mit entsprechender Anzahl verschieben! ####\n",
    "\n",
    "day = np.array([101225, 111209])\n",
    "detector = np.array(['n0', 'n2', 'n3', 'n5', 'n8', 'nb'])\n",
    "#detector = np.array(['n5'])\n",
    "#echan = np.array([2, 3, 4, 5, 6])\n",
    "echan = np.array([0, 1, 2, 3, 4, 5, 6, 7])\n",
    "\n",
    "#if len(day) == 1:\n",
    "#    for j in range(0, len(detector)):\n",
    "#        for k in range(0,len(echan)):\n",
    "#            calc.curve_fit_plots(day, detector[j], echan[k])\n",
    "#else:\n",
    "for i in range(0, len(day)):\n",
    "    print day[i]\n",
    "    for j in range(0, len(detector)):\n",
    "        print detector[j]\n",
    "        for k in range(0, len(echan)):\n",
    "            print echan[k]\n",
    "            calc.curve_fit_plots(day[i], detector[j], echan[k], plot = 'yes!')"
   ]
  }
 ],
 "metadata": {
  "kernelspec": {
   "display_name": "Python 2",
   "language": "python",
   "name": "python2"
  },
  "language_info": {
   "codemirror_mode": {
    "name": "ipython",
    "version": 2
   },
   "file_extension": ".py",
   "mimetype": "text/x-python",
   "name": "python",
   "nbconvert_exporter": "python",
   "pygments_lexer": "ipython2",
   "version": "2.7.6"
  }
 },
 "nbformat": 4,
 "nbformat_minor": 0
}
