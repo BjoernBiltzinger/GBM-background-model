{
 "cells": [
  {
   "cell_type": "code",
   "execution_count": null,
   "metadata": {
    "collapsed": false
   },
   "outputs": [],
   "source": [
    "#%matplotlib inline\n",
    "#%pylab inline"
   ]
  },
  {
   "cell_type": "code",
   "execution_count": 100,
   "metadata": {
    "collapsed": false,
    "scrolled": true
   },
   "outputs": [],
   "source": [
    "#!/usr/bin python2.7\n",
    "\n",
    "from astropy.io       import fits\n",
    "from astropy.table    import Table\n",
    "from astropy.time     import Time\n",
    "from datetime         import date\n",
    "from datetime         import datetime\n",
    "import ephem\n",
    "import fileinput\n",
    "import getpass\n",
    "import math\n",
    "import matplotlib.pyplot                   as plt\n",
    "import matplotlib                          as mpl\n",
    "import numpy                               as np\n",
    "from numpy            import linalg        as LA\n",
    "import os\n",
    "import pyfits\n",
    "import scipy.optimize                      as optimization\n",
    "from scipy            import integrate\n",
    "from scipy            import interpolate\n",
    "from scipy.optimize   import curve_fit\n",
    "import subprocess\n",
    "from subprocess       import Popen, PIPE\n",
    "import urllib2\n",
    "from work_module      import calculate\n",
    "from work_module      import detector\n",
    "from work_module      import readfile\n",
    "from work_module      import writefile\n",
    "calc = calculate()\n",
    "det = detector()\n",
    "rf = readfile()\n",
    "wf = writefile()\n",
    "\n",
    "#docstrings of the different self-made classes within the self-made module\n",
    "#cdoc = calc.__doc__\n",
    "#ddoc = det.__doc__\n",
    "#rdoc = rf.__doc__\n",
    "\n",
    "\n",
    "\n",
    "day = 150321\n",
    "detector = det.n5\n",
    "data_type = 'ctime'\n",
    "year = int('20' + str(day)[0:2])\n",
    "\n",
    "#get the iso-date-format from the day\n",
    "date = datetime(year, int(str(day)[2:4]), int(str(day)[4:6]))\n",
    "\n",
    "#get the ordinal indicator for the date\n",
    "ordinal = lambda n: \"%d%s\" % (n,\"tsnrhtdd\"[(n/10%10!=1)*(n%10<4)*n%10::4])\n",
    "\n",
    "#read the measurement data\n",
    "ctime_data = rf.ctime(detector, day)\n",
    "echan = ctime_data[0]\n",
    "total_counts = ctime_data[1]\n",
    "echan_counts = ctime_data[2]\n",
    "total_rate = ctime_data[3]\n",
    "echan_rate = ctime_data[4]\n",
    "bin_time = ctime_data[5]\n",
    "good_time = ctime_data[6]\n",
    "exptime = ctime_data[7]\n",
    "bin_time_mid = np.array((bin_time[:,0]+bin_time[:,1])/2)\n",
    "\n",
    "total_rate = np.sum(echan_rate[1:-2], axis = 0)\n",
    "\n",
    "#read the satellite data\n",
    "sat_data = rf.poshist_bin(day, bin_time_mid, detector, data_type)\n",
    "sat_time_bin = sat_data[0]\n",
    "sat_pos_bin = sat_data[1]\n",
    "sat_lat_bin = sat_data[2]\n",
    "sat_lon_bin = sat_data[3]\n",
    "sat_q_bin = sat_data[4]\n",
    "\n",
    "#calculate the sun data\n",
    "sun_data = calc.sun_ang_bin(detector, day, bin_time_mid, data_type)\n",
    "sun_ang_bin0 = sun_data[0]\n",
    "sun_rad = sun_data[2]\n",
    "sun_ra = sun_rad[:,0]\n",
    "sun_dec = sun_rad[:,1]\n",
    "sun_occ = calc.src_occultation_bin(day, sun_ra, sun_dec, bin_time_mid)[0]\n",
    "\n",
    "#calculate the earth data\n",
    "earth_data = calc.earth_ang_bin(detector, day, bin_time_mid, data_type)\n",
    "earth_ang_bin0 = earth_data[0]\n",
    "#earth_ang_bin = calc.ang_eff(earth_ang_bin, echan)[0]\n",
    "\n",
    "\n",
    "#read the SFL data\n",
    "flares = rf.flares(year)\n",
    "flares_day = flares[0]\n",
    "flares_time = flares[1]\n",
    "if np.any(flares_day == day) == True:\n",
    "    flares_today = flares_time[:,np.where(flares_day == day)]\n",
    "    flares_today = np.squeeze(flares_today, axis=(1,))/3600.\n",
    "else:\n",
    "    flares_today = np.array(-5)\n",
    "\n",
    "#read the mcilwain parameter data\n",
    "sat_time = rf.poshist(day)[0]\n",
    "lat_data = rf.mcilwain(day)\n",
    "mc_b = lat_data[1]\n",
    "mc_l = lat_data[2]\n",
    "\n",
    "mc_b = calc.intpol(mc_b, day, 0, sat_time, bin_time_mid)[0]\n",
    "mc_l = calc.intpol(mc_l, day, 0, sat_time, bin_time_mid)[0]\n",
    "\n",
    "magnetic = mc_l\n",
    "magnetic = magnetic - np.mean(magnetic, dtype=np.float64)\n",
    "\n",
    "#constant function corresponding to the diffuse y-ray background\n",
    "cgb = np.ones(len(total_rate))\n",
    "\n",
    "#counts[120000:] = 0\n"
   ]
  },
  {
   "cell_type": "code",
   "execution_count": 101,
   "metadata": {
    "collapsed": false,
    "scrolled": false
   },
   "outputs": [
    {
     "name": "stdout",
     "output_type": "stream",
     "text": [
      "1\n",
      "18996\n",
      "38466\n",
      "183216\n",
      "202460\n",
      "219890\n",
      "236760\n",
      "253875\n",
      "271849\n",
      "290444\n"
     ]
    }
   ],
   "source": [
    "saa_exits = [0]\n",
    "for i in range(1, len(total_rate)):\n",
    "    if np.logical_and(total_rate[i-1] == 0, total_rate[i] != 0):\n",
    "        print i\n",
    "        saa_exits.append(i)\n",
    "saa_exits = np.array(saa_exits)\n",
    "\n",
    "if saa_exits[1] - saa_exits[0] < 10:\n",
    "    saa_exits = np.delete(saa_exits, 0)"
   ]
  },
  {
   "cell_type": "code",
   "execution_count": 102,
   "metadata": {
    "collapsed": true
   },
   "outputs": [],
   "source": [
    "#def exp_func(x, a, b, c):\n",
    "#    return a*np.exp(-b*x) + c\n",
    "def exp_func(x, a, b, i, addition):\n",
    "#    if saa_exits[i] == 0:\n",
    "#        addition = 0\n",
    "#    elif saa_exits[i] < 200:\n",
    "#        addition = 10\n",
    "#    else:\n",
    "#        addition = 9\n",
    "    x_func = x[saa_exits[i]+math.fabs(addition):] - x[saa_exits[i]+math.fabs(addition)]\n",
    "    func = math.fabs(a)*np.exp(-math.fabs(b)*x_func)\n",
    "    zeros = np.zeros(len(x))\n",
    "    zeros[saa_exits[i]+addition:] = func\n",
    "    zeros[np.where(total_rate==0)] = 0\n",
    "    return zeros"
   ]
  },
  {
   "cell_type": "code",
   "execution_count": 103,
   "metadata": {
    "collapsed": false
   },
   "outputs": [],
   "source": [
    "deaths = len(saa_exits)\n",
    "\n",
    "exp = []\n",
    "for i in range(0, deaths):\n",
    "    exp = np.append(exp, [40., 0.001])"
   ]
  },
  {
   "cell_type": "code",
   "execution_count": 104,
   "metadata": {
    "collapsed": false,
    "scrolled": true
   },
   "outputs": [],
   "source": [
    "def fit_function(x, a, b, c, d, addition, exp1, exp2, deaths):\n",
    "        this_is_it = a*cgb + b*magnetic + c*earth_ang_bin + d*sun_ang_bin\n",
    "        for i in range(0, deaths):\n",
    "            this_is_it = np.add(this_is_it, exp_func(x, exp1[i], exp2[i], i, addition))\n",
    "        return this_is_it\n",
    "\n",
    "def wrapper_fit_function(x, deaths, a, b, c, d, addition, *args):\n",
    "    exp1 = args[::2]\n",
    "    exp2 = args[1::2]\n",
    "    return fit_function(x, a, b, c, d, addition, np.fabs(exp1), np.fabs(exp2), deaths)\n",
    "\n",
    "x0 = np.append(np.array([1300., 20., -12., -1., 5]), exp)"
   ]
  },
  {
   "cell_type": "code",
   "execution_count": 105,
   "metadata": {
    "collapsed": false
   },
   "outputs": [
    {
     "name": "stderr",
     "output_type": "stream",
     "text": [
      "/usr/local/lib/python2.7/dist-packages/ipykernel/__main__.py:10: DeprecationWarning: using a non-integer number instead of an integer will result in an error in the future\n",
      "/usr/local/lib/python2.7/dist-packages/ipykernel/__main__.py:13: DeprecationWarning: using a non-integer number instead of an integer will result in an error in the future\n"
     ]
    },
    {
     "name": "stdout",
     "output_type": "stream",
     "text": [
      "0\n",
      "1\n",
      "2\n",
      "3\n",
      "4\n",
      "5\n",
      "6\n",
      "7\n"
     ]
    }
   ],
   "source": [
    "coeff = []\n",
    "\n",
    "for i in range(0, 8):\n",
    "    echan = i #define which energy-channels one wants to look at\n",
    "    counts = echan_rate[echan]\n",
    "    #counts = total_rate\n",
    "    \n",
    "    earth_ang_bin = calc.earth_occ_eff(earth_ang_bin0, echan)\n",
    "    sun_ang_bin = calc.ang_eff(sun_ang_bin0, echan)[0]\n",
    "    \n",
    "    #counts[120000:] = 0\n",
    "    cgb[np.where(total_rate == 0)] = 0\n",
    "    earth_ang_bin[np.where(total_rate == 0)] = 0\n",
    "    sun_ang_bin[np.where(total_rate == 0)] = 0\n",
    "    sun_ang_bin[np.where(sun_occ == 0)] = 0\n",
    "    magnetic[np.where(total_rate == 0)] = 0\n",
    "    \n",
    "    #remove vertical movement from scaling sun_ang_bin\n",
    "    sun_ang_bin[sun_ang_bin>0] = sun_ang_bin[sun_ang_bin>0] - np.min(sun_ang_bin[sun_ang_bin>0])\n",
    "    \n",
    "    sigma = np.array((counts + 1)**(0.5))\n",
    "    \n",
    "    fit_results = optimization.curve_fit(lambda x, a, b, c, d, addition, *args: wrapper_fit_function(x, deaths, a, b, c, d, addition, *args), bin_time_mid, counts, x0, sigma, maxfev = 100000)\n",
    "    coeff.append(fit_results[0])\n",
    "    \n",
    "    print i\n",
    "\n",
    "coeff = np.array(coeff)"
   ]
  },
  {
   "cell_type": "code",
   "execution_count": 106,
   "metadata": {
    "collapsed": false
   },
   "outputs": [
    {
     "name": "stdout",
     "output_type": "stream",
     "text": [
      "CGB coefficient: [  95.38883291  395.15717745  236.89920487  159.34411703  144.98154884\n",
      "   32.19123406   57.03288565   17.72405294]\n",
      "Magnetic field coefficient: [ 32.08754112  58.33787752  26.17593309  44.39611544  89.43221113\n",
      "  26.65885151  96.46799709  20.00702694]\n",
      "Earth angle coefficient: [ -87.50037448 -338.18350466 -123.99253677  -34.67571748    5.21544042\n",
      "    4.10212981   12.34203085   -1.30796116]\n",
      "Sun angle coefficient: [-0.10889713 -0.17906597 -0.21260152 -0.23060225 -0.43925053 -0.10518535\n",
      " -0.38902744 -0.14140217]\n",
      "Addition:  [ 5.  5.  5.  5.  5.  5.  5.  5.]\n"
     ]
    }
   ],
   "source": [
    "a = coeff[:,0]\n",
    "b = coeff[:,1]\n",
    "c = coeff[:,2]\n",
    "d = coeff[:,3]\n",
    "addition = coeff[:,4]\n",
    "exp1 = coeff[:,5::2]\n",
    "exp2 = coeff[:,6::2]\n",
    "\n",
    "print 'CGB coefficient:',a\n",
    "print 'Magnetic field coefficient:',b\n",
    "print 'Earth angle coefficient:',c\n",
    "print 'Sun angle coefficient:',d\n",
    "print 'Addition: ', addition\n",
    "\n",
    "#fit_curve = fit_function(bin_time_mid, a, b, c, d, exp1, exp2, deaths)"
   ]
  },
  {
   "cell_type": "code",
   "execution_count": 107,
   "metadata": {
    "collapsed": false
   },
   "outputs": [],
   "source": [
    "x = np.array([8, 19, 38, 75, 198, 417, 762, 1492])\n",
    "\n",
    "plt.xlabel('Energy in keV')\n",
    "plt.ylabel('Coefficient value')\n",
    "\n",
    "plt.plot(x, a, 'b-', label = 'Cosmic y-ray background')\n",
    "plt.plot(x, b, 'r-', label = 'Magnetic field')\n",
    "plt.plot(x, c, 'c-', label = 'Earth occultation')\n",
    "plt.plot(x, d, 'y-', label = 'Sun angle')\n",
    "\n",
    "plt.legend()\n",
    "\n",
    "plt.show()"
   ]
  },
  {
   "cell_type": "code",
   "execution_count": 108,
   "metadata": {
    "collapsed": true
   },
   "outputs": [],
   "source": [
    "x = np.array([8, 19, 38, 75, 198, 417, 762, 1492])\n",
    "\n",
    "plt.xlabel('Energy in keV')\n",
    "plt.ylabel('Coefficient refence value')\n",
    "\n",
    "plt.plot(x, a/a[2], 'b-', label = 'Cosmic y-ray background')\n",
    "plt.plot(x, b/b[2], 'r-', label = 'Magnetic field')\n",
    "plt.plot(x, c/c[2], 'c-', label = 'Earth occultation')\n",
    "plt.plot(x, d/d[2], 'y-', label = 'Sun angle')\n",
    "\n",
    "plt.legend()\n",
    "\n",
    "plt.show()"
   ]
  },
  {
   "cell_type": "code",
   "execution_count": 109,
   "metadata": {
    "collapsed": false,
    "scrolled": true
   },
   "outputs": [
    {
     "name": "stdout",
     "output_type": "stream",
     "text": [
      "detector:  n5\n",
      "CGB coefficient: [ 0.40265577  1.66803927  1.          0.67262411  0.61199677  0.13588578\n",
      "  0.24074748  0.07481685]\n",
      "Magnetic field coefficient: [ 1.22584135  2.22868378  1.          1.6960662   3.41658159  1.01844895\n",
      "  3.68536994  0.76432908]\n",
      "Earth angle coefficient: [ 0.70569065  2.72745049  1.          0.27965971 -0.04206254 -0.03308368\n",
      " -0.0995385   0.01054871]\n",
      "Sun angle coefficient: [ 0.51221237  0.84226099  1.          1.08466888  2.06607427  0.4947535\n",
      "  1.82984318  0.66510421]\n"
     ]
    }
   ],
   "source": [
    "print 'detector: ',detector.__name__\n",
    "print 'CGB coefficient:',a/a[2]\n",
    "print 'Magnetic field coefficient:',b/b[2]\n",
    "print 'Earth angle coefficient:',c/c[2]\n",
    "print 'Sun angle coefficient:',d/d[2]"
   ]
  },
  {
   "cell_type": "code",
   "execution_count": null,
   "metadata": {
    "collapsed": false
   },
   "outputs": [],
   "source": [
    "residual_curve = counts - fit_curve\n",
    "plt.plot(bin_time_mid - bin_time_mid[0], residual_curve, 'b-')"
   ]
  },
  {
   "cell_type": "code",
   "execution_count": null,
   "metadata": {
    "collapsed": false
   },
   "outputs": [],
   "source": [
    "#####plot-algorhythm#####\n",
    "#convert the x-axis into hours of the day\n",
    "plot_time_bin_date = calc.met_to_date(bin_time_mid)[0]\n",
    "plot_time_bin = (plot_time_bin_date - calc.day_to_met(day)[1])*24#Time of day in hours\n",
    "plot_time_sat_date = calc.met_to_date(sat_time_bin)[0]\n",
    "plot_time_sat = (plot_time_sat_date - calc.day_to_met(day)[1])*24#Time of day in hours\n",
    "\n",
    "\n",
    "###plot each on the same axis as converted to counts###\n",
    "fig, ax1 = plt.subplots()\n",
    "\n",
    "plot1 = ax1.plot(plot_time_bin, counts, 'b-', label = 'Countrate')\n",
    "plot2 = ax1.plot(plot_time_bin, fit_curve, 'r-', label = 'Fit')\n",
    "plot3 = ax1.plot(plot_time_sat, d*sun_ang_bin, 'y-', label = 'Sun angle')\n",
    "plot4 = ax1.plot(plot_time_sat, c*earth_ang_bin, 'c-', label = 'Earth angle')\n",
    "plot5 = ax1.plot(plot_time_sat, b*magnetic, 'g-', label = 'Magnetic field')\n",
    "plot6 = ax1.plot(plot_time_sat, a*cgb, 'b--', label = 'Cosmic y-ray background')\n",
    "#plot7 = ax1.plot(plot_time_sat, j2000_orb, 'y--', label = 'J2000 orbit')\n",
    "#plot8 = ax1.plot(plot_time_sat, geo_orb, 'g--', label = 'Geographical orbit')\n",
    "\n",
    "#plot vertical lines for the solar flares of the day\n",
    "if np.all(flares_today != -5):\n",
    "    if len(flares_today[0]) > 1:\n",
    "        for i in range(0, len(flares_today[0])):\n",
    "            plt.axvline(x = flares_today[0,i], ymin = 0., ymax = 1., linewidth=2, color = 'grey')\n",
    "            plt.axvline(x = flares_today[1,i], ymin = 0., ymax = 1., color = 'grey', linestyle = '--')\n",
    "    else:\n",
    "        plt.axvline(x = flares_today[0], ymin = 0., ymax = 1., linewidth=2, color = 'grey')\n",
    "        plt.axvline(x = flares_today[1], ymin = 0., ymax = 1., color = 'grey', linestyle = '--')\n",
    "\n",
    "plots = plot1 + plot2 + plot3 + plot4 + plot5 + plot6\n",
    "labels = [l.get_label() for l in plots]\n",
    "ax1.legend(plots, labels, loc=1)\n",
    "\n",
    "ax1.grid()\n",
    "\n",
    "ax1.set_xlabel('Time of day in 24h')\n",
    "ax1.set_ylabel('Countrate')\n",
    "\n",
    "#ax1.set_xlim([9.84, 9.85])\n",
    "ax1.set_xlim([-0.5, 24.5])\n",
    "ax1.set_ylim([-500, 1500])\n",
    "\n",
    "plt.title(data_type + '-countrate-fit of the ' + detector.__name__ + '-detector on the ' + ordinal(int(str(day)[4:6])) + ' ' + date.strftime('%B')[0:3] + ' ' + str(year))\n",
    "\n",
    "plt.show()\n",
    "\n",
    "#savefig(\"/home/tkili/Work/saa_plot.pdf\",bbox_inches=\"tight\")"
   ]
  },
  {
   "cell_type": "code",
   "execution_count": null,
   "metadata": {
    "collapsed": false
   },
   "outputs": [],
   "source": [
    "###plot residual noise of the fitting algorithm###\n",
    "plt.plot(plot_time_bin, counts - fit_curve, 'b-')\n",
    "\n",
    "plt.xlabel('Time of day in 24h')\n",
    "plt.ylabel('Residual noise')\n",
    "\n",
    "plt.grid()\n",
    "\n",
    "plt.title(data_type + '-counts-fit residuals of the ' + detector.__name__ + '-detector on the ' + ordinal(int(str(day)[4:6])) + ' ' + date.strftime('%B')[0:3] + ' ' + str(year))\n",
    "\n",
    "plt.ylim([-600, 600])\n",
    "\n",
    "plt.show()\n",
    "\n",
    "#savefig(\"/home/tkili/Work/saa_plot.pdf\",bbox_inches=\"tight\")"
   ]
  }
 ],
 "metadata": {
  "kernelspec": {
   "display_name": "Python 2",
   "language": "python",
   "name": "python2"
  },
  "language_info": {
   "codemirror_mode": {
    "name": "ipython",
    "version": 2
   },
   "file_extension": ".py",
   "mimetype": "text/x-python",
   "name": "python",
   "nbconvert_exporter": "python",
   "pygments_lexer": "ipython2",
   "version": "2.7.6"
  }
 },
 "nbformat": 4,
 "nbformat_minor": 0
}
