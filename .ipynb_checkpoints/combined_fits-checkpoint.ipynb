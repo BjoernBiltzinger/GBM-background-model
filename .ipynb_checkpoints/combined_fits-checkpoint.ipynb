{
 "cells": [
  {
   "cell_type": "code",
   "execution_count": 1,
   "metadata": {
    "collapsed": false
   },
   "outputs": [],
   "source": [
    "#!/usr/bin python2.7\n",
    "\n",
    "from astropy.io       import fits\n",
    "from astropy.table    import Table\n",
    "from astropy.time     import Time\n",
    "from datetime         import date\n",
    "from datetime         import datetime\n",
    "import ephem\n",
    "import fileinput\n",
    "import getpass\n",
    "import math\n",
    "import matplotlib.pyplot                   as plt\n",
    "import matplotlib                          as mpl\n",
    "import numpy                               as np\n",
    "from numpy            import linalg        as LA\n",
    "import os\n",
    "import pyfits\n",
    "import scipy.optimize                      as optimization\n",
    "from scipy            import integrate\n",
    "from scipy            import interpolate\n",
    "from scipy.optimize   import curve_fit\n",
    "import subprocess\n",
    "from subprocess       import Popen, PIPE\n",
    "import urllib2\n",
    "from work_module      import calculate\n",
    "from work_module      import detector\n",
    "from work_module      import readfile\n",
    "from work_module      import writefile\n",
    "calc = calculate()\n",
    "det = detector()\n",
    "rf = readfile()\n",
    "wf = writefile()"
   ]
  },
  {
   "cell_type": "code",
   "execution_count": null,
   "metadata": {
    "collapsed": false
   },
   "outputs": [],
   "source": [
    "### 150926 ###\n",
    "\n",
    "day = np.array([150926])\n",
    "detectors = np.array(['n5', 'n8'])\n",
    "echans = np.array([1, 2])\n",
    "\n",
    "#time_int = np.array([9.746, 9.946])\n",
    "\n",
    "calc.curve_fit_analysis(day, detectors, echans, analysis = 'energychannels')\n",
    "calc.curve_fit_analysis(day, detectors, echans, analysis = 'detectors')\n",
    "calc.curve_fit_analysis(day, detectors, echans, analysis = 'both')"
   ]
  },
  {
   "cell_type": "code",
   "execution_count": null,
   "metadata": {
    "collapsed": false
   },
   "outputs": [],
   "source": [
    "### 150914 ###\n",
    "\n",
    "day = np.array([150914])\n",
    "detectors = np.array(['n0', 'n3', 'n6', 'n7', 'n8', 'n9'])\n",
    "#detectors = np.array(['n2', 'n5', 'na'])\n",
    "echans = np.array([1, 2, 3, 4])\n",
    "\n",
    "time_int = np.array([9.836, 9.856])\n",
    "#time_int = np.array([9.746, 9.946])\n",
    "burst = np.array([9.846049, 9.846160])\n",
    "#burst = np.array([9.846049])\n",
    "\n",
    "calc.curve_fit_analysis(day, detectors, echans, analysis = 'energychannels', timeframe = time_int, burst_time = burst)\n",
    "calc.curve_fit_analysis(day, detectors, echans, analysis = 'detectors', timeframe = time_int, burst_time = burst)\n",
    "calc.curve_fit_analysis(day, detectors, echans, analysis = 'both', timeframe = time_int, burst_time = burst)"
   ]
  },
  {
   "cell_type": "code",
   "execution_count": null,
   "metadata": {
    "collapsed": false
   },
   "outputs": [],
   "source": [
    "### 140611 ###\n",
    "\n",
    "day = np.array([140611])\n",
    "#detectors = np.array(['n0', 'n1', 'n2', 'n3', 'n4', 'n5'])\n",
    "detectors = np.array(['n5'])\n",
    "echans = np.array([1, 2, 3, 4, 5, 6, 7])\n",
    "\n",
    "#time_int = np.array([4.896, 4.916])\n",
    "time_int = np.array([4.706, 5.006])\n",
    "burst = np.array([4.90648687])\n",
    "\n",
    "#calc.curve_fit_analysis(day, detectors, echans, analysis = 'energychannels', timeframe = time_int, burst_time = burst)\n",
    "calc.curve_fit_analysis(day, detectors, echans, analysis = 'detectors', timeframe = time_int, burst_time = burst)\n",
    "#calc.curve_fit_analysis(day, detectors, echans, analysis = 'both', timeframe = time_int, burst_time = burst)"
   ]
  },
  {
   "cell_type": "code",
   "execution_count": null,
   "metadata": {
    "collapsed": false
   },
   "outputs": [],
   "source": [
    "### 140102 ### evtl. noch naechster Tag?!\n",
    "\n",
    "day = np.array([140102])\n",
    "detectors = np.array(['n0', 'n1', 'n3', 'n6', 'n7', 'n8', 'n9', 'na', 'nb'])\n",
    "echans = np.array([1, 2])\n",
    "\n",
    "time_int = np.array([20, 24.1])\n",
    "burst = np.array([21.29361])\n",
    "\n",
    "calc.curve_fit_analysis(day, detectors, echans, analysis = 'energychannels', timeframe = time_int, burst_time = burst)\n",
    "calc.curve_fit_analysis(day, detectors, echans, analysis = 'detectors', timeframe = time_int, burst_time = burst)\n",
    "calc.curve_fit_analysis(day, detectors, echans, analysis = 'both', timeframe = time_int, burst_time = burst)"
   ]
  },
  {
   "cell_type": "code",
   "execution_count": null,
   "metadata": {
    "collapsed": false
   },
   "outputs": [],
   "source": [
    "### 130925 ### evtl laenger?\n",
    "\n",
    "day = np.array([130925])\n",
    "detectors = np.array(['n0', 'n1', 'n3', 'n4', 'n6', 'n7', 'n8', 'n9', 'na', 'nb'])\n",
    "echans = np.array([1, 2])\n",
    "\n",
    "time_int = np.array([4.09, 4.29])\n",
    "burst = np.array([4.19])\n",
    "\n",
    "calc.curve_fit_analysis(day, detectors, echans, analysis = 'energychannels', timeframe = time_int, burst_time = burst)\n",
    "calc.curve_fit_analysis(day, detectors, echans, analysis = 'detectors', timeframe = time_int, burst_time = burst)\n",
    "calc.curve_fit_analysis(day, detectors, echans, analysis = 'both', timeframe = time_int, burst_time = burst)"
   ]
  },
  {
   "cell_type": "code",
   "execution_count": null,
   "metadata": {
    "collapsed": false
   },
   "outputs": [],
   "source": [
    "### 121027 ###\n",
    "\n",
    "day = np.array([121027])\n",
    "detectors = np.array(['n2', 'n5', 'n9', 'na', 'nb'])\n",
    "echans = np.array([1, 2])\n",
    "\n",
    "time_int = np.array([6, 18])\n",
    "burst = np.array([7.54139])\n",
    "\n",
    "calc.curve_fit_analysis(day, detectors, echans, analysis = 'energychannels', timeframe = time_int, burst_time = burst)\n",
    "calc.curve_fit_analysis(day, detectors, echans, analysis = 'detectors', timeframe = time_int, burst_time = burst)\n",
    "calc.curve_fit_analysis(day, detectors, echans, analysis = 'both', timeframe = time_int, burst_time = burst)"
   ]
  },
  {
   "cell_type": "code",
   "execution_count": 2,
   "metadata": {
    "collapsed": false
   },
   "outputs": [
    {
     "name": "stderr",
     "output_type": "stream",
     "text": [
      "work_module.py:1947: FutureWarning: elementwise comparison failed; returning scalar instead, but in the future will perform elementwise comparison\n",
      "  if burst_time != 'none':\n",
      "work_module.py:2038: FutureWarning: elementwise comparison failed; returning scalar instead, but in the future will perform elementwise comparison\n",
      "  if burst_time != 'none':\n",
      "work_module.py:2303: FutureWarning: elementwise comparison failed; returning scalar instead, but in the future will perform elementwise comparison\n",
      "  if burst_time != 'none':\n",
      "work_module.py:2393: FutureWarning: elementwise comparison failed; returning scalar instead, but in the future will perform elementwise comparison\n",
      "  if burst_time != 'none':\n",
      "work_module.py:2645: FutureWarning: elementwise comparison failed; returning scalar instead, but in the future will perform elementwise comparison\n",
      "  if burst_time != 'none':\n",
      "work_module.py:2737: FutureWarning: elementwise comparison failed; returning scalar instead, but in the future will perform elementwise comparison\n",
      "  if burst_time != 'none':\n"
     ]
    }
   ],
   "source": [
    "### 111209 ###\n",
    "\n",
    "day = np.array([111209])\n",
    "detectors = np.array(['n0', 'n1', 'n3', 'n4', 'n6', 'n7', 'n8', 'n9', 'na', 'nb'])\n",
    "echans = np.array([1, 2, 3, 4])\n",
    "\n",
    "#time_int = np.array([7.25, 8.1])\n",
    "time_int = np.array([6.367, 9.422])\n",
    "#burst = np.array([7.20222, 7.6050, 7.7578])\n",
    "burst = np.array([6.6744, 7.20222, 7.6050, 7.7578, 7.9939, 8.2300])\n",
    "\n",
    "calc.curve_fit_analysis(day, detectors, echans, analysis = 'energychannels', timeframe = time_int, burst_time = burst)\n",
    "calc.curve_fit_analysis(day, detectors, echans, analysis = 'detectors', timeframe = time_int, burst_time = burst)\n",
    "calc.curve_fit_analysis(day, detectors, echans, analysis = 'both', timeframe = time_int, burst_time = burst)"
   ]
  },
  {
   "cell_type": "code",
   "execution_count": null,
   "metadata": {
    "collapsed": false
   },
   "outputs": [],
   "source": [
    "### 101225 ### evtl. noch naechster Tag?!\n",
    "\n",
    "day = np.array([101225])\n",
    "detectors = np.array(['n3', 'n4', 'n6', 'n7', 'n8', 'nb'])\n",
    "echans = np.array([1, 2])\n",
    "\n",
    "time_int = np.array([17, 24.1])\n",
    "burst = np.array([18.62917])\n",
    "\n",
    "calc.curve_fit_analysis(day, detectors, echans, analysis = 'energychannels', timeframe = time_int, burst_time = burst)\n",
    "calc.curve_fit_analysis(day, detectors, echans, analysis = 'detectors', timeframe = time_int, burst_time = burst)\n",
    "calc.curve_fit_analysis(day, detectors, echans, analysis = 'both', timeframe = time_int, burst_time = burst)"
   ]
  },
  {
   "cell_type": "code",
   "execution_count": null,
   "metadata": {
    "collapsed": false
   },
   "outputs": [],
   "source": [
    "### 091024 ###\n",
    "\n",
    "day = np.array(['091024'])\n",
    "detectors = np.array(['n3', 'n4', 'n6', 'n7', 'n8', 'nb'])\n",
    "echans = np.array([1, 2])\n",
    "\n",
    "time_int = np.array([8, 10])\n",
    "burst = np.array([8.932908])\n",
    "\n",
    "calc.curve_fit_analysis(day, detectors, echans, analysis = 'energychannels', timeframe = time_int, burst_time = burst)\n",
    "calc.curve_fit_analysis(day, detectors, echans, analysis = 'detectors', timeframe = time_int, burst_time = burst)\n",
    "calc.curve_fit_analysis(day, detectors, echans, analysis = 'both', timeframe = time_int, burst_time = burst)"
   ]
  }
 ],
 "metadata": {
  "kernelspec": {
   "display_name": "Python 2",
   "language": "python",
   "name": "python2"
  },
  "language_info": {
   "codemirror_mode": {
    "name": "ipython",
    "version": 2
   },
   "file_extension": ".py",
   "mimetype": "text/x-python",
   "name": "python",
   "nbconvert_exporter": "python",
   "pygments_lexer": "ipython2",
   "version": "2.7.6"
  }
 },
 "nbformat": 4,
 "nbformat_minor": 0
}
