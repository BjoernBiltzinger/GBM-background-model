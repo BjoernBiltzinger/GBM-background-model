{
 "cells": [
  {
   "cell_type": "code",
   "execution_count": 1,
   "metadata": {
    "collapsed": true
   },
   "outputs": [],
   "source": [
    "#!/usr/bin python2.7\n",
    "\n",
    "from astropy.io       import fits\n",
    "from astropy.table    import Table\n",
    "from astropy.time     import Time\n",
    "from datetime         import date\n",
    "from datetime         import datetime\n",
    "import ephem\n",
    "import fileinput\n",
    "import getpass\n",
    "import math\n",
    "import matplotlib.pyplot                   as plt\n",
    "import matplotlib                          as mpl\n",
    "import numpy                               as np\n",
    "from numpy            import linalg        as LA\n",
    "import os\n",
    "import pyfits\n",
    "import scipy.optimize                      as optimization\n",
    "from scipy            import integrate\n",
    "from scipy            import interpolate\n",
    "from scipy.optimize   import curve_fit\n",
    "import subprocess\n",
    "from subprocess       import Popen, PIPE\n",
    "import urllib2\n",
    "from work_module      import calculate\n",
    "from work_module      import detector\n",
    "from work_module      import readfile\n",
    "from work_module      import writefile\n",
    "calc = calculate()\n",
    "det = detector()\n",
    "rf = readfile()\n",
    "wf = writefile()"
   ]
  },
  {
   "cell_type": "code",
   "execution_count": 5,
   "metadata": {
    "collapsed": false
   },
   "outputs": [
    {
     "name": "stdout",
     "output_type": "stream",
     "text": [
      "n0 :  45.7200010108\n",
      "n1 :  68.6761926305\n",
      "n2 :  115.110406609\n",
      "n3 :  33.4553241216\n",
      "n4 :  68.7770703484\n",
      "n5 :  93.9472439952\n",
      "n6 :  17.4705695699\n",
      "n7 :  29.4083445989\n",
      "n8 :  65.4933744928\n",
      "n9 :  66.0138883552\n",
      "na :  111.693835014\n",
      "nb :  85.9691861792\n"
     ]
    }
   ],
   "source": [
    "detectors = np.array(['n0', 'n1', 'n2', 'n3', 'n4', 'n5', 'n6', 'n7', 'n8', 'n9', 'na', 'nb'])\n",
    "#detectors = np.array(['n0', 'n1', 'n2', 'n3', 'n4', 'n5'])\n",
    "\n",
    "day = 150914\n",
    "burst_ra = 153.9\n",
    "burst_dec = -48.2\n",
    "\n",
    "start_time = 4.8\n",
    "end_time = 5.0\n",
    "\n",
    "v_line = 4.90648687098\n",
    "\n",
    "\n",
    "burst_occ = calc.src_occultation(day, burst_ra, burst_dec)[0]\n",
    "\n",
    "sun = calc.sun_pos(day)[0]\n",
    "burst_pos = np.array([np.cos(burst_ra*(2.*math.pi)/360.)*np.cos(burst_dec*(2.*math.pi)/360.), np.sin(burst_ra*(2.*math.pi)/360.)*np.cos(burst_dec*(2.*math.pi)/360.), np.sin(burst_dec*(2.*math.pi)/360.)], float) #unit-vector pointing to the burst location\n",
    "scalar_product = sun[0]*burst_pos[0] + sun[1]*burst_pos[1] + sun[2]*burst_pos[2]\n",
    "sun_ang = np.arccos(scalar_product)\n",
    "sun_ang = (sun_ang)*360./(2.*math.pi) #convert to degrees\n",
    "sun_ang = np.array(sun_ang)\n",
    "\n",
    "#print sun_ang\n",
    "\n",
    "sat_time = rf.poshist(day)[0]\n",
    "\n",
    "plot_time_sat_date = calc.met_to_date(sat_time)[0]\n",
    "plot_time_sat = (plot_time_sat_date - calc.day_to_met(day)[1])*24#Time of day in hours\n",
    "\n",
    "mpl.rcParams['axes.color_cycle'] = ['b', 'g', 'r', 'c', 'm', 'y', 'k']\n",
    "\n",
    "index = np.where(plot_time_sat > v_line)[0][0]\n",
    "\n",
    "for i in range(0, len(detectors)):\n",
    "    #print detectors[i]\n",
    "    det_data = calc.burst_ang(detectors[i], day, burst_ra, burst_dec)\n",
    "    det_ang = det_data[0]\n",
    "    \n",
    "    print detectors[i], ': ', det_ang[index]\n",
    "    #sat_time = det_data[1]\n",
    "    #det_ang[np.where(det_ang > 90.)] = 0.\n",
    "    \n",
    "    #plt.plot(plot_time_sat, det_ang, label = detectors[i])\n",
    "    \n",
    "#plt.axvline(x = v_line, ymin = 0., ymax = 1., linewidth=2, color = 'grey')\n",
    "\n",
    "#plt.plot(plot_time_sat, burst_occ, label = 'Earth-Occultation')    \n",
    "#plt.plot(plot_time_sat, sun_ang, 'b-.',label = 'Sun')    \n",
    "#plt.legend(fontsize=15)\n",
    "#plt.tick_params(axis='both', which='major', labelsize=15)\n",
    "\n",
    "#plt.xlabel('Daytime in 24h', fontsize=20)\n",
    "#plt.ylabel('Angle in degrees', fontsize=20)\n",
    "#plt.title('Winkelverhaeltnisse zwischen dem IceCube Neutrino-Event und den Fermi-Detektoren', fontsize=30)\n",
    "\n",
    "#plt.xlim([start_time, end_time])\n",
    "#plt.ylim([-10, 200])\n",
    "\n",
    "#plt.show()"
   ]
  },
  {
   "cell_type": "code",
   "execution_count": 7,
   "metadata": {
    "collapsed": false
   },
   "outputs": [
    {
     "name": "stdout",
     "output_type": "stream",
     "text": [
      "n0 :  149.472934664\n",
      "n1 :  167.191800557\n",
      "n2 :  139.707102178\n",
      "n3 :  107.396234603\n",
      "n4 :  68.6448578061\n",
      "n5 :  114.150617959\n",
      "n6 :  110.228303214\n",
      "n7 :  85.1546123827\n",
      "n8 :  40.2553298778\n",
      "n9 :  126.988408245\n",
      "na :  110.459428341\n",
      "nb :  65.4947809106\n"
     ]
    }
   ],
   "source": [
    "for detector in detectors:\n",
    "    earth_ang = calc.earth_ang(detector, day)[0]\n",
    "    earth_occ = calc.earth_occ_eff(earth_ang, echan)\n",
    "    \n",
    "    #print detector, ': ', earth_ang[index]\n",
    "    print detector, ': ', earth_occ[index]"
   ]
  }
 ],
 "metadata": {
  "kernelspec": {
   "display_name": "Python 2",
   "language": "python",
   "name": "python2"
  },
  "language_info": {
   "codemirror_mode": {
    "name": "ipython",
    "version": 2
   },
   "file_extension": ".py",
   "mimetype": "text/x-python",
   "name": "python",
   "nbconvert_exporter": "python",
   "pygments_lexer": "ipython2",
   "version": "2.7.6"
  }
 },
 "nbformat": 4,
 "nbformat_minor": 0
}
