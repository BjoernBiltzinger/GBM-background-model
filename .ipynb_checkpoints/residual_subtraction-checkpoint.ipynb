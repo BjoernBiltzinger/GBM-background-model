{
 "cells": [
  {
   "cell_type": "code",
   "execution_count": 1,
   "metadata": {
    "collapsed": true
   },
   "outputs": [],
   "source": [
    "#!/usr/bin python2.7\n",
    "\n",
    "from astropy.io       import fits\n",
    "from astropy.table    import Table\n",
    "from astropy.time     import Time\n",
    "from datetime         import date\n",
    "from datetime         import datetime\n",
    "import ephem\n",
    "import fileinput\n",
    "import getpass\n",
    "import math\n",
    "import matplotlib.pyplot                   as plt\n",
    "import matplotlib                          as mpl\n",
    "import numpy                               as np\n",
    "from numpy            import linalg        as LA\n",
    "import os\n",
    "import pyfits\n",
    "import scipy.optimize                      as optimization\n",
    "from scipy            import integrate\n",
    "from scipy            import interpolate\n",
    "from scipy.optimize   import curve_fit\n",
    "import subprocess\n",
    "from subprocess       import Popen, PIPE\n",
    "import urllib2\n",
    "from work_module      import calculate\n",
    "from work_module      import detector\n",
    "from work_module      import readfile\n",
    "from work_module      import writefile\n",
    "calc = calculate()\n",
    "det = detector()\n",
    "rf = readfile()\n",
    "wf = writefile()"
   ]
  },
  {
   "cell_type": "code",
   "execution_count": 16,
   "metadata": {
    "collapsed": true
   },
   "outputs": [],
   "source": [
    "day = 101225\n",
    "detector = 'n2'\n",
    "echan = 1\n",
    "data_type = 'ctime'\n",
    "sources_number1 = 18\n",
    "sources_number2 = 13"
   ]
  },
  {
   "cell_type": "code",
   "execution_count": 17,
   "metadata": {
    "collapsed": false
   },
   "outputs": [
    {
     "name": "stdout",
     "output_type": "stream",
     "text": [
      "6.37625508848\n"
     ]
    }
   ],
   "source": [
    "data1 = rf.fits_data(day, detector, echan, data_type, sources_number1)\n",
    "residuals1 = data1[0].astype(np.float)\n",
    "counts1 = data1[1].astype(np.float)\n",
    "fit_curve1 = data1[2].astype(np.float)\n",
    "cgb1 = data1[3].astype(np.float)\n",
    "magnetic1 = data1[4].astype(np.float)\n",
    "earth_ang_bin1 = data1[5].astype(np.float)\n",
    "sun_ang_bin1 = data1[6].astype(np.float)\n",
    "sources_fit_curve1 = data1[7].astype(np.float)\n",
    "plot_time_bin1 = data1[8].astype(np.float)\n",
    "plot_time_sat1 = data1[9].astype(np.float)\n",
    "fit_coeffs1 = data1[10].astype(np.float)\n",
    "a1 = fit_coeffs1[0]\n",
    "b1 = fit_coeffs1[1]\n",
    "c1 = fit_coeffs1[2]\n",
    "d1 = fit_coeffs1[3]\n",
    "sources_ang_bin1 = data1[11].astype(np.float)\n",
    "sources_names1 = data1[12]\n",
    "sources_coeff1 = data1[13].astype(np.float)\n",
    "\n",
    "print np.mean(residuals1)"
   ]
  },
  {
   "cell_type": "code",
   "execution_count": 14,
   "metadata": {
    "collapsed": false
   },
   "outputs": [
    {
     "name": "stdout",
     "output_type": "stream",
     "text": [
      "6.28282965423\n"
     ]
    }
   ],
   "source": [
    "data2 = rf.fits_data(day, detector, echan, data_type, sources_number2)\n",
    "residuals2 = data2[0].astype(np.float)\n",
    "counts2 = data2[1].astype(np.float)\n",
    "fit_curve2 = data2[2].astype(np.float)\n",
    "cgb2 = data2[3].astype(np.float)\n",
    "magnetic2 = data2[4].astype(np.float)\n",
    "earth_ang_bin2 = data2[5].astype(np.float)\n",
    "sun_ang_bin2 = data2[6].astype(np.float)\n",
    "sources_fit_curve2 = data2[7].astype(np.float)\n",
    "plot_time_bin2 = data2[8].astype(np.float)\n",
    "plot_time_sat2 = data2[9].astype(np.float)\n",
    "fit_coeffs2 = data2[10].astype(np.float)\n",
    "a2 = fit_coeffs2[0]\n",
    "b2 = fit_coeffs2[1]\n",
    "c2 = fit_coeffs2[2]\n",
    "d2 = fit_coeffs2[3]\n",
    "sources_ang_bin2 = data2[11].astype(np.float)\n",
    "sources_names2 = data2[12]\n",
    "sources_coeff2 = data2[13].astype(np.float)\n",
    "\n",
    "print np.mean(residuals2)"
   ]
  },
  {
   "cell_type": "code",
   "execution_count": 20,
   "metadata": {
    "collapsed": true
   },
   "outputs": [],
   "source": [
    "plt.plot(plot_time_sat1, residuals2 - residuals1, 'b-')\n",
    "plt.plot(plot_time_sat1, fit_curve1 - fit_curve2, 'r-')\n",
    "\n",
    "plt.grid()\n",
    "plt.show()"
   ]
  },
  {
   "cell_type": "code",
   "execution_count": null,
   "metadata": {
    "collapsed": true
   },
   "outputs": [],
   "source": []
  },
  {
   "cell_type": "code",
   "execution_count": null,
   "metadata": {
    "collapsed": true
   },
   "outputs": [],
   "source": []
  }
 ],
 "metadata": {
  "kernelspec": {
   "display_name": "Python 2",
   "language": "python",
   "name": "python2"
  },
  "language_info": {
   "codemirror_mode": {
    "name": "ipython",
    "version": 2
   },
   "file_extension": ".py",
   "mimetype": "text/x-python",
   "name": "python",
   "nbconvert_exporter": "python",
   "pygments_lexer": "ipython2",
   "version": "2.7.6"
  }
 },
 "nbformat": 4,
 "nbformat_minor": 0
}
