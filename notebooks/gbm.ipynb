{
 "cells": [
  {
   "cell_type": "markdown",
   "id": "bc61a2b7",
   "metadata": {},
   "source": [
    "# Setup for GBM"
   ]
  },
  {
   "cell_type": "markdown",
   "id": "384c1f63",
   "metadata": {},
   "source": [
    "## Imports"
   ]
  },
  {
   "cell_type": "code",
   "execution_count": 1,
   "id": "9d353e5f",
   "metadata": {
    "execution": {
     "iopub.execute_input": "2023-05-12T11:54:52.373064Z",
     "iopub.status.busy": "2023-05-12T11:54:52.372523Z",
     "iopub.status.idle": "2023-05-12T11:55:00.858005Z",
     "shell.execute_reply": "2023-05-12T11:55:00.857215Z"
    }
   },
   "outputs": [
    {
     "name": "stderr",
     "output_type": "stream",
     "text": [
      "/opt/hostedtoolcache/Python/3.9.16/x64/lib/python3.9/site-packages/numba/core/decorators.py:262: NumbaDeprecationWarning: \u001b[1mnumba.generated_jit is deprecated. Please see the documentation at: https://numba.readthedocs.io/en/stable/reference/deprecation.html#deprecation-of-generated-jit for more information and advice on a suitable replacement.\u001b[0m\n",
      "  warnings.warn(msg, NumbaDeprecationWarning)\n"
     ]
    },
    {
     "name": "stderr",
     "output_type": "stream",
     "text": [
      "/opt/hostedtoolcache/Python/3.9.16/x64/lib/python3.9/site-packages/numba/core/decorators.py:262: NumbaDeprecationWarning: \u001b[1mnumba.generated_jit is deprecated. Please see the documentation at: https://numba.readthedocs.io/en/stable/reference/deprecation.html#deprecation-of-generated-jit for more information and advice on a suitable replacement.\u001b[0m\n",
      "  warnings.warn(msg, NumbaDeprecationWarning)\n"
     ]
    }
   ],
   "source": [
    "%matplotlib inline\n",
    "import numpy as np\n",
    "import matplotlib.pyplot as plt\n",
    "from jupyterthemes import jtplot\n",
    "\n",
    "jtplot.style(context=\"notebook\", fscale=1, grid=False)\n",
    "\n",
    "from astromodels import Powerlaw, Exponential_cutoff, Constant, Band\n",
    "from astromodels.utils.configuration import astromodels_config\n",
    "astromodels_config.modeling.ignore_parameter_bounds = True\n",
    "\n",
    "from gbmbkgpy.modeling.new_astromodels import SBPL\n",
    "\n",
    "from gbmbkgpy.data.gbm_data import GBMData\n",
    "\n",
    "from gbmbkgpy.geometry.gbm_geometry import GBMGeometryPosHist\n",
    "\n",
    "from gbmbkgpy.response.gbm_response import GBMResponseGenerator\n",
    "from gbmbkgpy.response.response_precalculation import ResponsePrecalculation\n",
    "from gbmbkgpy.response.src_response import EarthResponse, CGBResponse, GalacticCenterResponse, PointSourceResponse\n",
    "\n",
    "from gbmbkgpy.modeling.source import PhotonSourceFixed, SAASource, NormOnlySource\n",
    "from gbmbkgpy.modeling.functions import AstromodelFunctionVector\n",
    "\n",
    "from gbmbkgpy.modeling.model import ModelDet\n",
    "\n",
    "from gbmbkgpy.io.plotting.plot import plot_lightcurve"
   ]
  },
  {
   "cell_type": "markdown",
   "id": "0c9bc4e2",
   "metadata": {},
   "source": [
    "## DATA"
   ]
  },
  {
   "cell_type": "code",
   "execution_count": 2,
   "id": "4f49e151",
   "metadata": {
    "execution": {
     "iopub.execute_input": "2023-05-12T11:55:00.862193Z",
     "iopub.status.busy": "2023-05-12T11:55:00.861606Z",
     "iopub.status.idle": "2023-05-12T11:55:10.119422Z",
     "shell.execute_reply": "2023-05-12T11:55:10.118655Z"
    }
   },
   "outputs": [],
   "source": [
    "# get daily GBM data\n",
    "gbmdata = GBMData(name=\"gbmn0\", \n",
    "                date=\"200510\", \n",
    "                data_type=\"ctime\", \n",
    "                detector=\"n6\", \n",
    "                echans=[\"1\",\"2\",\"3-5\"])\n",
    "\n",
    "# Rebin the data to 20 second bins\n",
    "gbmdata.rebin_data(min_bin_width=20)"
   ]
  },
  {
   "cell_type": "markdown",
   "id": "962369c5",
   "metadata": {},
   "source": [
    "## GEOMETRY"
   ]
  },
  {
   "cell_type": "code",
   "execution_count": 3,
   "id": "c9332ac6",
   "metadata": {
    "execution": {
     "iopub.execute_input": "2023-05-12T11:55:10.123139Z",
     "iopub.status.busy": "2023-05-12T11:55:10.122886Z",
     "iopub.status.idle": "2023-05-12T11:55:11.635888Z",
     "shell.execute_reply": "2023-05-12T11:55:11.635090Z"
    }
   },
   "outputs": [],
   "source": [
    "# init geometry object for Fermi/GBM at the given date\n",
    "geom = GBMGeometryPosHist(date=\"200510\")"
   ]
  },
  {
   "cell_type": "markdown",
   "id": "ddd15c35",
   "metadata": {},
   "source": [
    "## Response"
   ]
  },
  {
   "cell_type": "code",
   "execution_count": 4,
   "id": "746b7bb8",
   "metadata": {
    "execution": {
     "iopub.execute_input": "2023-05-12T11:55:11.640098Z",
     "iopub.status.busy": "2023-05-12T11:55:11.639555Z",
     "iopub.status.idle": "2023-05-12T11:55:56.021052Z",
     "shell.execute_reply": "2023-05-12T11:55:56.020236Z"
    }
   },
   "outputs": [
    {
     "data": {
      "application/vnd.jupyter.widget-view+json": {
       "model_id": "392c0f7d06e94374b6b786518c034dc9",
       "version_major": 2,
       "version_minor": 0
      },
      "text/plain": [
       "VBox(children=(HTML(value='Calculating response calc 1 out of 3.This shows the progress of rank 0. All other s…"
      ]
     },
     "metadata": {},
     "output_type": "display_data"
    },
    {
     "name": "stderr",
     "output_type": "stream",
     "text": [
      "/opt/hostedtoolcache/Python/3.9.16/x64/lib/python3.9/site-packages/responsum-1.0.2-py3.9.egg/responsum/response.py:108: RuntimeWarning: Minimum MC energy (10.0) is larger than minimum EBOUNDS energy (5.307523250579834)\n"
     ]
    },
    {
     "data": {
      "application/vnd.jupyter.widget-view+json": {
       "model_id": "50764800cc0d4fb9be606c74bf14b8f7",
       "version_major": 2,
       "version_minor": 0
      },
      "text/plain": [
       "VBox(children=(HTML(value='Calculating response calc 2 out of 3.This shows the progress of rank 0. All other s…"
      ]
     },
     "metadata": {},
     "output_type": "display_data"
    },
    {
     "data": {
      "application/vnd.jupyter.widget-view+json": {
       "model_id": "725e7c2dbd4144bd992e4710edaf5fc9",
       "version_major": 2,
       "version_minor": 0
      },
      "text/plain": [
       "VBox(children=(HTML(value='Calculating response calc 3 out of 3.This shows the progress of rank 0. All other s…"
      ]
     },
     "metadata": {},
     "output_type": "display_data"
    }
   ],
   "source": [
    "# General response Generator\n",
    "drm_gen1 = GBMResponseGenerator(geometry=geom, Ebins_in_edge=np.geomspace(10,2000, 101), data=gbmdata)\n",
    "\n",
    "# Response precalculation for extended sources\n",
    "rsp_pre1 = ResponsePrecalculation(drm_gen1, Ngrid=10000)"
   ]
  },
  {
   "cell_type": "markdown",
   "id": "5ba11d40",
   "metadata": {},
   "source": [
    "### Responses for extended sources"
   ]
  },
  {
   "cell_type": "code",
   "execution_count": 5,
   "id": "4b973784",
   "metadata": {
    "execution": {
     "iopub.execute_input": "2023-05-12T11:55:56.025315Z",
     "iopub.status.busy": "2023-05-12T11:55:56.024660Z",
     "iopub.status.idle": "2023-05-12T11:56:18.198163Z",
     "shell.execute_reply": "2023-05-12T11:56:18.197378Z"
    }
   },
   "outputs": [],
   "source": [
    "# Time where to calculate the effective responses - linear interpolation in between\n",
    "interp_time = np.linspace(gbmdata.time_bins[0,0], gbmdata.time_bins[-1,-1], 800)\n",
    "\n",
    "# Galactic Center\n",
    "gc_rsp = GalacticCenterResponse(geometry=geom, interp_times=interp_time, resp_prec=rsp_pre1)\n",
    "\n",
    "# Earth Albedo\n",
    "earth_rsp = EarthResponse(geometry=geom, interp_times=interp_time, resp_prec=rsp_pre1)\n",
    "\n",
    "# CGB\n",
    "cgb_rsp = CGBResponse(geometry=geom, interp_times=interp_time, resp_prec=rsp_pre1)"
   ]
  },
  {
   "cell_type": "markdown",
   "id": "294908ce",
   "metadata": {},
   "source": [
    "### Response for point source"
   ]
  },
  {
   "cell_type": "code",
   "execution_count": 6,
   "id": "f0c5417a",
   "metadata": {
    "execution": {
     "iopub.execute_input": "2023-05-12T11:56:18.202201Z",
     "iopub.status.busy": "2023-05-12T11:56:18.201939Z",
     "iopub.status.idle": "2023-05-12T11:56:18.948162Z",
     "shell.execute_reply": "2023-05-12T11:56:18.947397Z"
    }
   },
   "outputs": [],
   "source": [
    "# Response for Crab\n",
    "crab_rsp = PointSourceResponse(response_generator=drm_gen1, interp_times=interp_time, ra=83.633, dec=22.015)"
   ]
  },
  {
   "cell_type": "markdown",
   "id": "12cd38f8",
   "metadata": {},
   "source": [
    "## Modelling"
   ]
  },
  {
   "cell_type": "markdown",
   "id": "65eef3f2",
   "metadata": {},
   "source": [
    "### Photon sources\n",
    "\n",
    "We use [astromodels](https://github.com/threeML/astromodels) to define the spectra and combine this with the precalculated responses for the different sources."
   ]
  },
  {
   "cell_type": "code",
   "execution_count": 7,
   "id": "5ee97752",
   "metadata": {
    "execution": {
     "iopub.execute_input": "2023-05-12T11:56:18.952686Z",
     "iopub.status.busy": "2023-05-12T11:56:18.952136Z",
     "iopub.status.idle": "2023-05-12T11:56:19.173662Z",
     "shell.execute_reply": "2023-05-12T11:56:19.172954Z"
    }
   },
   "outputs": [],
   "source": [
    "# A point source\n",
    "\n",
    "# Define spectrum\n",
    "pl_crab = Powerlaw()\n",
    "pl_crab.K.value = 9.7\n",
    "pl_crab.index.value = -2.1\n",
    "\n",
    "# define source\n",
    "crab = PhotonSourceFixed(\"Crab\", pl_crab, crab_rsp)\n",
    "\n",
    "\n",
    "# extended sources\n",
    "\n",
    "#EARTH\n",
    "earth_spec = SBPL()\n",
    "earth_spec.K.value = 0.015\n",
    "earth_spec.alpha.value = -5\n",
    "earth_spec.beta.value = 1.72\n",
    "earth_spec.xb.value = 33.7\n",
    "\n",
    "earth = PhotonSourceFixed(\"Earth\", earth_spec, earth_rsp)\n",
    "\n",
    "#CGB\n",
    "cgb_spec = SBPL()\n",
    "cgb_spec.K.value = 0.11\n",
    "cgb_spec.alpha.value = 1.32\n",
    "cgb_spec.beta.value = 2.88\n",
    "cgb_spec.xb.value = 30.0\n",
    "cgb = PhotonSourceFixed(\"CGB\", cgb_spec, cgb_rsp)\n",
    "\n",
    "#GC\n",
    "pl1_gc = Powerlaw()\n",
    "pl1_gc.K.value = 0.08737610581967094\n",
    "pl1_gc.index.value = -1.45\n",
    "\n",
    "pl2_gc = Powerlaw()\n",
    "pl2_gc.K.value = 252.3829377920772\n",
    "pl2_gc.index.value = -2.9\n",
    "\n",
    "exp_gc = Exponential_cutoff()\n",
    "exp_gc.K.value = 0.1036025649336684\n",
    "exp_gc.xc.value = 8\n",
    "\n",
    "total = pl1_gc+pl2_gc+exp_gc\n",
    "\n",
    "gc = PhotonSourceFixed(\"GC\", total, gc_rsp)"
   ]
  },
  {
   "cell_type": "markdown",
   "id": "b6032dfa",
   "metadata": {},
   "source": [
    "### SAA\n",
    "\n",
    "The de-excitation after an SAA transit is modelled as a simple exponential decay. But it is different for different energy channels and we have no info how to combine these. Therefore every energy channel gets an independent SAA Decay assigned."
   ]
  },
  {
   "cell_type": "code",
   "execution_count": 8,
   "id": "23688141",
   "metadata": {
    "execution": {
     "iopub.execute_input": "2023-05-12T11:56:19.177765Z",
     "iopub.status.busy": "2023-05-12T11:56:19.177291Z",
     "iopub.status.idle": "2023-05-12T11:56:19.183532Z",
     "shell.execute_reply": "2023-05-12T11:56:19.182746Z"
    }
   },
   "outputs": [],
   "source": [
    "exp_decay = Exponential_cutoff()\n",
    "exp_decay.K.value = 1000\n",
    "exp_decay.xc.value = 5000\n",
    "afv_saa = AstromodelFunctionVector(gbmdata.num_echan, base_function=exp_decay)\n",
    "\n",
    "exit_time_saa = gbmdata.mean_time[100]\n",
    "\n",
    "saa = SAASource(\"SAA\", exit_time_saa, afv_saa)"
   ]
  },
  {
   "cell_type": "markdown",
   "id": "83116148",
   "metadata": {},
   "source": [
    "### Cosmic Rays\n",
    "\n",
    "Because we don't have a response for charged particles, we can not forward fold the signal due to the incoming Cosmic Rays. We therefore rely on good tracers of the effect. For GBM for example the McIlwain L-parameter seems to be a decent tracer. The time variablity is given by this tracer and only a total normalization (per energy channel) is fitted."
   ]
  },
  {
   "cell_type": "code",
   "execution_count": 9,
   "id": "0c8365a4",
   "metadata": {
    "execution": {
     "iopub.execute_input": "2023-05-12T11:56:19.187382Z",
     "iopub.status.busy": "2023-05-12T11:56:19.186712Z",
     "iopub.status.idle": "2023-05-12T11:56:19.193794Z",
     "shell.execute_reply": "2023-05-12T11:56:19.192946Z"
    }
   },
   "outputs": [],
   "source": [
    "c = Constant()\n",
    "c.k.value = 100\n",
    "afv_cr = AstromodelFunctionVector(gbmdata.num_echan, base_function=c)\n",
    "\n",
    "cr = NormOnlySource(\"CR\", geom.cr_tracer, afv_cr)"
   ]
  },
  {
   "cell_type": "markdown",
   "id": "3bbfd810",
   "metadata": {},
   "source": [
    "## Create Model"
   ]
  },
  {
   "cell_type": "code",
   "execution_count": 10,
   "id": "15fdc723",
   "metadata": {
    "execution": {
     "iopub.execute_input": "2023-05-12T11:56:19.197501Z",
     "iopub.status.busy": "2023-05-12T11:56:19.196963Z",
     "iopub.status.idle": "2023-05-12T11:56:19.354103Z",
     "shell.execute_reply": "2023-05-12T11:56:19.353355Z"
    }
   },
   "outputs": [],
   "source": [
    "model = ModelDet(gbmdata)\n",
    "\n",
    "model.add_source(gc)\n",
    "model.add_source(earth)\n",
    "model.add_source(cgb)\n",
    "model.add_source(crab)\n",
    "\n",
    "model.add_source(saa)\n",
    "model.add_source(cr)"
   ]
  },
  {
   "cell_type": "markdown",
   "id": "b06197d6",
   "metadata": {},
   "source": [
    "## Plot"
   ]
  },
  {
   "cell_type": "code",
   "execution_count": 11,
   "id": "07e111b5",
   "metadata": {
    "execution": {
     "iopub.execute_input": "2023-05-12T11:56:19.357693Z",
     "iopub.status.busy": "2023-05-12T11:56:19.357277Z",
     "iopub.status.idle": "2023-05-12T11:56:19.863075Z",
     "shell.execute_reply": "2023-05-12T11:56:19.862298Z"
    }
   },
   "outputs": [
    {
     "data": {
      "text/plain": [
       "<matplotlib.legend.Legend at 0x7fd6dc5f34c0>"
      ]
     },
     "execution_count": 11,
     "metadata": {},
     "output_type": "execute_result"
    },
    {
     "data": {
      "image/png": "[encoded data removed]",
      "text/plain": [
       "<Figure size 800x700 with 1 Axes>"
      ]
     },
     "metadata": {},
     "output_type": "display_data"
    }
   ],
   "source": [
    "ax = plot_lightcurve(model, eff_echan=0, model_component_list=[\"GC\", \"SAA\"], model_component_colors=[\"navy\", \"purple\"])\n",
    "ax.legend()"
   ]
  }
 ],
 "metadata": {
  "kernelspec": {
   "display_name": "Python 3",
   "language": "python",
   "name": "python3"
  },
  "language_info": {
   "codemirror_mode": {
    "name": "ipython",
    "version": 3
   },
   "file_extension": ".py",
   "mimetype": "text/x-python",
   "name": "python",
   "nbconvert_exporter": "python",
   "pygments_lexer": "ipython3",
   "version": "3.9.16"
  },
  "widgets": {
   "application/vnd.jupyter.widget-state+json": {
    "state": {
     "0c35b8b5a63c43499393f5a97d6c75e7": {
      "model_module": "@jupyter-widgets/controls",
      "model_module_version": "2.0.0",
      "model_name": "ProgressStyleModel",
      "state": {
       "_model_module": "@jupyter-widgets/controls",
       "_model_module_version": "2.0.0",
       "_model_name": "ProgressStyleModel",
       "_view_count": null,
       "_view_module": "@jupyter-widgets/base",
       "_view_module_version": "2.0.0",
       "_view_name": "StyleView",
       "bar_color": null,
       "description_width": ""
      }
     },
     "0f38f7fb7b894fcba415070c36ebc977": {
      "model_module": "@jupyter-widgets/controls",
      "model_module_version": "2.0.0",
      "model_name": "ProgressStyleModel",
      "state": {
       "_model_module": "@jupyter-widgets/controls",
       "_model_module_version": "2.0.0",
       "_model_name": "ProgressStyleModel",
       "_view_count": null,
       "_view_module": "@jupyter-widgets/base",
       "_view_module_version": "2.0.0",
       "_view_name": "StyleView",
       "bar_color": null,
       "description_width": ""
      }
     },
     "17c79053228a45999365fcf69be1eb66": {
      "model_module": "@jupyter-widgets/controls",
      "model_module_version": "2.0.0",
      "model_name": "FloatProgressModel",
      "state": {
       "_dom_classes": [],
       "_model_module": "@jupyter-widgets/controls",
       "_model_module_version": "2.0.0",
       "_model_name": "FloatProgressModel",
       "_view_count": null,
       "_view_module": "@jupyter-widgets/controls",
       "_view_module_version": "2.0.0",
       "_view_name": "ProgressView",
       "bar_style": "",
       "description": "",
       "description_allow_html": false,
       "layout": "IPY_MODEL_c99d99736b6144748379720a1e7964c3",
       "max": 100.0,
       "min": 0.0,
       "orientation": "horizontal",
       "style": "IPY_MODEL_31d80ed36d104712a7775d5d69a09003",
       "tabbable": null,
       "tooltip": null,
       "value": 100.0
      }
     },
     "19225fa052114020a558b1db78e8b364": {
      "model_module": "@jupyter-widgets/controls",
      "model_module_version": "2.0.0",
      "model_name": "HTMLStyleModel",
      "state": {
       "_model_module": "@jupyter-widgets/controls",
       "_model_module_version": "2.0.0",
       "_model_name": "HTMLStyleModel",
       "_view_count": null,
       "_view_module": "@jupyter-widgets/base",
       "_view_module_version": "2.0.0",
       "_view_name": "StyleView",
       "background": null,
       "description_width": "",
       "font_size": null,
       "text_color": null
      }
     },
     "1a4fdf3c44c94798916f24c97181fde5": {
      "model_module": "@jupyter-widgets/controls",
      "model_module_version": "2.0.0",
      "model_name": "FloatProgressModel",
      "state": {
       "_dom_classes": [],
       "_model_module": "@jupyter-widgets/controls",
       "_model_module_version": "2.0.0",
       "_model_name": "FloatProgressModel",
       "_view_count": null,
       "_view_module": "@jupyter-widgets/controls",
       "_view_module_version": "2.0.0",
       "_view_name": "ProgressView",
       "bar_style": "",
       "description": "",
       "description_allow_html": false,
       "layout": "IPY_MODEL_9091f46a05d14500afb6692ddf711959",
       "max": 100.0,
       "min": 0.0,
       "orientation": "horizontal",
       "style": "IPY_MODEL_0f38f7fb7b894fcba415070c36ebc977",
       "tabbable": null,
       "tooltip": null,
       "value": 100.0
      }
     },
     "2ebeefc2b84c483eb6b566ac532e8638": {
      "model_module": "@jupyter-widgets/base",
      "model_module_version": "2.0.0",
      "model_name": "LayoutModel",
      "state": {
       "_model_module": "@jupyter-widgets/base",
       "_model_module_version": "2.0.0",
       "_model_name": "LayoutModel",
       "_view_count": null,
       "_view_module": "@jupyter-widgets/base",
       "_view_module_version": "2.0.0",
       "_view_name": "LayoutView",
       "align_content": null,
       "align_items": null,
       "align_self": null,
       "border_bottom": null,
       "border_left": null,
       "border_right": null,
       "border_top": null,
       "bottom": null,
       "display": null,
       "flex": null,
       "flex_flow": null,
       "grid_area": null,
       "grid_auto_columns": null,
       "grid_auto_flow": null,
       "grid_auto_rows": null,
       "grid_column": null,
       "grid_gap": null,
       "grid_row": null,
       "grid_template_areas": null,
       "grid_template_columns": null,
       "grid_template_rows": null,
       "height": null,
       "justify_content": null,
       "justify_items": null,
       "left": null,
       "margin": null,
       "max_height": null,
       "max_width": null,
       "min_height": null,
       "min_width": null,
       "object_fit": null,
       "object_position": null,
       "order": null,
       "overflow": null,
       "padding": null,
       "right": null,
       "top": null,
       "visibility": null,
       "width": null
      }
     },
     "31d80ed36d104712a7775d5d69a09003": {
      "model_module": "@jupyter-widgets/controls",
      "model_module_version": "2.0.0",
      "model_name": "ProgressStyleModel",
      "state": {
       "_model_module": "@jupyter-widgets/controls",
       "_model_module_version": "2.0.0",
       "_model_name": "ProgressStyleModel",
       "_view_count": null,
       "_view_module": "@jupyter-widgets/base",
       "_view_module_version": "2.0.0",
       "_view_name": "StyleView",
       "bar_color": null,
       "description_width": ""
      }
     },
     "392c0f7d06e94374b6b786518c034dc9": {
      "model_module": "@jupyter-widgets/controls",
      "model_module_version": "2.0.0",
      "model_name": "VBoxModel",
      "state": {
       "_dom_classes": [],
       "_model_module": "@jupyter-widgets/controls",
       "_model_module_version": "2.0.0",
       "_model_name": "VBoxModel",
       "_view_count": null,
       "_view_module": "@jupyter-widgets/controls",
       "_view_module_version": "2.0.0",
       "_view_name": "VBoxView",
       "box_style": "",
       "children": [
        "IPY_MODEL_f062b8f99c5e482cb1c8e2d78f065d01",
        "IPY_MODEL_bc1c5ca75798443893b829b8043f50d1",
        "IPY_MODEL_1a4fdf3c44c94798916f24c97181fde5"
       ],
       "layout": "IPY_MODEL_cbede8d0f0d74f34961b5be255fface0",
       "tabbable": null,
       "tooltip": null
      }
     },
     "3cb90219ba37497cb98d31e14808f3c6": {
      "model_module": "jupyter-vuetify",
      "model_module_version": "^1.8.10",
      "model_name": "ThemeModel",
      "state": {
       "_model_module": "jupyter-vuetify",
       "_model_module_version": "^1.8.10",
       "_model_name": "ThemeModel",
       "_view_count": null,
       "_view_module": null,
       "_view_module_version": "^1.8.10",
       "_view_name": null,
       "dark": null
      }
     },
     "50764800cc0d4fb9be606c74bf14b8f7": {
      "model_module": "@jupyter-widgets/controls",
      "model_module_version": "2.0.0",
      "model_name": "VBoxModel",
      "state": {
       "_dom_classes": [],
       "_model_module": "@jupyter-widgets/controls",
       "_model_module_version": "2.0.0",
       "_model_name": "VBoxModel",
       "_view_count": null,
       "_view_module": "@jupyter-widgets/controls",
       "_view_module_version": "2.0.0",
       "_view_name": "VBoxView",
       "box_style": "",
       "children": [
        "IPY_MODEL_95e02d32e4634c79830fa14423bf152f",
        "IPY_MODEL_847668d01de240c5a5e396156464d01d",
        "IPY_MODEL_edc25ab395c44cf09b2a8788205aa6ef"
       ],
       "layout": "IPY_MODEL_80e83784a08c4a2a87ec750d80078112",
       "tabbable": null,
       "tooltip": null
      }
     },
     "6dd2c8a6d4a4408ca16a219f71031be5": {
      "model_module": "jupyter-vuetify",
      "model_module_version": "^1.8.10",
      "model_name": "ThemeColorsModel",
      "state": {
       "_model_module": "jupyter-vuetify",
       "_model_module_version": "^1.8.10",
       "_model_name": "ThemeColorsModel",
       "_theme_name": "dark",
       "_view_count": null,
       "_view_module": null,
       "_view_module_version": "^1.8.10",
       "_view_name": null,
       "accent": "#FF4081",
       "anchor": null,
       "error": "#FF5252",
       "info": "#2196F3",
       "primary": "#2196F3",
       "secondary": "#424242",
       "success": "#4CAF50",
       "warning": "#FB8C00"
      }
     },
     "725e7c2dbd4144bd992e4710edaf5fc9": {
      "model_module": "@jupyter-widgets/controls",
      "model_module_version": "2.0.0",
      "model_name": "VBoxModel",
      "state": {
       "_dom_classes": [],
       "_model_module": "@jupyter-widgets/controls",
       "_model_module_version": "2.0.0",
       "_model_name": "VBoxModel",
       "_view_count": null,
       "_view_module": "@jupyter-widgets/controls",
       "_view_module_version": "2.0.0",
       "_view_name": "VBoxView",
       "box_style": "",
       "children": [
        "IPY_MODEL_c7972b5e863e4ebdb02af9eb027f932c",
        "IPY_MODEL_eb49016daf854cccb349c26bb15a7660",
        "IPY_MODEL_17c79053228a45999365fcf69be1eb66"
       ],
       "layout": "IPY_MODEL_2ebeefc2b84c483eb6b566ac532e8638",
       "tabbable": null,
       "tooltip": null
      }
     },
     "7d8d3936229e44169d1b2994ff40e0e6": {
      "model_module": "@jupyter-widgets/base",
      "model_module_version": "2.0.0",
      "model_name": "LayoutModel",
      "state": {
       "_model_module": "@jupyter-widgets/base",
       "_model_module_version": "2.0.0",
       "_model_name": "LayoutModel",
       "_view_count": null,
       "_view_module": "@jupyter-widgets/base",
       "_view_module_version": "2.0.0",
       "_view_name": "LayoutView",
       "align_content": null,
       "align_items": null,
       "align_self": null,
       "border_bottom": null,
       "border_left": null,
       "border_right": null,
       "border_top": null,
       "bottom": null,
       "display": null,
       "flex": null,
       "flex_flow": null,
       "grid_area": null,
       "grid_auto_columns": null,
       "grid_auto_flow": null,
       "grid_auto_rows": null,
       "grid_column": null,
       "grid_gap": null,
       "grid_row": null,
       "grid_template_areas": null,
       "grid_template_columns": null,
       "grid_template_rows": null,
       "height": null,
       "justify_content": null,
       "justify_items": null,
       "left": null,
       "margin": null,
       "max_height": null,
       "max_width": null,
       "min_height": null,
       "min_width": null,
       "object_fit": null,
       "object_position": null,
       "order": null,
       "overflow": null,
       "padding": null,
       "right": null,
       "top": null,
       "visibility": null,
       "width": null
      }
     },
     "7fe7508f283347cb9d574205a50f9e58": {
      "model_module": "@jupyter-widgets/base",
      "model_module_version": "2.0.0",
      "model_name": "LayoutModel",
      "state": {
       "_model_module": "@jupyter-widgets/base",
       "_model_module_version": "2.0.0",
       "_model_name": "LayoutModel",
       "_view_count": null,
       "_view_module": "@jupyter-widgets/base",
       "_view_module_version": "2.0.0",
       "_view_name": "LayoutView",
       "align_content": null,
       "align_items": null,
       "align_self": null,
       "border_bottom": null,
       "border_left": null,
       "border_right": null,
       "border_top": null,
       "bottom": null,
       "display": null,
       "flex": null,
       "flex_flow": null,
       "grid_area": null,
       "grid_auto_columns": null,
       "grid_auto_flow": null,
       "grid_auto_rows": null,
       "grid_column": null,
       "grid_gap": null,
       "grid_row": null,
       "grid_template_areas": null,
       "grid_template_columns": null,
       "grid_template_rows": null,
       "height": null,
       "justify_content": null,
       "justify_items": null,
       "left": null,
       "margin": null,
       "max_height": null,
       "max_width": null,
       "min_height": null,
       "min_width": null,
       "object_fit": null,
       "object_position": null,
       "order": null,
       "overflow": null,
       "padding": null,
       "right": null,
       "top": null,
       "visibility": null,
       "width": null
      }
     },
     "80e83784a08c4a2a87ec750d80078112": {
      "model_module": "@jupyter-widgets/base",
      "model_module_version": "2.0.0",
      "model_name": "LayoutModel",
      "state": {
       "_model_module": "@jupyter-widgets/base",
       "_model_module_version": "2.0.0",
       "_model_name": "LayoutModel",
       "_view_count": null,
       "_view_module": "@jupyter-widgets/base",
       "_view_module_version": "2.0.0",
       "_view_name": "LayoutView",
       "align_content": null,
       "align_items": null,
       "align_self": null,
       "border_bottom": null,
       "border_left": null,
       "border_right": null,
       "border_top": null,
       "bottom": null,
       "display": null,
       "flex": null,
       "flex_flow": null,
       "grid_area": null,
       "grid_auto_columns": null,
       "grid_auto_flow": null,
       "grid_auto_rows": null,
       "grid_column": null,
       "grid_gap": null,
       "grid_row": null,
       "grid_template_areas": null,
       "grid_template_columns": null,
       "grid_template_rows": null,
       "height": null,
       "justify_content": null,
       "justify_items": null,
       "left": null,
       "margin": null,
       "max_height": null,
       "max_width": null,
       "min_height": null,
       "min_width": null,
       "object_fit": null,
       "object_position": null,
       "order": null,
       "overflow": null,
       "padding": null,
       "right": null,
       "top": null,
       "visibility": null,
       "width": null
      }
     },
     "847668d01de240c5a5e396156464d01d": {
      "model_module": "@jupyter-widgets/controls",
      "model_module_version": "2.0.0",
      "model_name": "HTMLModel",
      "state": {
       "_dom_classes": [],
       "_model_module": "@jupyter-widgets/controls",
       "_model_module_version": "2.0.0",
       "_model_name": "HTMLModel",
       "_view_count": null,
       "_view_module": "@jupyter-widgets/controls",
       "_view_module_version": "2.0.0",
       "_view_name": "HTMLView",
       "description": "",
       "description_allow_html": false,
       "layout": "IPY_MODEL_e61b16b7534a49359dbf56a62aa47aeb",
       "placeholder": "​",
       "style": "IPY_MODEL_e84e37a6433247999a9671b2488e4ce7",
       "tabbable": null,
       "tooltip": null,
       "value": "4000 / 4000  in 3.7 s (0:00:00 remaining)"
      }
     },
     "84c3e59278d547b1b2c14b1bcabbfc82": {
      "model_module": "@jupyter-widgets/base",
      "model_module_version": "2.0.0",
      "model_name": "LayoutModel",
      "state": {
       "_model_module": "@jupyter-widgets/base",
       "_model_module_version": "2.0.0",
       "_model_name": "LayoutModel",
       "_view_count": null,
       "_view_module": "@jupyter-widgets/base",
       "_view_module_version": "2.0.0",
       "_view_name": "LayoutView",
       "align_content": null,
       "align_items": null,
       "align_self": null,
       "border_bottom": null,
       "border_left": null,
       "border_right": null,
       "border_top": null,
       "bottom": null,
       "display": null,
       "flex": null,
       "flex_flow": null,
       "grid_area": null,
       "grid_auto_columns": null,
       "grid_auto_flow": null,
       "grid_auto_rows": null,
       "grid_column": null,
       "grid_gap": null,
       "grid_row": null,
       "grid_template_areas": null,
       "grid_template_columns": null,
       "grid_template_rows": null,
       "height": null,
       "justify_content": null,
       "justify_items": null,
       "left": null,
       "margin": null,
       "max_height": null,
       "max_width": null,
       "min_height": null,
       "min_width": null,
       "object_fit": null,
       "object_position": null,
       "order": null,
       "overflow": null,
       "padding": null,
       "right": null,
       "top": null,
       "visibility": null,
       "width": null
      }
     },
     "8b2878d5a816423ab46e55cd8884b6ef": {
      "model_module": "jupyter-vuetify",
      "model_module_version": "^1.8.10",
      "model_name": "ThemeColorsModel",
      "state": {
       "_model_module": "jupyter-vuetify",
       "_model_module_version": "^1.8.10",
       "_model_name": "ThemeColorsModel",
       "_theme_name": "light",
       "_view_count": null,
       "_view_module": null,
       "_view_module_version": "^1.8.10",
       "_view_name": null,
       "accent": "#82B1FF",
       "anchor": null,
       "error": "#FF5252",
       "info": "#2196F3",
       "primary": "#1976D2",
       "secondary": "#424242",
       "success": "#4CAF50",
       "warning": "#FB8C00"
      }
     },
     "8ea39ca827814e5b9b39aa8d5f200dcf": {
      "model_module": "@jupyter-widgets/controls",
      "model_module_version": "2.0.0",
      "model_name": "HTMLStyleModel",
      "state": {
       "_model_module": "@jupyter-widgets/controls",
       "_model_module_version": "2.0.0",
       "_model_name": "HTMLStyleModel",
       "_view_count": null,
       "_view_module": "@jupyter-widgets/base",
       "_view_module_version": "2.0.0",
       "_view_name": "StyleView",
       "background": null,
       "description_width": "",
       "font_size": null,
       "text_color": null
      }
     },
     "903b2563317b41b694185ca5c45f6e7b": {
      "model_module": "@jupyter-widgets/controls",
      "model_module_version": "2.0.0",
      "model_name": "HTMLStyleModel",
      "state": {
       "_model_module": "@jupyter-widgets/controls",
       "_model_module_version": "2.0.0",
       "_model_name": "HTMLStyleModel",
       "_view_count": null,
       "_view_module": "@jupyter-widgets/base",
       "_view_module_version": "2.0.0",
       "_view_name": "StyleView",
       "background": null,
       "description_width": "",
       "font_size": null,
       "text_color": null
      }
     },
     "9091f46a05d14500afb6692ddf711959": {
      "model_module": "@jupyter-widgets/base",
      "model_module_version": "2.0.0",
      "model_name": "LayoutModel",
      "state": {
       "_model_module": "@jupyter-widgets/base",
       "_model_module_version": "2.0.0",
       "_model_name": "LayoutModel",
       "_view_count": null,
       "_view_module": "@jupyter-widgets/base",
       "_view_module_version": "2.0.0",
       "_view_name": "LayoutView",
       "align_content": null,
       "align_items": null,
       "align_self": null,
       "border_bottom": null,
       "border_left": null,
       "border_right": null,
       "border_top": null,
       "bottom": null,
       "display": null,
       "flex": null,
       "flex_flow": null,
       "grid_area": null,
       "grid_auto_columns": null,
       "grid_auto_flow": null,
       "grid_auto_rows": null,
       "grid_column": null,
       "grid_gap": null,
       "grid_row": null,
       "grid_template_areas": null,
       "grid_template_columns": null,
       "grid_template_rows": null,
       "height": null,
       "justify_content": null,
       "justify_items": null,
       "left": null,
       "margin": null,
       "max_height": null,
       "max_width": null,
       "min_height": null,
       "min_width": null,
       "object_fit": null,
       "object_position": null,
       "order": null,
       "overflow": null,
       "padding": null,
       "right": null,
       "top": null,
       "visibility": null,
       "width": null
      }
     },
     "958e3cfb0a5941279ceaaeb92b391727": {
      "model_module": "@jupyter-widgets/base",
      "model_module_version": "2.0.0",
      "model_name": "LayoutModel",
      "state": {
       "_model_module": "@jupyter-widgets/base",
       "_model_module_version": "2.0.0",
       "_model_name": "LayoutModel",
       "_view_count": null,
       "_view_module": "@jupyter-widgets/base",
       "_view_module_version": "2.0.0",
       "_view_name": "LayoutView",
       "align_content": null,
       "align_items": null,
       "align_self": null,
       "border_bottom": null,
       "border_left": null,
       "border_right": null,
       "border_top": null,
       "bottom": null,
       "display": null,
       "flex": null,
       "flex_flow": null,
       "grid_area": null,
       "grid_auto_columns": null,
       "grid_auto_flow": null,
       "grid_auto_rows": null,
       "grid_column": null,
       "grid_gap": null,
       "grid_row": null,
       "grid_template_areas": null,
       "grid_template_columns": null,
       "grid_template_rows": null,
       "height": null,
       "justify_content": null,
       "justify_items": null,
       "left": null,
       "margin": null,
       "max_height": null,
       "max_width": null,
       "min_height": null,
       "min_width": null,
       "object_fit": null,
       "object_position": null,
       "order": null,
       "overflow": null,
       "padding": null,
       "right": null,
       "top": null,
       "visibility": null,
       "width": null
      }
     },
     "95e02d32e4634c79830fa14423bf152f": {
      "model_module": "@jupyter-widgets/controls",
      "model_module_version": "2.0.0",
      "model_name": "HTMLModel",
      "state": {
       "_dom_classes": [],
       "_model_module": "@jupyter-widgets/controls",
       "_model_module_version": "2.0.0",
       "_model_name": "HTMLModel",
       "_view_count": null,
       "_view_module": "@jupyter-widgets/controls",
       "_view_module_version": "2.0.0",
       "_view_name": "HTMLView",
       "description": "",
       "description_allow_html": false,
       "layout": "IPY_MODEL_f65d6e85efa8442f8541a754e3d3629e",
       "placeholder": "​",
       "style": "IPY_MODEL_8ea39ca827814e5b9b39aa8d5f200dcf",
       "tabbable": null,
       "tooltip": null,
       "value": "Calculating response calc 2 out of 3.This shows the progress of rank 0. All other should be about the same. : "
      }
     },
     "b5386bdcf8c247c996a88dc700f39223": {
      "model_module": "jupyter-vue",
      "model_module_version": "^1.9.0",
      "model_name": "ForceLoadModel",
      "state": {
       "_dom_classes": [],
       "_model_module": "jupyter-vue",
       "_model_module_version": "^1.9.0",
       "_model_name": "ForceLoadModel",
       "_view_count": null,
       "_view_module": null,
       "_view_module_version": "",
       "_view_name": null,
       "layout": "IPY_MODEL_c6880982431d4c33b5460458813bf61f",
       "tabbable": null,
       "tooltip": null
      }
     },
     "b8c41539ba4d4651a9b757c61c3f8e01": {
      "model_module": "@jupyter-widgets/base",
      "model_module_version": "2.0.0",
      "model_name": "LayoutModel",
      "state": {
       "_model_module": "@jupyter-widgets/base",
       "_model_module_version": "2.0.0",
       "_model_name": "LayoutModel",
       "_view_count": null,
       "_view_module": "@jupyter-widgets/base",
       "_view_module_version": "2.0.0",
       "_view_name": "LayoutView",
       "align_content": null,
       "align_items": null,
       "align_self": null,
       "border_bottom": null,
       "border_left": null,
       "border_right": null,
       "border_top": null,
       "bottom": null,
       "display": null,
       "flex": null,
       "flex_flow": null,
       "grid_area": null,
       "grid_auto_columns": null,
       "grid_auto_flow": null,
       "grid_auto_rows": null,
       "grid_column": null,
       "grid_gap": null,
       "grid_row": null,
       "grid_template_areas": null,
       "grid_template_columns": null,
       "grid_template_rows": null,
       "height": null,
       "justify_content": null,
       "justify_items": null,
       "left": null,
       "margin": null,
       "max_height": null,
       "max_width": null,
       "min_height": null,
       "min_width": null,
       "object_fit": null,
       "object_position": null,
       "order": null,
       "overflow": null,
       "padding": null,
       "right": null,
       "top": null,
       "visibility": null,
       "width": null
      }
     },
     "bc1c5ca75798443893b829b8043f50d1": {
      "model_module": "@jupyter-widgets/controls",
      "model_module_version": "2.0.0",
      "model_name": "HTMLModel",
      "state": {
       "_dom_classes": [],
       "_model_module": "@jupyter-widgets/controls",
       "_model_module_version": "2.0.0",
       "_model_name": "HTMLModel",
       "_view_count": null,
       "_view_module": "@jupyter-widgets/controls",
       "_view_module_version": "2.0.0",
       "_view_name": "HTMLView",
       "description": "",
       "description_allow_html": false,
       "layout": "IPY_MODEL_7fe7508f283347cb9d574205a50f9e58",
       "placeholder": "​",
       "style": "IPY_MODEL_dde9ac2794364df496b6fef9ab7a67fc",
       "tabbable": null,
       "tooltip": null,
       "value": "4000 / 4000  in 34.1 s (0:00:00 remaining)"
      }
     },
     "c6880982431d4c33b5460458813bf61f": {
      "model_module": "@jupyter-widgets/base",
      "model_module_version": "2.0.0",
      "model_name": "LayoutModel",
      "state": {
       "_model_module": "@jupyter-widgets/base",
       "_model_module_version": "2.0.0",
       "_model_name": "LayoutModel",
       "_view_count": null,
       "_view_module": "@jupyter-widgets/base",
       "_view_module_version": "2.0.0",
       "_view_name": "LayoutView",
       "align_content": null,
       "align_items": null,
       "align_self": null,
       "border_bottom": null,
       "border_left": null,
       "border_right": null,
       "border_top": null,
       "bottom": null,
       "display": null,
       "flex": null,
       "flex_flow": null,
       "grid_area": null,
       "grid_auto_columns": null,
       "grid_auto_flow": null,
       "grid_auto_rows": null,
       "grid_column": null,
       "grid_gap": null,
       "grid_row": null,
       "grid_template_areas": null,
       "grid_template_columns": null,
       "grid_template_rows": null,
       "height": null,
       "justify_content": null,
       "justify_items": null,
       "left": null,
       "margin": null,
       "max_height": null,
       "max_width": null,
       "min_height": null,
       "min_width": null,
       "object_fit": null,
       "object_position": null,
       "order": null,
       "overflow": null,
       "padding": null,
       "right": null,
       "top": null,
       "visibility": null,
       "width": null
      }
     },
     "c7972b5e863e4ebdb02af9eb027f932c": {
      "model_module": "@jupyter-widgets/controls",
      "model_module_version": "2.0.0",
      "model_name": "HTMLModel",
      "state": {
       "_dom_classes": [],
       "_model_module": "@jupyter-widgets/controls",
       "_model_module_version": "2.0.0",
       "_model_name": "HTMLModel",
       "_view_count": null,
       "_view_module": "@jupyter-widgets/controls",
       "_view_module_version": "2.0.0",
       "_view_name": "HTMLView",
       "description": "",
       "description_allow_html": false,
       "layout": "IPY_MODEL_84c3e59278d547b1b2c14b1bcabbfc82",
       "placeholder": "​",
       "style": "IPY_MODEL_19225fa052114020a558b1db78e8b364",
       "tabbable": null,
       "tooltip": null,
       "value": "Calculating response calc 3 out of 3.This shows the progress of rank 0. All other should be about the same. : "
      }
     },
     "c99d99736b6144748379720a1e7964c3": {
      "model_module": "@jupyter-widgets/base",
      "model_module_version": "2.0.0",
      "model_name": "LayoutModel",
      "state": {
       "_model_module": "@jupyter-widgets/base",
       "_model_module_version": "2.0.0",
       "_model_name": "LayoutModel",
       "_view_count": null,
       "_view_module": "@jupyter-widgets/base",
       "_view_module_version": "2.0.0",
       "_view_name": "LayoutView",
       "align_content": null,
       "align_items": null,
       "align_self": null,
       "border_bottom": null,
       "border_left": null,
       "border_right": null,
       "border_top": null,
       "bottom": null,
       "display": null,
       "flex": null,
       "flex_flow": null,
       "grid_area": null,
       "grid_auto_columns": null,
       "grid_auto_flow": null,
       "grid_auto_rows": null,
       "grid_column": null,
       "grid_gap": null,
       "grid_row": null,
       "grid_template_areas": null,
       "grid_template_columns": null,
       "grid_template_rows": null,
       "height": null,
       "justify_content": null,
       "justify_items": null,
       "left": null,
       "margin": null,
       "max_height": null,
       "max_width": null,
       "min_height": null,
       "min_width": null,
       "object_fit": null,
       "object_position": null,
       "order": null,
       "overflow": null,
       "padding": null,
       "right": null,
       "top": null,
       "visibility": null,
       "width": null
      }
     },
     "cbede8d0f0d74f34961b5be255fface0": {
      "model_module": "@jupyter-widgets/base",
      "model_module_version": "2.0.0",
      "model_name": "LayoutModel",
      "state": {
       "_model_module": "@jupyter-widgets/base",
       "_model_module_version": "2.0.0",
       "_model_name": "LayoutModel",
       "_view_count": null,
       "_view_module": "@jupyter-widgets/base",
       "_view_module_version": "2.0.0",
       "_view_name": "LayoutView",
       "align_content": null,
       "align_items": null,
       "align_self": null,
       "border_bottom": null,
       "border_left": null,
       "border_right": null,
       "border_top": null,
       "bottom": null,
       "display": null,
       "flex": null,
       "flex_flow": null,
       "grid_area": null,
       "grid_auto_columns": null,
       "grid_auto_flow": null,
       "grid_auto_rows": null,
       "grid_column": null,
       "grid_gap": null,
       "grid_row": null,
       "grid_template_areas": null,
       "grid_template_columns": null,
       "grid_template_rows": null,
       "height": null,
       "justify_content": null,
       "justify_items": null,
       "left": null,
       "margin": null,
       "max_height": null,
       "max_width": null,
       "min_height": null,
       "min_width": null,
       "object_fit": null,
       "object_position": null,
       "order": null,
       "overflow": null,
       "padding": null,
       "right": null,
       "top": null,
       "visibility": null,
       "width": null
      }
     },
     "dde9ac2794364df496b6fef9ab7a67fc": {
      "model_module": "@jupyter-widgets/controls",
      "model_module_version": "2.0.0",
      "model_name": "HTMLStyleModel",
      "state": {
       "_model_module": "@jupyter-widgets/controls",
       "_model_module_version": "2.0.0",
       "_model_name": "HTMLStyleModel",
       "_view_count": null,
       "_view_module": "@jupyter-widgets/base",
       "_view_module_version": "2.0.0",
       "_view_name": "StyleView",
       "background": null,
       "description_width": "",
       "font_size": null,
       "text_color": null
      }
     },
     "e61b16b7534a49359dbf56a62aa47aeb": {
      "model_module": "@jupyter-widgets/base",
      "model_module_version": "2.0.0",
      "model_name": "LayoutModel",
      "state": {
       "_model_module": "@jupyter-widgets/base",
       "_model_module_version": "2.0.0",
       "_model_name": "LayoutModel",
       "_view_count": null,
       "_view_module": "@jupyter-widgets/base",
       "_view_module_version": "2.0.0",
       "_view_name": "LayoutView",
       "align_content": null,
       "align_items": null,
       "align_self": null,
       "border_bottom": null,
       "border_left": null,
       "border_right": null,
       "border_top": null,
       "bottom": null,
       "display": null,
       "flex": null,
       "flex_flow": null,
       "grid_area": null,
       "grid_auto_columns": null,
       "grid_auto_flow": null,
       "grid_auto_rows": null,
       "grid_column": null,
       "grid_gap": null,
       "grid_row": null,
       "grid_template_areas": null,
       "grid_template_columns": null,
       "grid_template_rows": null,
       "height": null,
       "justify_content": null,
       "justify_items": null,
       "left": null,
       "margin": null,
       "max_height": null,
       "max_width": null,
       "min_height": null,
       "min_width": null,
       "object_fit": null,
       "object_position": null,
       "order": null,
       "overflow": null,
       "padding": null,
       "right": null,
       "top": null,
       "visibility": null,
       "width": null
      }
     },
     "e84e37a6433247999a9671b2488e4ce7": {
      "model_module": "@jupyter-widgets/controls",
      "model_module_version": "2.0.0",
      "model_name": "HTMLStyleModel",
      "state": {
       "_model_module": "@jupyter-widgets/controls",
       "_model_module_version": "2.0.0",
       "_model_name": "HTMLStyleModel",
       "_view_count": null,
       "_view_module": "@jupyter-widgets/base",
       "_view_module_version": "2.0.0",
       "_view_name": "StyleView",
       "background": null,
       "description_width": "",
       "font_size": null,
       "text_color": null
      }
     },
     "eb49016daf854cccb349c26bb15a7660": {
      "model_module": "@jupyter-widgets/controls",
      "model_module_version": "2.0.0",
      "model_name": "HTMLModel",
      "state": {
       "_dom_classes": [],
       "_model_module": "@jupyter-widgets/controls",
       "_model_module_version": "2.0.0",
       "_model_name": "HTMLModel",
       "_view_count": null,
       "_view_module": "@jupyter-widgets/controls",
       "_view_module_version": "2.0.0",
       "_view_name": "HTMLView",
       "description": "",
       "description_allow_html": false,
       "layout": "IPY_MODEL_958e3cfb0a5941279ceaaeb92b391727",
       "placeholder": "​",
       "style": "IPY_MODEL_f8a3138c1569460f8696c542c8cb4144",
       "tabbable": null,
       "tooltip": null,
       "value": "2000 / 2000  in 1.9 s (0:00:00 remaining)"
      }
     },
     "edc25ab395c44cf09b2a8788205aa6ef": {
      "model_module": "@jupyter-widgets/controls",
      "model_module_version": "2.0.0",
      "model_name": "FloatProgressModel",
      "state": {
       "_dom_classes": [],
       "_model_module": "@jupyter-widgets/controls",
       "_model_module_version": "2.0.0",
       "_model_name": "FloatProgressModel",
       "_view_count": null,
       "_view_module": "@jupyter-widgets/controls",
       "_view_module_version": "2.0.0",
       "_view_name": "ProgressView",
       "bar_style": "",
       "description": "",
       "description_allow_html": false,
       "layout": "IPY_MODEL_7d8d3936229e44169d1b2994ff40e0e6",
       "max": 100.0,
       "min": 0.0,
       "orientation": "horizontal",
       "style": "IPY_MODEL_0c35b8b5a63c43499393f5a97d6c75e7",
       "tabbable": null,
       "tooltip": null,
       "value": 100.0
      }
     },
     "f062b8f99c5e482cb1c8e2d78f065d01": {
      "model_module": "@jupyter-widgets/controls",
      "model_module_version": "2.0.0",
      "model_name": "HTMLModel",
      "state": {
       "_dom_classes": [],
       "_model_module": "@jupyter-widgets/controls",
       "_model_module_version": "2.0.0",
       "_model_name": "HTMLModel",
       "_view_count": null,
       "_view_module": "@jupyter-widgets/controls",
       "_view_module_version": "2.0.0",
       "_view_name": "HTMLView",
       "description": "",
       "description_allow_html": false,
       "layout": "IPY_MODEL_b8c41539ba4d4651a9b757c61c3f8e01",
       "placeholder": "​",
       "style": "IPY_MODEL_903b2563317b41b694185ca5c45f6e7b",
       "tabbable": null,
       "tooltip": null,
       "value": "Calculating response calc 1 out of 3.This shows the progress of rank 0. All other should be about the same. : "
      }
     },
     "f65d6e85efa8442f8541a754e3d3629e": {
      "model_module": "@jupyter-widgets/base",
      "model_module_version": "2.0.0",
      "model_name": "LayoutModel",
      "state": {
       "_model_module": "@jupyter-widgets/base",
       "_model_module_version": "2.0.0",
       "_model_name": "LayoutModel",
       "_view_count": null,
       "_view_module": "@jupyter-widgets/base",
       "_view_module_version": "2.0.0",
       "_view_name": "LayoutView",
       "align_content": null,
       "align_items": null,
       "align_self": null,
       "border_bottom": null,
       "border_left": null,
       "border_right": null,
       "border_top": null,
       "bottom": null,
       "display": null,
       "flex": null,
       "flex_flow": null,
       "grid_area": null,
       "grid_auto_columns": null,
       "grid_auto_flow": null,
       "grid_auto_rows": null,
       "grid_column": null,
       "grid_gap": null,
       "grid_row": null,
       "grid_template_areas": null,
       "grid_template_columns": null,
       "grid_template_rows": null,
       "height": null,
       "justify_content": null,
       "justify_items": null,
       "left": null,
       "margin": null,
       "max_height": null,
       "max_width": null,
       "min_height": null,
       "min_width": null,
       "object_fit": null,
       "object_position": null,
       "order": null,
       "overflow": null,
       "padding": null,
       "right": null,
       "top": null,
       "visibility": null,
       "width": null
      }
     },
     "f8a3138c1569460f8696c542c8cb4144": {
      "model_module": "@jupyter-widgets/controls",
      "model_module_version": "2.0.0",
      "model_name": "HTMLStyleModel",
      "state": {
       "_model_module": "@jupyter-widgets/controls",
       "_model_module_version": "2.0.0",
       "_model_name": "HTMLStyleModel",
       "_view_count": null,
       "_view_module": "@jupyter-widgets/base",
       "_view_module_version": "2.0.0",
       "_view_name": "StyleView",
       "background": null,
       "description_width": "",
       "font_size": null,
       "text_color": null
      }
     }
    },
    "version_major": 2,
    "version_minor": 0
   }
  }
 },
 "nbformat": 4,
 "nbformat_minor": 5
}
