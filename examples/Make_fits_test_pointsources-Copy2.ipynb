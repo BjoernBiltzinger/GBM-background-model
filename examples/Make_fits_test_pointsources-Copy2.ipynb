{
 "cells": [
  {
   "cell_type": "code",
   "execution_count": 1,
   "metadata": {
    "collapsed": false
   },
   "outputs": [],
   "source": [
    "#!/usr/bin python2.7\n",
    "\n",
    "from astropy.io       import fits\n",
    "from astropy.table    import Table\n",
    "from astropy.time     import Time\n",
    "from datetime         import date\n",
    "from datetime         import datetime\n",
    "import ephem\n",
    "import fileinput\n",
    "import getpass\n",
    "import math\n",
    "import matplotlib.pyplot                   as plt\n",
    "import matplotlib                          as mpl\n",
    "import numpy                               as np\n",
    "from numpy            import linalg        as LA\n",
    "import os\n",
    "import pyfits\n",
    "import scipy.optimize                      as optimization\n",
    "from scipy            import integrate\n",
    "from scipy            import interpolate\n",
    "from scipy.optimize   import curve_fit\n",
    "import subprocess\n",
    "from subprocess       import Popen, PIPE\n",
    "import urllib2\n",
    "from work_module      import calculate\n",
    "from work_module      import detector\n",
    "from work_module      import readfile\n",
    "from work_module      import writefile\n",
    "calc = calculate()\n",
    "det = detector()\n",
    "rf = readfile()\n",
    "wf = writefile()"
   ]
  },
  {
   "cell_type": "code",
   "execution_count": 2,
   "metadata": {
    "collapsed": false,
    "scrolled": true
   },
   "outputs": [
    {
     "name": "stdout",
     "output_type": "stream",
     "text": [
      "111209\n",
      "nb\n",
      "4\n",
      "Error - curve_fit failed for the value 4.\n",
      "Error - curve_fit failed for the value 5.\n",
      "Error - curve_fit failed for the value 14.\n"
     ]
    },
    {
     "name": "stderr",
     "output_type": "stream",
     "text": [
      "work_module.py:1541: FutureWarning: elementwise comparison failed; returning scalar instead, but in the future will perform elementwise comparison\n",
      "  if burst_time != 'none':\n",
      "work_module.py:1619: FutureWarning: elementwise comparison failed; returning scalar instead, but in the future will perform elementwise comparison\n",
      "  if burst_time != 'none':\n"
     ]
    },
    {
     "name": "stdout",
     "output_type": "stream",
     "text": [
      "5\n",
      "6\n",
      "7\n"
     ]
    }
   ],
   "source": [
    "### Bursttime included ###\n",
    "\n",
    "day = np.array([111209])\n",
    "#day = np.array(['091024', 101225, 111209, 140102, 140611, 150914, 150926]) #ULGRBs\n",
    "detector = np.array(['nb'])\n",
    "#echan = np.array([2, 3, 4, 5, 6])\n",
    "echan = np.array([4, 5, 6, 7])\n",
    "\n",
    "burst_array = np.array([[7.20222]])\n",
    "\n",
    "#if len(day) == 1:\n",
    "#    for j in range(0, len(detector)):\n",
    "#        for k in range(0,len(echan)):\n",
    "#            calc.curve_fit_plots(day, detector[j], echan[k])\n",
    "#else:\n",
    "for i in range(0, len(day)):\n",
    "    print day[i]\n",
    "    for j in range(0, len(detector)):\n",
    "        print detector[j]\n",
    "        for k in range(0, len(echan)):\n",
    "            print echan[k]\n",
    "            calc.curve_fit_plots(day[i], detector[j], echan[k], plot = 'yes!', burst_time = burst_array[i])"
   ]
  }
 ],
 "metadata": {
  "kernelspec": {
   "display_name": "Python 2",
   "language": "python",
   "name": "python2"
  },
  "language_info": {
   "codemirror_mode": {
    "name": "ipython",
    "version": 2
   },
   "file_extension": ".py",
   "mimetype": "text/x-python",
   "name": "python",
   "nbconvert_exporter": "python",
   "pygments_lexer": "ipython2",
   "version": "2.7.6"
  }
 },
 "nbformat": 4,
 "nbformat_minor": 0
}
