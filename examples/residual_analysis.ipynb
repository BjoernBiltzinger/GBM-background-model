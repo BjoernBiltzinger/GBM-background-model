{
 "cells": [
  {
   "cell_type": "code",
   "execution_count": 1,
   "metadata": {
    "collapsed": false
   },
   "outputs": [],
   "source": [
    "#!/usr/bin python2.7\n",
    "\n",
    "from astropy.io       import fits\n",
    "from astropy.table    import Table\n",
    "from astropy.time     import Time\n",
    "from datetime         import date\n",
    "from datetime         import datetime\n",
    "import ephem\n",
    "import fileinput\n",
    "import getpass\n",
    "import math\n",
    "import matplotlib.pyplot                   as plt\n",
    "import matplotlib                          as mpl\n",
    "import numpy                               as np\n",
    "from numpy            import linalg        as LA\n",
    "import os\n",
    "import pyfits\n",
    "import scipy.optimize                      as optimization\n",
    "from scipy            import integrate\n",
    "from scipy            import interpolate\n",
    "from scipy.optimize   import curve_fit\n",
    "import subprocess\n",
    "from subprocess       import Popen, PIPE\n",
    "import urllib2\n",
    "from work_module      import calculate\n",
    "from work_module      import detector\n",
    "from work_module      import readfile\n",
    "from work_module      import writefile\n",
    "calc = calculate()\n",
    "det = detector()\n",
    "rf = readfile()\n",
    "wf = writefile()"
   ]
  },
  {
   "cell_type": "code",
   "execution_count": 2,
   "metadata": {
    "collapsed": false
   },
   "outputs": [],
   "source": [
    "day = 150926\n",
    "data_type = 'ctime'\n",
    "detector_name = 'n4'\n",
    "echan = 2\n",
    "ordinal = lambda n: \"%d%s\" % (n,\"tsnrhtdd\"[(n/10%10!=1)*(n%10<4)*n%10::4])\n",
    "year = int('20' + str(day)[0:2])\n",
    "date = datetime(year, int(str(day)[2:4]), int(str(day)[4:6]))\n",
    "\n",
    "\n",
    "data = calc.curve_fit_plots(day, detector_name, echan)\n",
    "residuals = data[0]\n",
    "counts = data[1]\n",
    "fit_curve = data[2]\n",
    "cgb = data[3]\n",
    "magnetic = data[4]\n",
    "earth_ang_bin = data[5]\n",
    "sun_ang_bin = data[6]\n",
    "crab_ang_bin = data[7]\n",
    "scox_ang_bin = data[8]\n",
    "cygx_ang_bin = data[9]\n",
    "plot_time_bin = data[10]\n",
    "plot_time_sat = data[11]"
   ]
  },
  {
   "cell_type": "code",
   "execution_count": 15,
   "metadata": {
    "collapsed": true
   },
   "outputs": [],
   "source": [
    "rms = np.sqrt(np.mean(np.square(np.fabs(residuals))))"
   ]
  },
  {
   "cell_type": "code",
   "execution_count": 16,
   "metadata": {
    "collapsed": false
   },
   "outputs": [
    {
     "name": "stdout",
     "output_type": "stream",
     "text": [
      "32.0591908749\n"
     ]
    }
   ],
   "source": [
    "print rms"
   ]
  },
  {
   "cell_type": "code",
   "execution_count": null,
   "metadata": {
    "collapsed": false
   },
   "outputs": [],
   "source": [
    "saa_exits = [0]\n",
    "for i in range(1, len(counts)):\n",
    "    if np.logical_and(counts[i-1] == 0, counts[i] != 0):\n",
    "        print i\n",
    "        saa_exits.append(i)\n",
    "saa_exits = np.array(saa_exits)\n",
    "\n",
    "if saa_exits[1] - saa_exits[0] < 10:\n",
    "    saa_exits = np.delete(saa_exits, 0)"
   ]
  },
  {
   "cell_type": "code",
   "execution_count": null,
   "metadata": {
    "collapsed": false
   },
   "outputs": [],
   "source": [
    "saa_entries = [0]\n",
    "for i in range(1, len(counts)-1):\n",
    "    if np.logical_and(counts[i+1] == 0, counts[i] != 0):\n",
    "        print i\n",
    "        saa_entries.append(i)\n",
    "saa_entries = np.array(saa_entries)\n",
    "\n",
    "if saa_entries[1] - saa_entries[0] < 10:\n",
    "    saa_entries = np.delete(saa_entries, 0)"
   ]
  },
  {
   "cell_type": "code",
   "execution_count": null,
   "metadata": {
    "collapsed": true
   },
   "outputs": [],
   "source": [
    "#residuals[np.fabs(residuals) < 4*rms] = 0"
   ]
  },
  {
   "cell_type": "code",
   "execution_count": null,
   "metadata": {
    "collapsed": false
   },
   "outputs": [],
   "source": [
    "print residuals"
   ]
  },
  {
   "cell_type": "code",
   "execution_count": null,
   "metadata": {
    "collapsed": true
   },
   "outputs": [],
   "source": [
    "fourier = np.fft.fft(residuals[22312:167292])\n",
    "freq = np.fft.fftfreq(len(fourier), plot_time_bin[22314] - plot_time_bin[22313])"
   ]
  },
  {
   "cell_type": "code",
   "execution_count": null,
   "metadata": {
    "collapsed": false
   },
   "outputs": [],
   "source": [
    "print fourier"
   ]
  },
  {
   "cell_type": "code",
   "execution_count": null,
   "metadata": {
    "collapsed": false
   },
   "outputs": [],
   "source": [
    "#plt.plot(plot_time_bin[22312:167292], residuals[22312:167292], 'b-')\n",
    "plt.plot(freq, np.abs(fourier), 'b-')\n",
    "#plt.plot(freq, np.angle(fourier), 'ro')\n",
    "            \n",
    "plt.xlabel('Time of day in 24h', fontsize=20)\n",
    "plt.ylabel('Residual noise', fontsize=20)\n",
    "            \n",
    "plt.grid()\n",
    "            \n",
    "plt.title(data_type + '-countrate-fit residuals of the ' + detector_name + '-detector on the ' + ordinal(int(str(day)[4:6])) + ' ' + date.strftime('%B')[0:3] + ' ' + str(year), fontsize=30)\n",
    "            \n",
    "#plt.xlim([-0.5, 24.5])\n",
    "#if counts.all == total_rate.all:\n",
    "#    plt.ylim([-600, 600])\n",
    "#else:\n",
    "#plt.ylim([-300, 300])\n",
    "            \n",
    "\n",
    "            \n",
    "\n",
    "plt.show()"
   ]
  },
  {
   "cell_type": "code",
   "execution_count": null,
   "metadata": {
    "collapsed": false
   },
   "outputs": [],
   "source": [
    "import scipy.fftpack\n",
    "N = 167292-22312\n",
    "T = plot_time_bin[22314] - plot_time_bin[22313]\n",
    "\n",
    "yf = scipy.fftpack.fft(residuals[22312:167292])\n",
    "xf = np.linspace(0.0, 1.0/(2.0*T), N/2)\n",
    "\n",
    "fig, ax = plt.subplots()\n",
    "ax.plot(xf, 2.0/N * np.abs(yf[:N/2]))\n",
    "plt.show()"
   ]
  },
  {
   "cell_type": "code",
   "execution_count": 27,
   "metadata": {
    "collapsed": false
   },
   "outputs": [
    {
     "name": "stdout",
     "output_type": "stream",
     "text": [
      "1435\n",
      "1435\n"
     ]
    }
   ],
   "source": [
    "resids = residuals[22312:167292]\n",
    "times = plot_time_bin[22312:167292]\n",
    "\n",
    "binning = 101\n",
    "#if binning == 5:\n",
    "#    binned_res = resids[0::5] + resids[1::5] + resids[2::5] + resids[3::5] + resids[4::5]\n",
    "#    binned_times = times[2::5]\n",
    "#elif binning == 11:\n",
    "#    binned_res = resids[0::11] + resids[1::11] + resids[2::11] + resids[3::11] + resids[4::11] + resids[5::11] + resids[6::11] + resids[7::11] + resids[8::11] + resids[9::11] + resids[10::11]\n",
    "#    binned_times = times[5::11]\n",
    "    \n",
    "binned_res = resids[0::binning]\n",
    "binned_times = times[int(binning/2)::binning]\n",
    "for i in range(1, binning):\n",
    "    if len(binned_res) != len(resids[i::binning]):\n",
    "        binned_res = np.delete(binned_res, -1)\n",
    "    binned_res = np.add(binned_res, resids[i::binning])\n",
    "\n",
    "if len(binned_res) < len(binned_times):\n",
    "    binned_times = np.delete(binned_times, -1)\n",
    "\n",
    "print len(binned_res)\n",
    "print len(binned_times)"
   ]
  },
  {
   "cell_type": "code",
   "execution_count": 28,
   "metadata": {
    "collapsed": true
   },
   "outputs": [],
   "source": [
    "import scipy.fftpack\n",
    "N = len(binned_res)\n",
    "T = binned_times[1] - binned_times[0]\n",
    "\n",
    "yf = scipy.fftpack.fft(binned_res)\n",
    "xf = np.linspace(0.0, 1.0/(2.0*T), N/2)\n",
    "\n",
    "fig, ax = plt.subplots()\n",
    "ax.plot(xf, 2.0/N * np.abs(yf[:N/2]))\n",
    "plt.show()"
   ]
  },
  {
   "cell_type": "code",
   "execution_count": 29,
   "metadata": {
    "collapsed": true
   },
   "outputs": [],
   "source": [
    "plt.plot(binned_times, binned_res, 'b-')\n",
    "#plt.plot(freq, np.abs(fourier), 'b-')\n",
    "#plt.plot(freq, np.angle(fourier), 'ro')\n",
    "            \n",
    "plt.xlabel('Time of day in 24h', fontsize=20)\n",
    "plt.ylabel('Residual noise', fontsize=20)\n",
    "            \n",
    "plt.grid()\n",
    "            \n",
    "plt.title(data_type + '-countrate-fit residuals of the ' + detector_name + '-detector on the ' + ordinal(int(str(day)[4:6])) + ' ' + date.strftime('%B')[0:3] + ' ' + str(year), fontsize=30)\n",
    "            \n",
    "\n",
    "plt.show()"
   ]
  },
  {
   "cell_type": "code",
   "execution_count": 24,
   "metadata": {
    "collapsed": false
   },
   "outputs": [
    {
     "name": "stdout",
     "output_type": "stream",
     "text": [
      "32.0591908749\n"
     ]
    }
   ],
   "source": [
    "rms = np.sqrt(np.mean(np.square(np.fabs(binned_res))))\n",
    "\n",
    "print rms/binning"
   ]
  }
 ],
 "metadata": {
  "kernelspec": {
   "display_name": "Python 2",
   "language": "python",
   "name": "python2"
  },
  "language_info": {
   "codemirror_mode": {
    "name": "ipython",
    "version": 2
   },
   "file_extension": ".py",
   "mimetype": "text/x-python",
   "name": "python",
   "nbconvert_exporter": "python",
   "pygments_lexer": "ipython2",
   "version": "2.7.6"
  }
 },
 "nbformat": 4,
 "nbformat_minor": 0
}
