{
 "cells": [
  {
   "cell_type": "code",
   "execution_count": 1,
   "metadata": {
    "collapsed": false
   },
   "outputs": [],
   "source": [
    "#!/usr/bin python2.7\n",
    "\n",
    "from astropy.io       import fits\n",
    "from astropy.table    import Table\n",
    "from astropy.time     import Time\n",
    "from datetime         import date\n",
    "from datetime         import datetime\n",
    "import ephem\n",
    "import fileinput\n",
    "import getpass\n",
    "import math\n",
    "import matplotlib.pyplot                   as plt\n",
    "import matplotlib                          as mpl\n",
    "import numpy                               as np\n",
    "from numpy            import linalg        as LA\n",
    "import os\n",
    "import pyfits\n",
    "import scipy.optimize                      as optimization\n",
    "from scipy            import integrate\n",
    "from scipy            import interpolate\n",
    "from scipy.optimize   import curve_fit\n",
    "import subprocess\n",
    "from subprocess       import Popen, PIPE\n",
    "import urllib2\n",
    "from work_module      import calculate\n",
    "from work_module      import detector\n",
    "from work_module      import readfile\n",
    "from work_module      import writefile\n",
    "calc = calculate()\n",
    "det = detector()\n",
    "rf = readfile()\n",
    "wf = writefile()"
   ]
  },
  {
   "cell_type": "code",
   "execution_count": 2,
   "metadata": {
    "collapsed": false
   },
   "outputs": [
    {
     "name": "stdout",
     "output_type": "stream",
     "text": [
      "n0\n"
     ]
    },
    {
     "name": "stderr",
     "output_type": "stream",
     "text": [
      "work_module.py:2542: RuntimeWarning: invalid value encountered in arccos\n",
      "  ang_det_sun = np.arccos(scalar_product)\n",
      "work_module.py:922: RuntimeWarning: invalid value encountered in arccos\n",
      "  ang_det_burst = np.arccos(scalar_product)\n",
      "work_module.py:2102: RuntimeWarning: invalid value encountered in arccos\n",
      "  ang_det_geo = np.arccos(scalar_product)\n"
     ]
    },
    {
     "name": "stdout",
     "output_type": "stream",
     "text": [
      "n1\n",
      "Error - curve_fit failed for the value 4.\n",
      "Error - curve_fit failed for the value 12.\n",
      "n2\n",
      "n3\n",
      "n4\n",
      "n5\n",
      "n6\n",
      "n7\n",
      "n8\n",
      "n9\n",
      "na\n",
      "nb\n"
     ]
    }
   ],
   "source": [
    "detectors = np.array(['n0', 'n1', 'n2', 'n3', 'n4', 'n5', 'n6', 'n7', 'n8', 'n9', 'na', 'nb'])\n",
    "#detectors = np.array(['n5', 'nb'])\n",
    "\n",
    "day = 150926\n",
    "echan = 1\n",
    "year = int('20' + str(day)[0:2])\n",
    "\n",
    "#start_time = 9.98\n",
    "#end_time = 10.15\n",
    "\n",
    "ordinal = lambda n: \"%d%s\" % (n,\"tsnrhtdd\"[(n/10%10!=1)*(n%10<4)*n%10::4])\n",
    "date = datetime(year, int(str(day)[2:4]), int(str(day)[4:6]))\n",
    "\n",
    "sat_time_bin = rf.poshist_bin(day, 0, detectors[0])[0]\n",
    "\n",
    "plot_time_sat_date = calc.met_to_date(sat_time_bin)[0]\n",
    "plot_time_sat = (plot_time_sat_date - calc.day_to_met(day)[1])*24#Time of day in hours\n",
    "\n",
    "residuals = np.zeros(len(sat_time_bin))\n",
    "\n",
    "for i in range(0, len(detectors)):\n",
    "    print detectors[i]\n",
    "    residual = calc.curve_fit_plots(day, detectors[i], echan)[0]\n",
    "    \n",
    "    residuals = residuals + residual\n",
    "    \n",
    "\n",
    "plt.plot(plot_time_sat, residuals, label = 'residuals')    \n",
    "plt.legend()\n",
    "\n",
    "plt.title('Plot of the added residual counts of all detectors for the ' + ordinal(int(str(echan))) + ' energy channel on the ' + ordinal(int(str(day)[4:])) + ' ' + date.strftime('%B')[0:3] + ' 20' + str(day)[:2])\n",
    "plt.xlabel('daytime')\n",
    "plt.ylabel('combined residual counts')\n",
    "\n",
    "plt.xlim([-0.5, 24.5])\n",
    "plt.ylim([-1500, 2000])\n",
    "\n",
    "plt.show()"
   ]
  }
 ],
 "metadata": {
  "kernelspec": {
   "display_name": "Python 2",
   "language": "python",
   "name": "python2"
  },
  "language_info": {
   "codemirror_mode": {
    "name": "ipython",
    "version": 2
   },
   "file_extension": ".py",
   "mimetype": "text/x-python",
   "name": "python",
   "nbconvert_exporter": "python",
   "pygments_lexer": "ipython2",
   "version": "2.7.6"
  }
 },
 "nbformat": 4,
 "nbformat_minor": 0
}
