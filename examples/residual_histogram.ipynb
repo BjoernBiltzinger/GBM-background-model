{
 "cells": [
  {
   "cell_type": "code",
   "execution_count": 1,
   "metadata": {
    "collapsed": true
   },
   "outputs": [],
   "source": [
    "#!/usr/bin python2.7\n",
    "\n",
    "from astropy.io       import fits\n",
    "from astropy.table    import Table\n",
    "from astropy.time     import Time\n",
    "from datetime         import date\n",
    "from datetime         import datetime\n",
    "import ephem\n",
    "import fileinput\n",
    "import getpass\n",
    "import math\n",
    "import matplotlib.pyplot                   as plt\n",
    "import matplotlib                          as mpl\n",
    "import numpy                               as np\n",
    "from numpy            import linalg        as LA\n",
    "import os\n",
    "import pyfits\n",
    "import scipy.optimize                      as optimization\n",
    "from scipy            import integrate\n",
    "from scipy            import interpolate\n",
    "from scipy.optimize   import curve_fit\n",
    "import subprocess\n",
    "from subprocess       import Popen, PIPE\n",
    "import urllib2\n",
    "from work_module      import calculate\n",
    "from work_module      import detector\n",
    "from work_module      import readfile\n",
    "from work_module      import writefile\n",
    "calc = calculate()\n",
    "det = detector()\n",
    "rf = readfile()\n",
    "wf = writefile()"
   ]
  },
  {
   "cell_type": "code",
   "execution_count": 6,
   "metadata": {
    "collapsed": true
   },
   "outputs": [],
   "source": [
    "day = 150926\n",
    "#detectors = np.array(['n0', 'n1', 'n2', 'n3', 'n4', 'n5', 'n6', 'n7', 'n8', 'n9', 'na', 'nb'])\n",
    "detector = 'n5'\n",
    "#echans = np.array([1, 2, 3, 4, 5, 6, 7])\n",
    "echan = 2\n",
    "data_type = 'ctime'\n",
    "sources_number = 13\n",
    "#sources_number1 = 18\n",
    "#sources_number2 = 13"
   ]
  },
  {
   "cell_type": "code",
   "execution_count": 7,
   "metadata": {
    "collapsed": false
   },
   "outputs": [
    {
     "name": "stdout",
     "output_type": "stream",
     "text": [
      "6.03625989827\n"
     ]
    }
   ],
   "source": [
    "data1 = rf.fits_data(day, detector, echan, data_type, sources_number)\n",
    "residuals1 = data1[0].astype(np.float)\n",
    "counts1 = data1[1].astype(np.float)\n",
    "fit_curve1 = data1[2].astype(np.float)\n",
    "cgb1 = data1[3].astype(np.float)\n",
    "magnetic1 = data1[4].astype(np.float)\n",
    "earth_ang_bin1 = data1[5].astype(np.float)\n",
    "sun_ang_bin1 = data1[6].astype(np.float)\n",
    "sources_fit_curve1 = data1[7].astype(np.float)\n",
    "plot_time_bin1 = data1[8].astype(np.float)\n",
    "plot_time_sat1 = data1[9].astype(np.float)\n",
    "fit_coeffs1 = data1[10].astype(np.float)\n",
    "a1 = fit_coeffs1[0]\n",
    "b1 = fit_coeffs1[1]\n",
    "c1 = fit_coeffs1[2]\n",
    "d1 = fit_coeffs1[3]\n",
    "sources_ang_bin1 = data1[11].astype(np.float)\n",
    "sources_names1 = data1[12]\n",
    "sources_coeff1 = data1[13].astype(np.float)\n",
    "\n",
    "print np.mean(residuals1)"
   ]
  },
  {
   "cell_type": "code",
   "execution_count": 8,
   "metadata": {
    "collapsed": false
   },
   "outputs": [
    {
     "name": "stdout",
     "output_type": "stream",
     "text": [
      "1.22270508906\n"
     ]
    }
   ],
   "source": [
    "### residuals hist ###\n",
    "\n",
    "residuals = residuals1[np.where(earth_ang_bin1 <> 0)]\n",
    "\n",
    "hist_data = np.histogram(residuals, bins = 'auto')\n",
    "hist = hist_data[0]\n",
    "bins = hist_data[1]\n",
    "#bin_centres = (bins[:-1] + bins[1:])/2\n",
    "\n",
    "width = 1. * (bins[1] - bins[0])\n",
    "center = (bins[:-1] + bins[1:]) / 2\n",
    "plt.bar(center, hist, align='center', width=width, edgecolor = \"none\")\n",
    "plt.show()\n",
    "\n",
    "print width"
   ]
  },
  {
   "cell_type": "code",
   "execution_count": 14,
   "metadata": {
    "collapsed": false
   },
   "outputs": [
    {
     "name": "stdout",
     "output_type": "stream",
     "text": [
      "Fitted mean =  4.11604183918\n",
      "Fitted standard deviation =  29.9012541011\n"
     ]
    }
   ],
   "source": [
    "def gauss(x, *p):\n",
    "    A, mu, sigma = p\n",
    "    return A*np.exp(-(x-mu)**2/(2.*sigma**2))\n",
    "\n",
    "p0 = [1., 0., 1.]\n",
    "\n",
    "coeff, var_matrix = optimization.curve_fit(gauss, center, hist, p0=p0)\n",
    "\n",
    "hist_fit = gauss(center, *coeff)\n",
    "\n",
    "plt.bar(center, hist, label='Test data', align='center', width=width, edgecolor = \"none\")\n",
    "plt.plot(center, hist_fit, 'r-', linewidth = 2, label='Fitted data')\n",
    "\n",
    "plt.xlim(-150, 150)\n",
    "\n",
    "plt.title('Residual histogram of the n5-detector on the 26th Sep 2015', fontsize = 30)\n",
    "plt.xlabel('Residuals', fontsize = 20)\n",
    "plt.ylabel('Number per bin', fontsize = 20)\n",
    "plt.tick_params(axis='both', which = 'major', labelsize = 15)\n",
    "\n",
    "print 'Fitted mean = ', coeff[1]\n",
    "print 'Fitted standard deviation = ', coeff[2]\n",
    "\n",
    "plt.show()\n",
    "\n",
    "\n",
    "#import matplotlib.mlab as mlab\n",
    "#plt.figure(1)\n",
    "#plt.hist(residuals)\n",
    "#plt.xlim(bins[0], bins[-1])\n",
    "\n",
    "#mean = np.mean(residuals)\n",
    "#variance = np.var(residuals)\n",
    "#sigma = np.sqrt(variance)\n",
    "\n",
    "#dx = bins[1] - bins[0]\n",
    "#scale = len(residuals)*dx\n",
    "#plt.plot(bins, mlab.normpdf(bins,mean,sigma)*scale, 'r-')\n",
    "#plt.bar(center, hist, align='center', width=width, edgecolor = \"none\")\n",
    "#plt.plot(bins,mlab.normpdf(bins,mean,sigma))\n",
    "\n",
    "#plt.show()"
   ]
  },
  {
   "cell_type": "code",
   "execution_count": null,
   "metadata": {
    "collapsed": false
   },
   "outputs": [],
   "source": [
    "### counts hist ###\n",
    "\n",
    "counts = counts1[np.where(earth_ang_bin1 <> 0)]\n",
    "\n",
    "hist_data = np.histogram(counts, bins = 'auto')\n",
    "hist = hist_data[0]\n",
    "bins = hist_data[1]\n",
    "\n",
    "width = 1. * (bins[1] - bins[0])\n",
    "center = (bins[:-1] + bins[1:]) / 2\n",
    "plt.bar(center, hist, align='center', width=width, edgecolor = \"none\")\n",
    "plt.show()\n",
    "\n",
    "print width"
   ]
  },
  {
   "cell_type": "code",
   "execution_count": null,
   "metadata": {
    "collapsed": false
   },
   "outputs": [],
   "source": [
    "def gauss(x, *p):\n",
    "    A, mu, sigma = p\n",
    "    return A*np.exp(-(x-mu)**2/(2.*sigma**2))\n",
    "\n",
    "mpl.rcParams['axes.color_cycle'] = ['b', 'g', 'r', 'c', 'm', 'y', 'k']\n",
    "\n",
    "for echan in echans:\n",
    "    data1 = rf.fits_data(day, detector, echan, data_type, sources_number)\n",
    "    residuals1 = data1[0].astype(np.float)\n",
    "    counts1 = data1[1].astype(np.float)\n",
    "    fit_curve1 = data1[2].astype(np.float)\n",
    "    cgb1 = data1[3].astype(np.float)\n",
    "    magnetic1 = data1[4].astype(np.float)\n",
    "    earth_ang_bin1 = data1[5].astype(np.float)\n",
    "    sun_ang_bin1 = data1[6].astype(np.float)\n",
    "    sources_fit_curve1 = data1[7].astype(np.float)\n",
    "    plot_time_bin1 = data1[8].astype(np.float)\n",
    "    plot_time_sat1 = data1[9].astype(np.float)\n",
    "    fit_coeffs1 = data1[10].astype(np.float)\n",
    "    a1 = fit_coeffs1[0]\n",
    "    b1 = fit_coeffs1[1]\n",
    "    c1 = fit_coeffs1[2]\n",
    "    d1 = fit_coeffs1[3]\n",
    "    sources_ang_bin1 = data1[11].astype(np.float)\n",
    "    sources_names1 = data1[12]\n",
    "    sources_coeff1 = data1[13].astype(np.float)\n",
    "    \n",
    "    residuals = residuals1[np.where(earth_ang_bin1 <> 0)]\n",
    "\n",
    "    hist_data = np.histogram(residuals, bins = 'auto')\n",
    "    hist = hist_data[0]\n",
    "    bins = hist_data[1]\n",
    "    #bin_centres = (bins[:-1] + bins[1:])/2\n",
    "    \n",
    "    width = 1. * (bins[1] - bins[0])\n",
    "    center = (bins[:-1] + bins[1:]) / 2\n",
    "\n",
    "    p0 = [1., 0., 1.]\n",
    "\n",
    "    coeff, var_matrix = optimization.curve_fit(gauss, center, hist, p0=p0)\n",
    "\n",
    "    hist_fit = gauss(center, *coeff)\n",
    "\n",
    "    #plt.bar(center, hist, label='Test data', align='center', width=width, edgecolor = \"none\")\n",
    "    plt.plot(center, hist_fit, linewidth = 1, label='Echan ' + str(echan))\n",
    "\n",
    "    print 'Fitted mean = ', coeff[1]\n",
    "    print 'Fitted standard deviation = ', coeff[2]\n",
    "\n",
    "plt.legend()\n",
    "plt.show()\n",
    "    \n",
    "    \n",
    "    \n",
    "    "
   ]
  },
  {
   "cell_type": "code",
   "execution_count": null,
   "metadata": {
    "collapsed": false
   },
   "outputs": [],
   "source": [
    "plt.plot(bins[:-1], hist)\n",
    "\n",
    "plt.show()"
   ]
  },
  {
   "cell_type": "code",
   "execution_count": null,
   "metadata": {
    "collapsed": false
   },
   "outputs": [],
   "source": [
    "print len(earth_ang_bin1)\n",
    "print 1/np.sqrt(len(earth_ang_bin1))\n",
    "print 1/np.sqrt(4800)\n",
    "#print 1/math.factorial(len(earth_ang_bin1))"
   ]
  },
  {
   "cell_type": "code",
   "execution_count": null,
   "metadata": {
    "collapsed": true
   },
   "outputs": [],
   "source": []
  },
  {
   "cell_type": "code",
   "execution_count": null,
   "metadata": {
    "collapsed": true
   },
   "outputs": [],
   "source": []
  },
  {
   "cell_type": "code",
   "execution_count": null,
   "metadata": {
    "collapsed": false
   },
   "outputs": [],
   "source": [
    "data2 = rf.fits_data(day, detector, echan, data_type, sources_number2)\n",
    "residuals2 = data2[0].astype(np.float)\n",
    "counts2 = data2[1].astype(np.float)\n",
    "fit_curve2 = data2[2].astype(np.float)\n",
    "cgb2 = data2[3].astype(np.float)\n",
    "magnetic2 = data2[4].astype(np.float)\n",
    "earth_ang_bin2 = data2[5].astype(np.float)\n",
    "sun_ang_bin2 = data2[6].astype(np.float)\n",
    "sources_fit_curve2 = data2[7].astype(np.float)\n",
    "plot_time_bin2 = data2[8].astype(np.float)\n",
    "plot_time_sat2 = data2[9].astype(np.float)\n",
    "fit_coeffs2 = data2[10].astype(np.float)\n",
    "a2 = fit_coeffs2[0]\n",
    "b2 = fit_coeffs2[1]\n",
    "c2 = fit_coeffs2[2]\n",
    "d2 = fit_coeffs2[3]\n",
    "sources_ang_bin2 = data2[11].astype(np.float)\n",
    "sources_names2 = data2[12]\n",
    "sources_coeff2 = data2[13].astype(np.float)\n",
    "\n",
    "print np.mean(residuals2)"
   ]
  },
  {
   "cell_type": "code",
   "execution_count": null,
   "metadata": {
    "collapsed": true
   },
   "outputs": [],
   "source": [
    "plt.plot(plot_time_sat1, residuals2 - residuals1, 'b-')\n",
    "plt.plot(plot_time_sat1, fit_curve1 - fit_curve2, 'r-')\n",
    "\n",
    "plt.grid()\n",
    "plt.show()"
   ]
  },
  {
   "cell_type": "code",
   "execution_count": null,
   "metadata": {
    "collapsed": true
   },
   "outputs": [],
   "source": []
  },
  {
   "cell_type": "code",
   "execution_count": null,
   "metadata": {
    "collapsed": true
   },
   "outputs": [],
   "source": []
  }
 ],
 "metadata": {
  "kernelspec": {
   "display_name": "Python 2",
   "language": "python",
   "name": "python2"
  },
  "language_info": {
   "codemirror_mode": {
    "name": "ipython",
    "version": 2
   },
   "file_extension": ".py",
   "mimetype": "text/x-python",
   "name": "python",
   "nbconvert_exporter": "python",
   "pygments_lexer": "ipython2",
   "version": "2.7.6"
  }
 },
 "nbformat": 4,
 "nbformat_minor": 0
}
