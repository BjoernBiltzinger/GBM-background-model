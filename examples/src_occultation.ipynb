{
 "cells": [
  {
   "cell_type": "code",
   "execution_count": 1,
   "metadata": {
    "collapsed": true
   },
   "outputs": [],
   "source": [
    "#!/usr/bin python2.7\n",
    "\n",
    "from astropy.io       import fits\n",
    "from astropy.table    import Table\n",
    "from astropy.time     import Time\n",
    "from datetime         import date\n",
    "from datetime         import datetime\n",
    "import ephem\n",
    "import fileinput\n",
    "import getpass\n",
    "import math\n",
    "import matplotlib.pyplot                   as plt\n",
    "import matplotlib                          as mpl\n",
    "import numpy                               as np\n",
    "from numpy            import linalg        as LA\n",
    "import os\n",
    "import pyfits\n",
    "import scipy.optimize                      as optimization\n",
    "from scipy            import integrate\n",
    "from scipy            import interpolate\n",
    "from scipy.optimize   import curve_fit\n",
    "import subprocess\n",
    "from subprocess       import Popen, PIPE\n",
    "import urllib2\n",
    "from work_module      import calculate\n",
    "from work_module      import detector\n",
    "from work_module      import readfile\n",
    "from work_module      import writefile\n",
    "calc = calculate()\n",
    "det = detector()\n",
    "rf = readfile()\n",
    "wf = writefile()\n",
    "\n",
    "#docstrings of the different self-made classes within the self-made module\n",
    "#cdoc = calc.__doc__\n",
    "#ddoc = det.__doc__\n",
    "#rdoc = rf.__doc__"
   ]
  },
  {
   "cell_type": "code",
   "execution_count": 2,
   "metadata": {
    "collapsed": true
   },
   "outputs": [],
   "source": [
    "def src_occultation_bin(self, day, ra, dec, bin_time_mid = 0, detector = 0, data_type = 'ctime'):\n",
    "    \"\"\"This function calculates the angle between a source and the earth and stores the data in arrays of the form: ang_occ, src_pos, src_rad\\n\n",
    "    Input:\\n\n",
    "    calculate.ang_to_earth( day = YYMMDD, ra, dec)\\n\n",
    "    Output:\\n\n",
    "    0 = angle between the source and the earth\\n\n",
    "    1 = position of the source in J2000 coordinates\\n\n",
    "    2 = position of the source in right ascension and declination\"\"\"\n",
    "    #get the source to earth angle\n",
    "    data = calculate.ang_to_earth_bin(calculate(), day, ra, dec, bin_time_mid, detector, data_type)\n",
    "    ang_occ = data[0]\n",
    "    src_pos = data[1]\n",
    "    src_rad = data[2]\n",
    "    \n",
    "    #define the size of the earth\n",
    "    earth_radius = 6371000.8 #geometrically one doesn't need the earth radius at the satellite's position. Instead one needs the radius at the visible horizon. Because this is too much effort to calculate, if one considers the earth as an ellipsoid, it was decided to use the mean earth radius.\n",
    "    atmosphere = 12000. #the troposphere is considered as part of the atmosphere that still does considerable absorption of gamma-rays\n",
    "    r = earth_radius + atmosphere #the full radius of the occulting earth-sphere\n",
    "    sat_dist = 6912000.\n",
    "    earth_opening_angle = math.asin(r/sat_dist)*360./(2.*math.pi) #earth-cone\n",
    "    \n",
    "    ang_occ[ang_occ < earth_opening_angle] = 0.\n",
    "    return ang_occ, src_pos, src_rad"
   ]
  },
  {
   "cell_type": "code",
   "execution_count": 4,
   "metadata": {
    "collapsed": false
   },
   "outputs": [
    {
     "name": "stdout",
     "output_type": "stream",
     "text": [
      "[ 56.14785004  56.19147491  56.23511505 ...,  92.90594482  92.95466614\n",
      "  93.00337219]\n"
     ]
    }
   ],
   "source": [
    "day = 150926\n",
    "ra = 15.03\n",
    "dec = -20.5\n",
    "\n",
    "ang_occ = ang_to_earth(day, ra, dec)[0]\n",
    "print ang_occ"
   ]
  }
 ],
 "metadata": {
  "kernelspec": {
   "display_name": "Python 2",
   "language": "python",
   "name": "python2"
  },
  "language_info": {
   "codemirror_mode": {
    "name": "ipython",
    "version": 2
   },
   "file_extension": ".py",
   "mimetype": "text/x-python",
   "name": "python",
   "nbconvert_exporter": "python",
   "pygments_lexer": "ipython2",
   "version": "2.7.6"
  }
 },
 "nbformat": 4,
 "nbformat_minor": 0
}
