{
 "cells": [
  {
   "cell_type": "code",
   "execution_count": 1,
   "metadata": {
    "collapsed": true
   },
   "outputs": [],
   "source": [
    "%matplotlib inline"
   ]
  },
  {
   "cell_type": "code",
   "execution_count": 2,
   "metadata": {
    "collapsed": false
   },
   "outputs": [
    {
     "name": "stderr",
     "output_type": "stream",
     "text": [
      "work_module.py:1349: RuntimeWarning: invalid value encountered in arccos\n",
      "  ang_det_sun = np.arccos(scalar_product)\n",
      "work_module.py:1065: RuntimeWarning: invalid value encountered in arccos\n",
      "  ang_det_geo = np.arccos(scalar_product)\n"
     ]
    }
   ],
   "source": [
    "#!/usr/bin python2.7\n",
    "\n",
    "from astropy.io       import fits\n",
    "from astropy.table    import Table\n",
    "from astropy.time     import Time\n",
    "from datetime         import date\n",
    "from datetime         import datetime\n",
    "import ephem\n",
    "import fileinput\n",
    "import getpass\n",
    "import math\n",
    "import matplotlib.pyplot                   as plt\n",
    "import matplotlib                          as mpl\n",
    "import numpy                               as np\n",
    "from numpy            import linalg        as LA\n",
    "import os\n",
    "import pyfits\n",
    "import scipy.optimize                      as optimization\n",
    "from scipy            import integrate\n",
    "from scipy            import interpolate\n",
    "from scipy.optimize   import curve_fit\n",
    "import subprocess\n",
    "from subprocess       import Popen, PIPE\n",
    "import urllib2\n",
    "from work_module      import calculate\n",
    "from work_module      import detector\n",
    "from work_module      import readfile\n",
    "from work_module      import writefile\n",
    "calc = calculate()\n",
    "det = detector()\n",
    "rf = readfile()\n",
    "wf = writefile()\n",
    "\n",
    "#docstrings of the different self-made classes within the self-made module\n",
    "#cdoc = calc.__doc__\n",
    "#ddoc = det.__doc__\n",
    "#rdoc = rf.__doc__\n",
    "\n",
    "\n",
    "\n",
    "day = 150926\n",
    "detector = det.n5\n",
    "data_type = 'ctime'\n",
    "year = int('20' + str(day)[0:2])\n",
    "\n",
    "#get the iso-date-format from the day\n",
    "date = datetime(year, int(str(day)[2:4]), int(str(day)[4:6]))\n",
    "\n",
    "#get the ordinal indicator for the date\n",
    "ordinal = lambda n: \"%d%s\" % (n,\"tsnrhtdd\"[(n/10%10!=1)*(n%10<4)*n%10::4])\n",
    "\n",
    "#read the measurement data\n",
    "ctime_data = rf.ctime(detector, day)\n",
    "echan = ctime_data[0]\n",
    "total_counts = ctime_data[1]\n",
    "echan_counts = ctime_data[2]\n",
    "total_rate = ctime_data[3]\n",
    "echan_rate = ctime_data[4]\n",
    "bin_time = ctime_data[5]\n",
    "good_time = ctime_data[6]\n",
    "exptime = ctime_data[7]\n",
    "bin_time_mid = np.array((bin_time[:,0]+bin_time[:,1])/2)\n",
    "\n",
    "echan = 4 #define which energy-channels one wants to look at\n",
    "counts = echan_rate[echan]\n",
    "#counts = total_rate\n",
    "\n",
    "#read the satellite data\n",
    "sat_data = rf.poshist_bin(day, bin_time_mid, detector, data_type)\n",
    "sat_time_bin = sat_data[0]\n",
    "sat_pos_bin = sat_data[1]\n",
    "sat_lat_bin = sat_data[2]\n",
    "sat_lon_bin = sat_data[3]\n",
    "sat_q_bin = sat_data[4]\n",
    "\n",
    "#calculate the sun data\n",
    "sun_data = calc.sun_ang_bin(detector, day, bin_time_mid, data_type)\n",
    "sun_ang_bin = sun_data[0]\n",
    "sun_ang_bin = calc.ang_eff(sun_ang_bin, echan)[0]\n",
    "\n",
    "#calculate the earth data\n",
    "earth_data = calc.earth_ang_bin(detector, day, bin_time_mid, data_type)\n",
    "earth_ang_bin = earth_data[0]\n",
    "earth_ang_bin = calc.ang_eff(earth_ang_bin, echan)[0]\n",
    "#earth_ang_bin = calc.earth_occ_eff(earth_ang_bin, echan)\n",
    "\n",
    "#read the SFL data\n",
    "flares = rf.flares(year)\n",
    "flares_day = flares[0]\n",
    "flares_time = flares[1]\n",
    "if np.any(flares_day == day) == True:\n",
    "    flares_today = flares_time[:,np.where(flares_day == day)]\n",
    "    flares_today = np.squeeze(flares_today, axis=(1,))/3600.\n",
    "else:\n",
    "    flares_today = np.array(-5)\n",
    "\n",
    "\n",
    "#periodical function corresponding to the orbital behaviour -> reference day is 150926, periodical shift per day is approximately 0.199*math.pi\n",
    "sat_time = rf.poshist(day)[0]\n",
    "'''def j2000_orb(f, g, counts):#J2000-position oriented orbit\n",
    "    j2000_orb = f*(calc.intpol(np.sin((2*math.pi*np.arange(len(sat_time)))/5531 + g), day, 0, sat_time, bin_time_mid, detector)[0])\n",
    "    j2000_orb[np.where(counts == 0)] = 0\n",
    "    return j2000_orb\n",
    "\n",
    "def geo_orb(g, h, counts):#LON-oriented orbit (earth rotation considered -> orbit within the magnetic field of the earth)\n",
    "    geo_orb = g*(calc.intpol(np.sin((2*math.pi*np.arange(len(sat_time)))/6120.85 + h), day, 0, sat_time, bin_time_mid, detector)[0])\n",
    "    geo_orb[np.where(counts == 0)] = 0\n",
    "    return geo_orb'''#excluded, because their impact on the background is insignificant\n",
    "\n",
    "\n",
    "#read the magnetic field data\n",
    "'''magn_data = rf.magfits(day)\n",
    "t_magn = magn_data[0]\n",
    "h_magn = magn_data[1]\n",
    "x_magn = magn_data[2]\n",
    "y_magn = magn_data[3]\n",
    "z_magn = magn_data[4]\n",
    "t_magn = calc.intpol(t_magn, day, 0, sat_time, bin_time_mid)[0]\n",
    "h_magn = calc.intpol(h_magn, day, 0, sat_time, bin_time_mid)[0]\n",
    "z_magn = calc.intpol(z_magn, day, 0, sat_time, bin_time_mid)[0]\n",
    "\n",
    "magnetic = z_magn#define which component of the magnetic field to plot'''\n",
    "\n",
    "lat_data = rf.mcilwain(day)\n",
    "mc_b = lat_data[1]\n",
    "mc_l = lat_data[2]\n",
    "\n",
    "mc_b = calc.intpol(mc_b, day, 0, sat_time, bin_time_mid)[0]\n",
    "mc_l = calc.intpol(mc_l, day, 0, sat_time, bin_time_mid)[0]\n",
    "\n",
    "magnetic = mc_l\n",
    "\n",
    "#constant function corresponding to the diffuse y-ray background\n",
    "cgb = np.ones(len(counts))\n",
    "\n",
    "\n"
   ]
  },
  {
   "cell_type": "code",
   "execution_count": 16,
   "metadata": {
    "collapsed": false,
    "scrolled": false
   },
   "outputs": [
    {
     "data": {
      "text/plain": [
       "(array([  2385,   2386,   2387,   2388,   2389,   2390,   2391,   2392,\n",
       "          2393,   2394,   2395,   2396,   2397,   2398,  22294,  22295,\n",
       "         22296,  22297,  22298,  22299,  22300,  22301,  22302,  22303,\n",
       "         22304,  22305,  22306,  22307,  22308,  22309,  22310,  22311,\n",
       "        167293, 167294, 167295, 167296, 167297, 167298, 167299, 167300,\n",
       "        167301, 167302, 167303, 167304, 167305, 167306, 167307, 185428,\n",
       "        185429, 185430, 185431, 185432, 185433, 185434, 185435, 185436,\n",
       "        185437, 185438, 185439, 185440, 185441, 185442, 202547, 202548,\n",
       "        202549, 202550, 202551, 202552, 202553, 202554, 202555, 202556,\n",
       "        202557, 202558, 202559, 202560, 202561, 219453, 219454, 219455,\n",
       "        219456, 219457, 219458, 219459, 219460, 219461, 219462, 219463,\n",
       "        219464, 219465, 219466, 219467, 219468, 219469, 219470, 236923,\n",
       "        236924, 236925, 236926, 236927, 236928, 236929, 236930, 236931,\n",
       "        236932, 236933, 236934, 236935, 236936, 255179, 255180, 255181,\n",
       "        255182, 255183, 255184, 255185, 255186, 255187, 255188, 255189,\n",
       "        255190, 255191, 255192, 273980, 273981, 273982, 273983, 273984,\n",
       "        273985, 273986, 273987, 273988, 273989, 273990, 273991, 273992,\n",
       "        273993, 273994, 273995, 273996, 273997, 293264, 293265, 293266,\n",
       "        293267, 293268, 293269, 293270, 293271, 293272, 293273, 293274,\n",
       "        293275, 293276, 293277, 293278]),)"
      ]
     },
     "execution_count": 16,
     "metadata": {},
     "output_type": "execute_result"
    }
   ],
   "source": [
    "np.where(counts == 0)"
   ]
  },
  {
   "cell_type": "code",
   "execution_count": 144,
   "metadata": {
    "collapsed": false
   },
   "outputs": [
    {
     "name": "stdout",
     "output_type": "stream",
     "text": [
      "2399\n",
      "22312\n",
      "167308\n",
      "185443\n",
      "202562\n",
      "219471\n",
      "236937\n",
      "255193\n",
      "273998\n"
     ]
    }
   ],
   "source": [
    "saa_exits = [0]\n",
    "for i in range(1, len(counts)):\n",
    "    if np.logical_and(counts[i-1] == 0, counts[i] != 0):\n",
    "        print i\n",
    "        saa_exits.append(i)\n",
    "saa_exits = np.array(saa_exits)"
   ]
  },
  {
   "cell_type": "code",
   "execution_count": 145,
   "metadata": {
    "collapsed": false
   },
   "outputs": [
    {
     "name": "stdout",
     "output_type": "stream",
     "text": [
      "2419\n",
      "2499\n",
      "22381\n",
      "22412\n",
      "167358\n",
      "167408\n",
      "185449\n",
      "185543\n",
      "202603\n",
      "202662\n",
      "219486\n",
      "219571\n",
      "237024\n",
      "237037\n",
      "255235\n",
      "255293\n",
      "274018\n",
      "274098\n"
     ]
    }
   ],
   "source": [
    "for i in range(1, len(counts)):\n",
    "    if np.logical_and(counts[i-1] == 0, counts[i] != 0):\n",
    "        #print np.where(counts == np.amax(counts[i:i+100]))\n",
    "        print np.argmax(counts[i:i+100]) + i\n",
    "        #for j in range(i, i + 50):\n",
    "        #    if np.logical_and.reduce((counts[j] > counts[j-6], counts[j] > counts[j-5], counts[j] > counts[j-4], counts[j] > counts[j-3], counts[j] > counts[j-2], counts[j] > counts[j-1], counts[j] > counts[j+1], counts[j] > counts[j+2], counts[j] > counts[j+3], counts[j] > counts[j+4], counts[j] > counts[j+5], counts[j] > counts[j+6])):\n",
    "        #        print j\n",
    "#2419\n",
    "#22381\n",
    "#167358\n",
    "#185449\n",
    "#202603\n",
    "#219486\n",
    "#237024\n",
    "#255235\n",
    "#274018"
   ]
  },
  {
   "cell_type": "code",
   "execution_count": 146,
   "metadata": {
    "collapsed": false
   },
   "outputs": [
    {
     "name": "stdout",
     "output_type": "stream",
     "text": [
      "2385\n",
      "22294\n",
      "167293\n",
      "185428\n",
      "202547\n",
      "219453\n",
      "236923\n",
      "255179\n",
      "273980\n",
      "293264\n"
     ]
    }
   ],
   "source": [
    "i = 0\n",
    "saa_entries = []\n",
    "while i < len(counts):\n",
    "    if counts[i] == 0:\n",
    "        saa_entries.append(i)\n",
    "        print i\n",
    "        i = i + 100\n",
    "    else:\n",
    "        i = i + 1\n",
    "saa_entries = np.array(saa_entries)\n",
    "\n",
    "#saa_exits = [0]\n",
    "#for i in range(0, len(saa_entries)):\n",
    "#    j = saa_entries[i]\n",
    "#    while j < (saa_entries[i] + 100):\n",
    "#        if counts[j] == 0:\n",
    "#            j = j + 1\n",
    "#        else:\n",
    "#            print j\n",
    "#            break\n",
    "            #saa_exits.append(j)"
   ]
  },
  {
   "cell_type": "code",
   "execution_count": 154,
   "metadata": {
    "collapsed": false
   },
   "outputs": [
    {
     "name": "stdout",
     "output_type": "stream",
     "text": [
      "531.454147195 0.0167834168041 203.660533722\n"
     ]
    },
    {
     "name": "stderr",
     "output_type": "stream",
     "text": [
      "/usr/local/lib/python2.7/dist-packages/ipykernel/__main__.py:3: RuntimeWarning: overflow encountered in exp\n",
      "  app.launch_new_instance()\n"
     ]
    }
   ],
   "source": [
    "from scipy.optimize import curve_fit\n",
    "def func(x, a, b, c):\n",
    "     return a*np.exp(-b*x) + c\n",
    "\n",
    "index = 5\n",
    "addition = 5\n",
    "x = bin_time_mid[saa_exits[index]+addition:saa_exits[index]+1500] - bin_time_mid[saa_exits[index]+addition]\n",
    "y = counts[saa_exits[index]+addition:saa_exits[index]+1500]\n",
    "#x = bin_time_mid\n",
    "#y = counts\n",
    "\n",
    "popt, pcov = curve_fit(func, x, y)\n",
    "A, B, C = popt\n",
    "#B = -B\n",
    "\n",
    "print A, B, C"
   ]
  },
  {
   "cell_type": "code",
   "execution_count": 155,
   "metadata": {
    "collapsed": false
   },
   "outputs": [],
   "source": [
    "exp_curve = func(x, A, B, C)\n"
   ]
  },
  {
   "cell_type": "code",
   "execution_count": 150,
   "metadata": {
    "collapsed": false
   },
   "outputs": [
    {
     "data": {
      "text/plain": [
       "array([ 725.11766136,  723.00442752,  720.89952784, ...,  193.65147377,\n",
       "        193.65071627,  193.64996176])"
      ]
     },
     "execution_count": 150,
     "metadata": {},
     "output_type": "execute_result"
    }
   ],
   "source": [
    "exp_curve"
   ]
  },
  {
   "cell_type": "code",
   "execution_count": 32,
   "metadata": {
    "collapsed": false
   },
   "outputs": [
    {
     "name": "stdout",
     "output_type": "stream",
     "text": [
      "17\n"
     ]
    }
   ],
   "source": [
    "test = [1, 4, 17, 8, 0]\n",
    "print np.amax(test)"
   ]
  },
  {
   "cell_type": "code",
   "execution_count": 156,
   "metadata": {
    "collapsed": false
   },
   "outputs": [
    {
     "data": {
      "text/plain": [
       "[<matplotlib.lines.Line2D at 0x7f4ea746c8d0>]"
      ]
     },
     "execution_count": 156,
     "metadata": {},
     "output_type": "execute_result"
    },
    {
     "data": {
      "image/png": "[encoded data removed]",
      "text/plain": [
       "<matplotlib.figure.Figure at 0x7f4ea746c6d0>"
      ]
     },
     "metadata": {},
     "output_type": "display_data"
    }
   ],
   "source": [
    "plt.plot(x, y, 'b-')\n",
    "plt.plot(x, exp_curve, 'r-')"
   ]
  },
  {
   "cell_type": "code",
   "execution_count": 157,
   "metadata": {
    "collapsed": false
   },
   "outputs": [
    {
     "data": {
      "text/plain": [
       "[<matplotlib.lines.Line2D at 0x7f4ea740cd10>]"
      ]
     },
     "execution_count": 157,
     "metadata": {},
     "output_type": "execute_result"
    },
    {
     "data": {
      "image/png": "[encoded data removed]",
      "text/plain": [
       "<matplotlib.figure.Figure at 0x7f4ea740c810>"
      ]
     },
     "metadata": {},
     "output_type": "display_data"
    }
   ],
   "source": [
    "fit = np.zeros(len(counts))\n",
    "\n",
    "fit[saa_exits[index]+addition:saa_exits[index]+1500] = exp_curve\n",
    "\n",
    "plt.plot(bin_time_mid, counts, 'b-')\n",
    "plt.plot(bin_time_mid, fit, 'r-')"
   ]
  },
  {
   "cell_type": "code",
   "execution_count": null,
   "metadata": {
    "collapsed": true
   },
   "outputs": [],
   "source": [
    "#counts[120000:] = 0\n",
    "cgb[np.where(counts == 0)] = 0\n",
    "earth_ang_bin[np.where(counts == 0)] = 0\n",
    "sun_ang_bin[np.where(counts == 0)] = 0\n",
    "magnetic[np.where(counts == 0)] = 0\n",
    "\n",
    "\n",
    "def fit_function(x, a, b, c, d):\n",
    "    return a*cgb + b*magnetic + c*earth_ang_bin + d*sun_ang_bin# + j2000_orb(e, f, counts) + geo_orb(g, h, counts)\n",
    "\n",
    "x0 = np.array([1300., 20, -12, -1])#, 0.5, 0.5, 0.2, -1.3])\n",
    "sigma = np.array((counts + 1)**(0.5))\n",
    "\n",
    "fit_results = optimization.curve_fit(fit_function, bin_time_mid, counts, x0, sigma)\n",
    "coeff = fit_results[0]\n",
    "\n",
    "print 'CGB coefficient:',coeff[0]\n",
    "print 'Magnetic field coefficient:',coeff[1]\n",
    "print 'Earth angle coefficient:',coeff[2]\n",
    "print 'Sun angle coefficient:',coeff[3]\n",
    "'''print 'J2000 orbit coefficient & phase:',coeff[4],'&',coeff[5]\n",
    "print 'Geographical orbit coefficient & phase:',coeff[6],'&',coeff[7]'''\n",
    "#print np.where(total_counts == 0)\n",
    "#print bin_time_mid[np.where(total_counts == 0)]\n",
    "#print sat_time_bin[np.where(total_counts == 0)]\n",
    "#print bin_time_mid[0]\n",
    "#print sat_time_bin[0]\n",
    "\n",
    "a = fit_results[0][0]\n",
    "b = fit_results[0][1]\n",
    "c = fit_results[0][2]\n",
    "d = fit_results[0][3]\n",
    "'''e = fit_results[0][4]\n",
    "f = fit_results[0][5]\n",
    "g = fit_results[0][6]\n",
    "h = fit_results[0][7]\n",
    "\n",
    "j2000_orb = j2000_orb(e, f, counts)\n",
    "geo_orb = geo_orb(g, h, counts)'''\n",
    "\n",
    "fit_curve = a*cgb + b*magnetic + c*earth_ang_bin + d*sun_ang_bin# + j2000_orb + geo_orb\n",
    "\n",
    "\n",
    "#####plot-algorhythm#####\n",
    "#convert the x-axis into hours of the day\n",
    "plot_time_bin_date = calc.met_to_date(bin_time_mid)[0]\n",
    "plot_time_bin = (plot_time_bin_date - calc.day_to_met(day)[1])*24#Time of day in hours\n",
    "plot_time_sat_date = calc.met_to_date(sat_time_bin)[0]\n",
    "plot_time_sat = (plot_time_sat_date - calc.day_to_met(day)[1])*24#Time of day in hours\n",
    "\n",
    "\n",
    "###plot each on the same axis as converted to counts###\n",
    "fig, ax1 = plt.subplots()\n",
    "\n",
    "plot1 = ax1.plot(plot_time_bin, counts, 'b-', label = 'Countrate')\n",
    "plot2 = ax1.plot(plot_time_bin, fit_curve, 'r-', label = 'Fit')\n",
    "plot3 = ax1.plot(plot_time_sat, d*sun_ang_bin, 'y-', label = 'Sun angle')\n",
    "plot4 = ax1.plot(plot_time_sat, c*earth_ang_bin, 'c-', label = 'Earth angle')\n",
    "plot5 = ax1.plot(plot_time_sat, b*magnetic, 'g-', label = 'Magnetic field')\n",
    "plot6 = ax1.plot(plot_time_sat, a*cgb, 'b--', label = 'Cosmic y-ray background')\n",
    "#plot7 = ax1.plot(plot_time_sat, j2000_orb, 'y--', label = 'J2000 orbit')\n",
    "#plot8 = ax1.plot(plot_time_sat, geo_orb, 'g--', label = 'Geographical orbit')\n",
    "\n",
    "#plot vertical lines for the solar flares of the day\n",
    "if np.all(flares_today != -5):\n",
    "    if len(flares_today[0]) > 1:\n",
    "        for i in range(0, len(flares_today[0])):\n",
    "            plt.axvline(x = flares_today[0,i], ymin = 0., ymax = 1., linewidth=2, color = 'grey')\n",
    "            plt.axvline(x = flares_today[1,i], ymin = 0., ymax = 1., color = 'grey', linestyle = '--')\n",
    "    else:\n",
    "        plt.axvline(x = flares_today[0], ymin = 0., ymax = 1., linewidth=2, color = 'grey')\n",
    "        plt.axvline(x = flares_today[1], ymin = 0., ymax = 1., color = 'grey', linestyle = '--')\n",
    "\n",
    "plots = plot1 + plot2 + plot3 + plot4 + plot5 + plot6# + plot7 + plot8\n",
    "labels = [l.get_label() for l in plots]\n",
    "ax1.legend(plots, labels, loc=1)\n",
    "\n",
    "ax1.grid()\n",
    "\n",
    "ax1.set_xlabel('Time of day in 24h')\n",
    "ax1.set_ylabel('Countrate')\n",
    "\n",
    "#ax1.set_xlim([9.84, 9.85])\n",
    "ax1.set_xlim([-0.5, 24.5])\n",
    "ax1.set_ylim([-200, 2000])\n",
    "\n",
    "plt.title(data_type + '-countrate-fit of the ' + detector.__name__ + '-detector on the ' + ordinal(int(str(day)[4:6])) + ' ' + date.strftime('%B')[0:3] + ' ' + str(year))\n",
    "\n",
    "plt.show()\n",
    "\n",
    "\n",
    "###plot residual noise of the fitting algorithm###\n",
    "'''plt.plot(plot_time_bin, counts - fit_curve, 'b-')\n",
    "\n",
    "plt.xlabel('Time of day in 24h')\n",
    "plt.ylabel('Residual noise')\n",
    "\n",
    "plt.grid()\n",
    "\n",
    "plt.title(data_type + '-counts-fit residuals of the ' + detector.__name__ + '-detector on the ' + ordinal(int(str(day)[4:6])) + ' ' + date.strftime('%B')[0:3] + ' ' + str(year))\n",
    "\n",
    "plt.ylim([-200, 200])\n",
    "\n",
    "plt.show()'''"
   ]
  }
 ],
 "metadata": {
  "kernelspec": {
   "display_name": "Python 2",
   "language": "python",
   "name": "python2"
  },
  "language_info": {
   "codemirror_mode": {
    "name": "ipython",
    "version": 2
   },
   "file_extension": ".py",
   "mimetype": "text/x-python",
   "name": "python",
   "nbconvert_exporter": "python",
   "pygments_lexer": "ipython2",
   "version": "2.7.6"
  }
 },
 "nbformat": 4,
 "nbformat_minor": 0
}
