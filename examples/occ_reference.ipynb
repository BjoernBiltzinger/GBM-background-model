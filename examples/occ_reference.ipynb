{
 "cells": [
  {
   "cell_type": "code",
   "execution_count": 1,
   "metadata": {
    "collapsed": true
   },
   "outputs": [],
   "source": [
    "#!/usr/bin python2.7\n",
    "\n",
    "from astropy.io       import fits\n",
    "from astropy.table    import Table\n",
    "from astropy.time     import Time\n",
    "from datetime         import date\n",
    "from datetime         import datetime\n",
    "import ephem\n",
    "import fileinput\n",
    "import getpass\n",
    "import math\n",
    "import matplotlib.pyplot                   as plt\n",
    "import matplotlib                          as mpl\n",
    "import numpy                               as np\n",
    "from numpy            import linalg        as LA\n",
    "import os\n",
    "import pyfits\n",
    "import scipy.optimize                      as optimization\n",
    "from scipy            import integrate\n",
    "from scipy            import interpolate\n",
    "from scipy.optimize   import curve_fit\n",
    "import subprocess\n",
    "from subprocess       import Popen, PIPE\n",
    "import urllib2\n",
    "from work_module      import calculate\n",
    "from work_module      import detector\n",
    "from work_module      import readfile\n",
    "from work_module      import writefile\n",
    "calc = calculate()\n",
    "det = detector()\n",
    "rf = readfile()\n",
    "wf = writefile()"
   ]
  },
  {
   "cell_type": "code",
   "execution_count": 4,
   "metadata": {
    "collapsed": false
   },
   "outputs": [],
   "source": [
    "fitsname = 'peak_eff_area_angle_calib_GBM_all.fits'\n",
    "path = '/home/tkili/Work/calibration'\n",
    "fitsfilepath = os.path.join(path, fitsname)\n",
    "fitsfile = fits.open(fitsfilepath, mode='update')\n",
    "data = fitsfile[1].data\n",
    "fitsfile.close()\n",
    "x = data.field(0)\n",
    "y1 = data.field(1)#for NaI (33 keV)\n",
    "y2 = data.field(2)#for NaI (279 keV)\n",
    "y3 = data.field(3)#for NaI (662 keV)\n",
    "y4 = data.field(4)#for BGO (898 keV)\n",
    "y5 = data.field(5)#for BGO (1836 keV)"
   ]
  },
  {
   "cell_type": "code",
   "execution_count": 5,
   "metadata": {
    "collapsed": false
   },
   "outputs": [
    {
     "name": "stdout",
     "output_type": "stream",
     "text": [
      "[ 113.50275243  113.50275243  114.43335207  121.31978947  144.21254081\n",
      "   54.4455474    12.07951897   12.07951897]\n"
     ]
    }
   ],
   "source": [
    "y1_fac = np.array([1., 1., 1., 1., 1., 0., 0., 0.])\n",
    "y2_fac = np.array([0., 0., 5./279., 42./279., 165./279., 1., 0., 0.])\n",
    "y3_fac = np.array([0., 0., 0., 0., 0., 138./662., 1., 1.])\n",
    "                \n",
    "#resulting effective area curve\n",
    "y = []\n",
    "for i in range(0, 8):\n",
    "    p = y1_fac[i]*y1[90] + y2_fac[i]*y2[90] + y3_fac[i]*y3[90]\n",
    "    y.append(p)\n",
    "y = np.array(y)\n",
    "print y"
   ]
  },
  {
   "cell_type": "code",
   "execution_count": 6,
   "metadata": {
    "collapsed": false
   },
   "outputs": [
    {
     "data": {
      "text/plain": [
       "array([-180., -178., -176., -174., -172., -170., -168., -166., -164.,\n",
       "       -162., -160., -158., -156., -154., -152., -150., -148., -146.,\n",
       "       -144., -142., -140., -138., -136., -134., -132., -130., -128.,\n",
       "       -126., -124., -122., -120., -118., -116., -114., -112., -110.,\n",
       "       -108., -106., -104., -102., -100.,  -98.,  -96.,  -94.,  -92.,\n",
       "        -90.,  -88.,  -86.,  -84.,  -82.,  -80.,  -78.,  -76.,  -74.,\n",
       "        -72.,  -70.,  -68.,  -66.,  -64.,  -62.,  -60.,  -58.,  -56.,\n",
       "        -54.,  -52.,  -50.,  -48.,  -46.,  -44.,  -42.,  -40.,  -38.,\n",
       "        -36.,  -34.,  -32.,  -30.,  -28.,  -26.,  -24.,  -22.,  -20.,\n",
       "        -18.,  -16.,  -14.,  -12.,  -10.,   -8.,   -6.,   -4.,   -2.,\n",
       "          0.,    2.,    4.,    6.,    8.,   10.,   12.,   14.,   16.,\n",
       "         18.,   20.,   22.,   24.,   26.,   28.,   30.,   32.,   34.,\n",
       "         36.,   38.,   40.,   42.,   44.,   46.,   48.,   50.,   52.,\n",
       "         54.,   56.,   58.,   60.,   62.,   64.,   66.,   68.,   70.,\n",
       "         72.,   74.,   76.,   78.,   80.,   82.,   84.,   86.,   88.,\n",
       "         90.,   92.,   94.,   96.,   98.,  100.,  102.,  104.,  106.,\n",
       "        108.,  110.,  112.,  114.,  116.,  118.,  120.,  122.,  124.,\n",
       "        126.,  128.,  130.,  132.,  134.,  136.,  138.,  140.,  142.,\n",
       "        144.,  146.,  148.,  150.,  152.,  154.,  156.,  158.,  160.,\n",
       "        162.,  164.,  166.,  168.,  170.,  172.,  174.,  176.,  178.,  180.])"
      ]
     },
     "execution_count": 6,
     "metadata": {},
     "output_type": "execute_result"
    }
   ],
   "source": []
  },
  {
   "cell_type": "code",
   "execution_count": 7,
   "metadata": {
    "collapsed": true
   },
   "outputs": [],
   "source": [
    "data = readfile.earth_occ(readfile())\n",
    "earth_ang_0 = data[0]\n",
    "angle_d = data[1][0]\n",
    "area_frac = data[2]\n",
    "free_area = data[3][0]\n",
    "occ_area = data[4]"
   ]
  },
  {
   "cell_type": "code",
   "execution_count": 12,
   "metadata": {
    "collapsed": false
   },
   "outputs": [
    {
     "name": "stdout",
     "output_type": "stream",
     "text": [
      "[ 1.00151454  1.00151454  1.          0.98983815  0.96548746  0.87295057\n",
      "  0.81295999  0.81295999]\n"
     ]
    }
   ],
   "source": [
    "muh = []\n",
    "for echan in range(0, 8):\n",
    "    y = y1_fac[echan]*y1 + y2_fac[echan]*y2 + y3_fac[echan]*y3\n",
    "    \n",
    "    #calculate the angle factors\n",
    "    tck = interpolate.splrep(x, y)\n",
    "    ang_fac = interpolate.splev(angle_d, tck, der=0)\n",
    "    \n",
    "    free_circ_eff = [free_area[0]*ang_fac[0]]\n",
    "        \n",
    "    for k in range(1, len(free_area)):\n",
    "        circ_area = free_area[k] - free_area[k-1]\n",
    "        circ_area_eff = circ_area*ang_fac[k]\n",
    "        free_circ_eff.append(circ_area_eff)\n",
    "        \n",
    "    free_circ_eff = np.array(free_circ_eff)\n",
    "        \n",
    "    occ_circ_eff = []\n",
    "        \n",
    "    for j in range(0, len(earth_ang_0)):\n",
    "        occ_circ_eff_0 = [occ_area[j][0]*ang_fac[0]]\n",
    "        for i in range(1, len(occ_area[j])):\n",
    "            circ_area = occ_area[j][i] - occ_area[j][i-1]\n",
    "            circ_area_eff = circ_area*ang_fac[i]\n",
    "            occ_circ_eff_0.append(circ_area_eff)\n",
    "            \n",
    "        occ_circ_eff.append(occ_circ_eff_0)\n",
    "        \n",
    "    occ_circ_eff = np.array(occ_circ_eff)\n",
    "\n",
    "    eff_area_frac_0 = np.sum(occ_circ_eff, axis = 1)/np.sum(free_circ_eff)\n",
    "    \n",
    "    muh.append(eff_area_frac_0[0])\n",
    "\n",
    "muh = np.array(muh)\n",
    "muh = muh/muh[2]\n",
    "\n",
    "print muh"
   ]
  },
  {
   "cell_type": "code",
   "execution_count": null,
   "metadata": {
    "collapsed": true
   },
   "outputs": [],
   "source": []
  }
 ],
 "metadata": {
  "kernelspec": {
   "display_name": "Python 2",
   "language": "python",
   "name": "python2"
  },
  "language_info": {
   "codemirror_mode": {
    "name": "ipython",
    "version": 2
   },
   "file_extension": ".py",
   "mimetype": "text/x-python",
   "name": "python",
   "nbconvert_exporter": "python",
   "pygments_lexer": "ipython2",
   "version": "2.7.6"
  }
 },
 "nbformat": 4,
 "nbformat_minor": 0
}
