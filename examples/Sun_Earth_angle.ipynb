{
 "cells": [
  {
   "cell_type": "code",
   "execution_count": 1,
   "metadata": {
    "collapsed": true
   },
   "outputs": [],
   "source": [
    "#!/usr/bin python2.7\n",
    "\n",
    "from astropy.io       import fits\n",
    "from astropy.table    import Table\n",
    "from astropy.time     import Time\n",
    "from datetime         import date\n",
    "from datetime         import datetime\n",
    "import ephem\n",
    "import fileinput\n",
    "import getpass\n",
    "import math\n",
    "import matplotlib.pyplot                   as plt\n",
    "import matplotlib                          as mpl\n",
    "import numpy                               as np\n",
    "from numpy            import linalg        as LA\n",
    "import os\n",
    "import pyfits\n",
    "import scipy.optimize                      as optimization\n",
    "from scipy            import integrate\n",
    "from scipy            import interpolate\n",
    "from scipy.optimize   import curve_fit\n",
    "import subprocess\n",
    "from subprocess       import Popen, PIPE\n",
    "import urllib2\n",
    "from work_module      import calculate\n",
    "from work_module      import detector\n",
    "from work_module      import readfile\n",
    "from work_module      import writefile\n",
    "calc = calculate()\n",
    "det = detector()\n",
    "rf = readfile()\n",
    "wf = writefile()"
   ]
  },
  {
   "cell_type": "code",
   "execution_count": 3,
   "metadata": {
    "collapsed": false
   },
   "outputs": [
    {
     "name": "stdout",
     "output_type": "stream",
     "text": [
      "[[ 0.17331599  0.1733158   0.17331561 ...,  0.15684404  0.15684385\n",
      "   0.15684366]\n",
      " [ 0.90362625  0.90362628  0.90362631 ...,  0.90615581  0.90615584\n",
      "   0.90615586]\n",
      " [ 0.39169014  0.39169016  0.39169017 ...,  0.39278696  0.39278698\n",
      "   0.39278699]]\n",
      "[[ 0.53025234  0.53107953  0.53190601 ...,  0.88974607  0.88996667\n",
      "   0.89018637]\n",
      " [-0.84564662 -0.84509337 -0.84453911 ..., -0.2766892  -0.27564418\n",
      "  -0.27459893]\n",
      " [ 0.06094544  0.06141474  0.06188394 ...,  0.36303592  0.36328971\n",
      "   0.36354312]]\n"
     ]
    }
   ],
   "source": [
    "day = 140611\n",
    "\n",
    "\n",
    "sun_pos = calc.sun_pos(day)[0]\n",
    "\n",
    "sat_data = rf.poshist(day)\n",
    "sat_time = sat_data[0]\n",
    "sat_pos = sat_data[1]\n",
    "sat_dist = LA.norm(sat_pos, axis=0) #get the altitude of the satellite (length of the position vector)\n",
    "sat_pos_unit = sat_pos/sat_dist #convert the position vector into a unit-vector\n",
    "geo_pos = -sat_pos_unit"
   ]
  },
  {
   "cell_type": "code",
   "execution_count": 4,
   "metadata": {
    "collapsed": true
   },
   "outputs": [],
   "source": [
    "scalar_product = sun_pos[0]*geo_pos[0] + sun_pos[1]*geo_pos[1] + sun_pos[2]*geo_pos[2]\n",
    "angle = np.arccos(scalar_product)\n",
    "sun_earth_ang = (angle)*360./(2.*math.pi) #convert to degrees\n",
    "sun_earth_ang = np.array(sun_earth_ang)"
   ]
  },
  {
   "cell_type": "code",
   "execution_count": 6,
   "metadata": {
    "collapsed": true
   },
   "outputs": [],
   "source": [
    "plot_time_sat_date = calc.met_to_date(sat_time)[0]\n",
    "plot_time_sat = (plot_time_sat_date - calc.day_to_met(day)[1])*24#Time of day in hours\n",
    "\n",
    "plt.plot(plot_time_sat, sun_earth_ang)\n",
    "\n",
    "plt.grid()\n",
    "plt.show()"
   ]
  }
 ],
 "metadata": {
  "kernelspec": {
   "display_name": "Python 2",
   "language": "python",
   "name": "python2"
  },
  "language_info": {
   "codemirror_mode": {
    "name": "ipython",
    "version": 2
   },
   "file_extension": ".py",
   "mimetype": "text/x-python",
   "name": "python",
   "nbconvert_exporter": "python",
   "pygments_lexer": "ipython2",
   "version": "2.7.6"
  }
 },
 "nbformat": 4,
 "nbformat_minor": 0
}
