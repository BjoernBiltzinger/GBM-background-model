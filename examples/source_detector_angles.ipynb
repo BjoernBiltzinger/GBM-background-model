{
 "cells": [
  {
   "cell_type": "code",
   "execution_count": 2,
   "metadata": {
    "collapsed": true
   },
   "outputs": [],
   "source": [
    "#!/usr/bin python2.7\n",
    "\n",
    "from astropy.io       import fits\n",
    "from astropy.table    import Table\n",
    "from astropy.time     import Time\n",
    "from datetime         import date\n",
    "from datetime         import datetime\n",
    "import ephem\n",
    "import fileinput\n",
    "import getpass\n",
    "import math\n",
    "import matplotlib.pyplot                   as plt\n",
    "import matplotlib                          as mpl\n",
    "import numpy                               as np\n",
    "from numpy            import linalg        as LA\n",
    "import os\n",
    "import pyfits\n",
    "import scipy.optimize                      as optimization\n",
    "from scipy            import integrate\n",
    "from scipy            import interpolate\n",
    "from scipy.optimize   import curve_fit\n",
    "import subprocess\n",
    "from subprocess       import Popen, PIPE\n",
    "import urllib2\n",
    "from work_module      import calculate\n",
    "from work_module      import detector\n",
    "from work_module      import readfile\n",
    "from work_module      import writefile\n",
    "calc = calculate()\n",
    "det = detector()\n",
    "rf = readfile()\n",
    "wf = writefile()"
   ]
  },
  {
   "cell_type": "code",
   "execution_count": 7,
   "metadata": {
    "collapsed": false
   },
   "outputs": [
    {
     "name": "stdout",
     "output_type": "stream",
     "text": [
      "n0 :  115.133504556\n",
      "n1 :  119.031062413\n",
      "n2 :  124.675283035\n",
      "n3 :  66.1153352257\n",
      "n4 :  20.926194678\n",
      "n5 :  72.685437373\n",
      "n6 :  98.992056404\n",
      "n7 :  86.8169970544\n",
      "n8 :  56.9572646951\n",
      "n9 :  146.906371897\n",
      "na :  158.180725296\n",
      "nb :  106.909926314\n"
     ]
    }
   ],
   "source": [
    "detectors = np.array(['n0', 'n1', 'n2', 'n3', 'n4', 'n5', 'n6', 'n7', 'n8', 'n9', 'na', 'nb'])\n",
    "#detectors = np.array(['n0', 'n1', 'n2', 'n3', 'n4', 'n5'])\n",
    "\n",
    "day = 111209\n",
    "burst_ra = 299.59\n",
    "burst_dec = 35.202\n",
    "\n",
    "start_time = 7\n",
    "end_time = 8.5\n",
    "\n",
    "v_line = 4.90648687098\n",
    "\n",
    "\n",
    "burst_occ = calc.src_occultation(day, burst_ra, burst_dec)[0]\n",
    "\n",
    "sun = calc.sun_pos(day)[0]\n",
    "burst_pos = np.array([np.cos(burst_ra*(2.*math.pi)/360.)*np.cos(burst_dec*(2.*math.pi)/360.), np.sin(burst_ra*(2.*math.pi)/360.)*np.cos(burst_dec*(2.*math.pi)/360.), np.sin(burst_dec*(2.*math.pi)/360.)], float) #unit-vector pointing to the burst location\n",
    "scalar_product = sun[0]*burst_pos[0] + sun[1]*burst_pos[1] + sun[2]*burst_pos[2]\n",
    "sun_ang = np.arccos(scalar_product)\n",
    "sun_ang = (sun_ang)*360./(2.*math.pi) #convert to degrees\n",
    "sun_ang = np.array(sun_ang)\n",
    "\n",
    "#print sun_ang\n",
    "\n",
    "sat_time = rf.poshist(day)[0]\n",
    "\n",
    "plot_time_sat_date = calc.met_to_date(sat_time)[0]\n",
    "plot_time_sat = (plot_time_sat_date - calc.day_to_met(day)[1])*24#Time of day in hours\n",
    "\n",
    "mpl.rcParams['axes.color_cycle'] = ['b', 'g', 'r', 'c', 'm', 'y', 'k']\n",
    "\n",
    "index = np.where(plot_time_sat > v_line)[0][0]\n",
    "\n",
    "for i in range(0, len(detectors)):\n",
    "    #print detectors[i]\n",
    "    det_data = calc.burst_ang(detectors[i], day, burst_ra, burst_dec)\n",
    "    det_ang = det_data[0]\n",
    "    \n",
    "    print detectors[i], ': ', det_ang[index]\n",
    "    #sat_time = det_data[1]\n",
    "    #det_ang[np.where(det_ang > 90.)] = 0.\n",
    "    \n",
    "    plt.plot(plot_time_sat, det_ang, label = detectors[i])\n",
    "    \n",
    "plt.axvline(x = v_line, ymin = 0., ymax = 1., linewidth=2, color = 'grey')\n",
    "\n",
    "plt.plot(plot_time_sat, burst_occ, label = 'Earth-Occultation')    \n",
    "plt.plot(plot_time_sat, sun_ang, 'b-.',label = 'Sun')    \n",
    "plt.legend(fontsize=15)\n",
    "plt.tick_params(axis='both', which='major', labelsize=15)\n",
    "\n",
    "plt.xlabel('Daytime in 24h', fontsize=20)\n",
    "plt.ylabel('Angle in degrees', fontsize=20)\n",
    "plt.title('Winkelverhaeltnisse zwischen dem IceCube Neutrino-Event und den Fermi-Detektoren', fontsize=30)\n",
    "\n",
    "plt.xlim([start_time, end_time])\n",
    "plt.ylim([-10, 200])\n",
    "\n",
    "plt.show()"
   ]
  },
  {
   "cell_type": "code",
   "execution_count": 8,
   "metadata": {
    "collapsed": false
   },
   "outputs": [
    {
     "name": "stdout",
     "output_type": "stream",
     "text": [
      "n0 :  0.118392654881\n",
      "n1 :  0.0923046074742\n",
      "n2 :  0.139870238475\n",
      "n3 :  0.238835357391\n",
      "n4 :  0.387995140717\n",
      "n5 :  0.215111424304\n",
      "n6 :  0.228737648581\n",
      "n7 :  0.323634152961\n",
      "n8 :  0.481918426544\n",
      "n9 :  0.174170109545\n",
      "na :  0.227922800418\n",
      "nb :  0.399834775927\n"
     ]
    }
   ],
   "source": [
    "for detector in detectors:\n",
    "    earth_ang = calc.earth_ang(detector, day)[0]\n",
    "    earth_occ = calc.earth_occ_eff(earth_ang, echan = 2)\n",
    "    \n",
    "    #print detector, ': ', earth_ang[index]\n",
    "    print detector, ': ', earth_occ[index]"
   ]
  },
  {
   "cell_type": "code",
   "execution_count": 9,
   "metadata": {
    "collapsed": false
   },
   "outputs": [
    {
     "name": "stdout",
     "output_type": "stream",
     "text": [
      "0.539303607418\n"
     ]
    }
   ],
   "source": [
    "print calc.earth_occ_eff(0, echan = 2)"
   ]
  }
 ],
 "metadata": {
  "kernelspec": {
   "display_name": "Python 2",
   "language": "python",
   "name": "python2"
  },
  "language_info": {
   "codemirror_mode": {
    "name": "ipython",
    "version": 2
   },
   "file_extension": ".py",
   "mimetype": "text/x-python",
   "name": "python",
   "nbconvert_exporter": "python",
   "pygments_lexer": "ipython2",
   "version": "2.7.6"
  }
 },
 "nbformat": 4,
 "nbformat_minor": 0
}
