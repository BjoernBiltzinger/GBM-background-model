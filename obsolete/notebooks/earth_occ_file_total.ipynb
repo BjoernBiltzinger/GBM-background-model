{
 "cells": [
  {
   "cell_type": "code",
   "execution_count": 1,
   "metadata": {
    "collapsed": true
   },
   "outputs": [],
   "source": [
    "#!/usr/bin python2.7\n",
    "\n",
    "from astropy.io       import fits\n",
    "from astropy.table    import Table\n",
    "from astropy.time     import Time\n",
    "from datetime         import date\n",
    "from datetime         import datetime\n",
    "import ephem\n",
    "import fileinput\n",
    "import getpass\n",
    "import math\n",
    "import matplotlib.pyplot                   as plt\n",
    "import matplotlib                          as mpl\n",
    "import numpy                               as np\n",
    "from numpy            import linalg        as LA\n",
    "import os\n",
    "import pyfits\n",
    "import scipy.optimize                      as optimization\n",
    "from scipy            import integrate\n",
    "from scipy            import interpolate\n",
    "from scipy.optimize   import curve_fit\n",
    "import subprocess\n",
    "from subprocess       import Popen, PIPE\n",
    "import urllib2\n",
    "from work_module      import calculate\n",
    "from work_module      import detector\n",
    "from work_module      import readfile\n",
    "from work_module      import writefile\n",
    "calc = calculate()\n",
    "det = detector()\n",
    "rf = readfile()\n",
    "wf = writefile()"
   ]
  },
  {
   "cell_type": "code",
   "execution_count": 2,
   "metadata": {
    "collapsed": false
   },
   "outputs": [
    {
     "name": "stdout",
     "output_type": "stream",
     "text": [
      "361\n",
      "361\n",
      "361\n",
      "361\n",
      "361\n"
     ]
    }
   ],
   "source": [
    "data = rf.earth_occ()\n",
    "earth_ang = data[0]\n",
    "angle_d = data[1]\n",
    "area_frac = data[2]\n",
    "free_area = data[3]\n",
    "occ_area = data[4]\n",
    "\n",
    "print len(earth_ang)\n",
    "print len(angle_d)\n",
    "print len(area_frac)\n",
    "print len(free_area)\n",
    "print len(occ_area)"
   ]
  },
  {
   "cell_type": "code",
   "execution_count": 3,
   "metadata": {
    "collapsed": false,
    "scrolled": true
   },
   "outputs": [
    {
     "name": "stdout",
     "output_type": "stream",
     "text": [
      "180\n"
     ]
    }
   ],
   "source": [
    "print len(earth_ang[np.where(earth_ang > 90.)])"
   ]
  },
  {
   "cell_type": "code",
   "execution_count": 4,
   "metadata": {
    "collapsed": false
   },
   "outputs": [
    {
     "name": "stdout",
     "output_type": "stream",
     "text": [
      "3.87245942607\n"
     ]
    }
   ],
   "source": [
    "### to be consistent with the previous earth area ###\n",
    "total_earth_area = occ_area[0][-1]"
   ]
  },
  {
   "cell_type": "code",
   "execution_count": 9,
   "metadata": {
    "collapsed": true
   },
   "outputs": [],
   "source": [
    "total_angle_d = np.arange(math.pi/36000., math.pi+math.pi/36000., math.pi/36000.)\n",
    "\n",
    "total_free_area = 2*math.pi*(1 - np.cos(total_angle_d))\n",
    "\n",
    "total_occ_area = []\n",
    "for i in range(0, len(earth_ang)):\n",
    "    occ_area_addition = total_earth_area - np.flipud(occ_area[-(i+1)])\n",
    "    occ_area_part = np.append(occ_area[i], occ_area_addition)\n",
    "    \n",
    "    total_occ_area.append(occ_area_part)\n",
    "    \n",
    "total_occ_area = np.array(total_occ_area)\n",
    "\n",
    "total_area_frac = np.divide(total_occ_area, total_free_area)"
   ]
  },
  {
   "cell_type": "code",
   "execution_count": 20,
   "metadata": {
    "collapsed": false
   },
   "outputs": [],
   "source": [
    "number = len(earth_ang)\n",
    "    \n",
    "user = getpass.getuser()\n",
    "fits_path = '/home/' + user + '/Work/earth_occultation/'\n",
    "fitsname = 'earth_occ_calc_total_kt.fits'\n",
    "fitsfilepath = os.path.join(fits_path, fitsname)\n",
    "\n",
    "prihdu = fits.PrimaryHDU()\n",
    "hdulist = [prihdu]\n",
    "\n",
    "for i in range(0, number):\n",
    "\n",
    "    angle_d = total_angle_d*180./math.pi\n",
    "    area_frac = total_area_frac[i]\n",
    "    free_area = total_free_area\n",
    "    occ_area = total_occ_area[i]\n",
    "    \n",
    "    col1 = fits.Column(name = 'angle_d', format = 'E', array = angle_d, unit = 'deg')\n",
    "    col2 = fits.Column(name = 'area_frac', format = 'E', array = area_frac)\n",
    "    col3 = fits.Column(name = 'free_area', format = 'E', array = free_area, unit = 'rad')\n",
    "    col4 = fits.Column(name = 'occ_area', format = 'E', array = occ_area, unit = 'rad')\n",
    "    cols = fits.ColDefs([col1, col2, col3, col4])\n",
    "    hdulist.append(fits.TableHDU.from_columns(cols, name = str(earth_ang[i])))\n",
    " \n",
    "thdulist = fits.HDUList(hdulist)\n",
    "thdulist.writeto(fitsfilepath)"
   ]
  }
 ],
 "metadata": {
  "kernelspec": {
   "display_name": "Python 2",
   "language": "python",
   "name": "python2"
  },
  "language_info": {
   "codemirror_mode": {
    "name": "ipython",
    "version": 2
   },
   "file_extension": ".py",
   "mimetype": "text/x-python",
   "name": "python",
   "nbconvert_exporter": "python",
   "pygments_lexer": "ipython2",
   "version": "2.7.6"
  }
 },
 "nbformat": 4,
 "nbformat_minor": 0
}
