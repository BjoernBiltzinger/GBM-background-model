{
 "cells": [
  {
   "cell_type": "code",
   "execution_count": null,
   "metadata": {
    "collapsed": false
   },
   "outputs": [],
   "source": [
    "#%matplotlib inline\n",
    "#%pylab inline"
   ]
  },
  {
   "cell_type": "code",
   "execution_count": 1,
   "metadata": {
    "collapsed": false,
    "scrolled": true
   },
   "outputs": [
    {
     "name": "stderr",
     "output_type": "stream",
     "text": [
      "work_module.py:1525: RuntimeWarning: invalid value encountered in arccos\n",
      "  ang_det_sun = np.arccos(scalar_product)\n",
      "work_module.py:1085: RuntimeWarning: invalid value encountered in arccos\n",
      "  ang_det_geo = np.arccos(scalar_product)\n"
     ]
    }
   ],
   "source": [
    "#!/usr/bin python2.7\n",
    "\n",
    "from astropy.io       import fits\n",
    "from astropy.table    import Table\n",
    "from astropy.time     import Time\n",
    "from datetime         import date\n",
    "from datetime         import datetime\n",
    "import ephem\n",
    "import fileinput\n",
    "import getpass\n",
    "import math\n",
    "import matplotlib.pyplot                   as plt\n",
    "import matplotlib                          as mpl\n",
    "import numpy                               as np\n",
    "from numpy            import linalg        as LA\n",
    "import os\n",
    "import pyfits\n",
    "import scipy.optimize                      as optimization\n",
    "from scipy            import integrate\n",
    "from scipy            import interpolate\n",
    "from scipy.optimize   import curve_fit\n",
    "import subprocess\n",
    "from subprocess       import Popen, PIPE\n",
    "import urllib2\n",
    "from work_module      import calculate\n",
    "from work_module      import detector\n",
    "from work_module      import readfile\n",
    "from work_module      import writefile\n",
    "calc = calculate()\n",
    "det = detector()\n",
    "rf = readfile()\n",
    "wf = writefile()\n",
    "\n",
    "#docstrings of the different self-made classes within the self-made module\n",
    "#cdoc = calc.__doc__\n",
    "#ddoc = det.__doc__\n",
    "#rdoc = rf.__doc__\n",
    "\n",
    "\n",
    "\n",
    "day = 150926\n",
    "detector = det.n5\n",
    "data_type = 'ctime'\n",
    "year = int('20' + str(day)[0:2])\n",
    "\n",
    "#get the iso-date-format from the day\n",
    "date = datetime(year, int(str(day)[2:4]), int(str(day)[4:6]))\n",
    "\n",
    "#get the ordinal indicator for the date\n",
    "ordinal = lambda n: \"%d%s\" % (n,\"tsnrhtdd\"[(n/10%10!=1)*(n%10<4)*n%10::4])\n",
    "\n",
    "#read the measurement data\n",
    "ctime_data = rf.ctime(detector, day)\n",
    "echan = ctime_data[0]\n",
    "total_counts = ctime_data[1]\n",
    "echan_counts = ctime_data[2]\n",
    "total_rate = ctime_data[3]\n",
    "echan_rate = ctime_data[4]\n",
    "bin_time = ctime_data[5]\n",
    "good_time = ctime_data[6]\n",
    "exptime = ctime_data[7]\n",
    "bin_time_mid = np.array((bin_time[:,0]+bin_time[:,1])/2)\n",
    "\n",
    "total_rate = np.sum(echan_rate[1:-2], axis = 0)\n",
    "\n",
    "echan = 2 #define which energy-channels one wants to look at\n",
    "counts = echan_rate[echan]\n",
    "#counts = total_rate\n",
    "\n",
    "#read the satellite data\n",
    "sat_data = rf.poshist_bin(day, bin_time_mid, detector, data_type)\n",
    "sat_time_bin = sat_data[0]\n",
    "sat_pos_bin = sat_data[1]\n",
    "sat_lat_bin = sat_data[2]\n",
    "sat_lon_bin = sat_data[3]\n",
    "sat_q_bin = sat_data[4]\n",
    "\n",
    "#calculate the sun data\n",
    "sun_data = calc.sun_ang_bin(detector, day, bin_time_mid, data_type)\n",
    "sun_ang_bin = sun_data[0]\n",
    "sun_ang_bin = calc.ang_eff(sun_ang_bin, echan)[0]\n",
    "sun_rad = sun_data[2]\n",
    "sun_ra = sun_rad[:,0]\n",
    "sun_dec = sun_rad[:,1]\n",
    "sun_occ = calc.src_occultation_bin(day, sun_ra, sun_dec, bin_time_mid)[0]\n",
    "\n",
    "#calculate the earth data\n",
    "earth_data = calc.earth_ang_bin(detector, day, bin_time_mid, data_type)\n",
    "earth_ang_bin = earth_data[0]\n",
    "#earth_ang_bin = calc.ang_eff(earth_ang_bin, echan)[0]\n",
    "earth_ang_bin = calc.earth_occ_eff(earth_ang_bin, echan)\n",
    "\n",
    "#read the SFL data\n",
    "flares = rf.flares(year)\n",
    "flares_day = flares[0]\n",
    "flares_time = flares[1]\n",
    "if np.any(flares_day == day) == True:\n",
    "    flares_today = flares_time[:,np.where(flares_day == day)]\n",
    "    flares_today = np.squeeze(flares_today, axis=(1,))/3600.\n",
    "else:\n",
    "    flares_today = np.array(-5)\n",
    "\n",
    "#read the mcilwain parameter data\n",
    "sat_time = rf.poshist(day)[0]\n",
    "lat_data = rf.mcilwain(day)\n",
    "mc_b = lat_data[1]\n",
    "mc_l = lat_data[2]\n",
    "\n",
    "mc_b = calc.intpol(mc_b, day, 0, sat_time, bin_time_mid)[0]\n",
    "mc_l = calc.intpol(mc_l, day, 0, sat_time, bin_time_mid)[0]\n",
    "\n",
    "magnetic = mc_l\n",
    "magnetic = magnetic - np.mean(magnetic, dtype=np.float64)\n",
    "\n",
    "#constant function corresponding to the diffuse y-ray background\n",
    "cgb = np.ones(len(total_rate))\n",
    "\n",
    "#counts[120000:] = 0\n",
    "cgb[np.where(total_rate == 0)] = 0\n",
    "earth_ang_bin[np.where(total_rate == 0)] = 0\n",
    "sun_ang_bin[np.where(sun_occ == 0)] = 0\n",
    "sun_ang_bin[np.where(total_rate == 0)] = 0\n",
    "magnetic[np.where(total_rate == 0)] = 0\n",
    "\n",
    "#remove vertical movement from scaling sun_ang_bin\n",
    "sun_ang_bin[sun_ang_bin>0] = sun_ang_bin[sun_ang_bin>0] - np.min(sun_ang_bin[sun_ang_bin>0])"
   ]
  },
  {
   "cell_type": "code",
   "execution_count": 2,
   "metadata": {
    "collapsed": false,
    "scrolled": true
   },
   "outputs": [
    {
     "name": "stdout",
     "output_type": "stream",
     "text": [
      "2399\n",
      "22312\n",
      "167308\n",
      "185443\n",
      "202562\n",
      "219471\n",
      "236937\n",
      "255193\n",
      "273998\n"
     ]
    }
   ],
   "source": [
    "saa_exits = [0]\n",
    "for i in range(1, len(total_rate)):\n",
    "    if np.logical_and(total_rate[i-1] == 0, total_rate[i] != 0):\n",
    "        print i\n",
    "        saa_exits.append(i)\n",
    "saa_exits = np.array(saa_exits)\n",
    "\n",
    "if saa_exits[1] - saa_exits[0] < 10:\n",
    "    saa_exits = np.delete(saa_exits, 0)"
   ]
  },
  {
   "cell_type": "code",
   "execution_count": 23,
   "metadata": {
    "collapsed": true
   },
   "outputs": [],
   "source": [
    "#def exp_func(x, a, b, c):\n",
    "#    return a*np.exp(-b*x) + c\n",
    "def exp_func(x, a, b, i, addition_f):\n",
    "#    if saa_exits[i] == 0:\n",
    "#        addition = 0\n",
    "#    elif saa_exits[i] < 200:\n",
    "#        addition = 10\n",
    "#    else:\n",
    "#        addition = 9\n",
    "    addition = 5\n",
    "    starting_point = saa_exits[i] + addition + int(addition_f/0.00000000001)\n",
    "    x_func = x[starting_point:] - x[starting_point]\n",
    "    func = math.fabs(a)*np.exp(-math.fabs(b)*x_func)\n",
    "    zeros = np.zeros(len(x))\n",
    "    zeros[starting_point:] = func\n",
    "    zeros[np.where(total_rate==0)] = 0\n",
    "    return zeros"
   ]
  },
  {
   "cell_type": "code",
   "execution_count": 4,
   "metadata": {
    "collapsed": false
   },
   "outputs": [],
   "source": [
    "deaths = len(saa_exits)\n",
    "\n",
    "exp = []\n",
    "for i in range(0, deaths):\n",
    "    exp = np.append(exp, [40., 0.001])"
   ]
  },
  {
   "cell_type": "code",
   "execution_count": 5,
   "metadata": {
    "collapsed": false,
    "scrolled": true
   },
   "outputs": [],
   "source": [
    "def fit_function(x, a, b, c, d, addition_f, exp1, exp2, deaths):\n",
    "        this_is_it = a*cgb + b*magnetic + c*earth_ang_bin + d*sun_ang_bin\n",
    "        for i in range(0, deaths):\n",
    "            this_is_it = np.add(this_is_it, exp_func(x, exp1[i], exp2[i], i, addition_f))\n",
    "        return this_is_it\n",
    "\n",
    "def wrapper_fit_function(x, deaths, a, b, c, d, addition_f, *args):\n",
    "    exp1 = args[::2]\n",
    "    exp2 = args[1::2]\n",
    "    return fit_function(x, a, b, c, d, addition_f, np.fabs(exp1), np.fabs(exp2), deaths)\n",
    "\n",
    "x0 = np.append(np.array([1300., 20., -12., -1., 0.]), exp)\n",
    "sigma = np.array((counts + 1)**(0.5))"
   ]
  },
  {
   "cell_type": "code",
   "execution_count": 24,
   "metadata": {
    "collapsed": false
   },
   "outputs": [
    {
     "name": "stdout",
     "output_type": "stream",
     "text": [
      "CGB coefficient: 246.563609831\n",
      "Magnetic field coefficient: 36.2322841925\n",
      "Earth angle coefficient: -144.278987328\n",
      "Sun angle coefficient: 0.189228179777\n",
      "Addition:  -701\n",
      "starting exp: 12.4901726809 & 0.0247321796514\n",
      "first SAA: -7.27220646886 & -0.000351937560666\n"
     ]
    }
   ],
   "source": [
    "fit_results = optimization.curve_fit(lambda x, a, b, c, d, addition_f, *args: wrapper_fit_function(x, deaths, a, b, c, d, addition_f, *args), bin_time_mid, counts, x0, sigma, maxfev = 100000)\n",
    "coeff = fit_results[0]\n",
    "\n",
    "print 'CGB coefficient:',coeff[0]\n",
    "print 'Magnetic field coefficient:',coeff[1]\n",
    "print 'Earth angle coefficient:',coeff[2]\n",
    "print 'Sun angle coefficient:',coeff[3]\n",
    "print 'Addition: ', 5 + int(coeff[4]/0.00000000001)\n",
    "print 'starting exp:',coeff[5],'&',coeff[6]\n",
    "print 'first SAA:',coeff[7],'&',coeff[8]"
   ]
  },
  {
   "cell_type": "code",
   "execution_count": 22,
   "metadata": {
    "collapsed": false
   },
   "outputs": [
    {
     "data": {
      "text/plain": [
       "2.2204460492503131e-16"
      ]
     },
     "execution_count": 22,
     "metadata": {},
     "output_type": "execute_result"
    }
   ],
   "source": []
  },
  {
   "cell_type": "code",
   "execution_count": 25,
   "metadata": {
    "collapsed": false,
    "scrolled": true
   },
   "outputs": [],
   "source": [
    "a = coeff[0]\n",
    "b = coeff[1]\n",
    "c = coeff[2]\n",
    "d = coeff[3]\n",
    "addition_f = coeff[4]\n",
    "exp1 = coeff[5::2]\n",
    "exp2 = coeff[6::2]\n",
    "\n",
    "fit_curve = fit_function(bin_time_mid, a, b, c, d, addition_f, exp1, exp2, deaths)"
   ]
  },
  {
   "cell_type": "code",
   "execution_count": null,
   "metadata": {
    "collapsed": false
   },
   "outputs": [],
   "source": [
    "exp_func(bin_time_mid, exp01, exp02, 0)"
   ]
  },
  {
   "cell_type": "code",
   "execution_count": null,
   "metadata": {
    "collapsed": false
   },
   "outputs": [],
   "source": [
    "plt.plot(bin_time_mid - bin_time_mid[0], counts, 'b-')\n",
    "plt.plot(bin_time_mid - bin_time_mid[0], fit_curve, 'r-')\n",
    "\n",
    "plt.show()"
   ]
  },
  {
   "cell_type": "code",
   "execution_count": null,
   "metadata": {
    "collapsed": false
   },
   "outputs": [],
   "source": [
    "residual_curve = counts - fit_curve\n",
    "plt.plot(bin_time_mid - bin_time_mid[0], residual_curve, 'b-')"
   ]
  },
  {
   "cell_type": "code",
   "execution_count": 26,
   "metadata": {
    "collapsed": false
   },
   "outputs": [],
   "source": [
    "#####plot-algorhythm#####\n",
    "#convert the x-axis into hours of the day\n",
    "plot_time_bin_date = calc.met_to_date(bin_time_mid)[0]\n",
    "plot_time_bin = (plot_time_bin_date - calc.day_to_met(day)[1])*24#Time of day in hours\n",
    "plot_time_sat_date = calc.met_to_date(sat_time_bin)[0]\n",
    "plot_time_sat = (plot_time_sat_date - calc.day_to_met(day)[1])*24#Time of day in hours\n",
    "\n",
    "\n",
    "###plot each on the same axis as converted to counts###\n",
    "fig, ax1 = plt.subplots()\n",
    "\n",
    "plot1 = ax1.plot(plot_time_bin, counts, 'b-', label = 'Countrate')\n",
    "plot2 = ax1.plot(plot_time_bin, fit_curve, 'r-', label = 'Fit')\n",
    "plot3 = ax1.plot(plot_time_sat, d*sun_ang_bin, 'y-', label = 'Sun angle')\n",
    "plot4 = ax1.plot(plot_time_sat, c*earth_ang_bin, 'c-', label = 'Earth angle')\n",
    "plot5 = ax1.plot(plot_time_sat, b*magnetic, 'g-', label = 'Magnetic field')\n",
    "plot6 = ax1.plot(plot_time_sat, a*cgb, 'b--', label = 'Cosmic y-ray background')\n",
    "#plot7 = ax1.plot(plot_time_sat, j2000_orb, 'y--', label = 'J2000 orbit')\n",
    "#plot8 = ax1.plot(plot_time_sat, geo_orb, 'g--', label = 'Geographical orbit')\n",
    "\n",
    "#plot vertical lines for the solar flares of the day\n",
    "if np.all(flares_today != -5):\n",
    "    if len(flares_today[0]) > 1:\n",
    "        for i in range(0, len(flares_today[0])):\n",
    "            plt.axvline(x = flares_today[0,i], ymin = 0., ymax = 1., linewidth=2, color = 'grey')\n",
    "            plt.axvline(x = flares_today[1,i], ymin = 0., ymax = 1., color = 'grey', linestyle = '--')\n",
    "    else:\n",
    "        plt.axvline(x = flares_today[0], ymin = 0., ymax = 1., linewidth=2, color = 'grey')\n",
    "        plt.axvline(x = flares_today[1], ymin = 0., ymax = 1., color = 'grey', linestyle = '--')\n",
    "\n",
    "plots = plot1 + plot2 + plot3 + plot4 + plot5 + plot6\n",
    "labels = [l.get_label() for l in plots]\n",
    "ax1.legend(plots, labels, loc=1)\n",
    "\n",
    "ax1.grid()\n",
    "\n",
    "ax1.set_xlabel('Time of day in 24h')\n",
    "ax1.set_ylabel('Countrate')\n",
    "\n",
    "#ax1.set_xlim([9.84, 9.85])\n",
    "ax1.set_xlim([-0.5, 24.5])\n",
    "ax1.set_ylim([-500, 1500])\n",
    "\n",
    "plt.title(data_type + '-countrate-fit of the ' + detector.__name__ + '-detector on the ' + ordinal(int(str(day)[4:6])) + ' ' + date.strftime('%B')[0:3] + ' ' + str(year))\n",
    "\n",
    "plt.show()\n",
    "\n",
    "#savefig(\"/home/tkili/Work/saa_plot.pdf\",bbox_inches=\"tight\")"
   ]
  },
  {
   "cell_type": "code",
   "execution_count": 9,
   "metadata": {
    "collapsed": false
   },
   "outputs": [],
   "source": [
    "###plot residual noise of the fitting algorithm###\n",
    "plt.plot(plot_time_bin, counts - fit_curve, 'b-')\n",
    "\n",
    "plt.xlabel('Time of day in 24h')\n",
    "plt.ylabel('Residual noise')\n",
    "\n",
    "plt.grid()\n",
    "\n",
    "plt.title(data_type + '-counts-fit residuals of the ' + detector.__name__ + '-detector on the ' + ordinal(int(str(day)[4:6])) + ' ' + date.strftime('%B')[0:3] + ' ' + str(year))\n",
    "\n",
    "plt.ylim([-600, 600])\n",
    "\n",
    "plt.show()\n",
    "\n",
    "#savefig(\"/home/tkili/Work/saa_plot.pdf\",bbox_inches=\"tight\")"
   ]
  }
 ],
 "metadata": {
  "kernelspec": {
   "display_name": "Python 2",
   "language": "python",
   "name": "python2"
  },
  "language_info": {
   "codemirror_mode": {
    "name": "ipython",
    "version": 2
   },
   "file_extension": ".py",
   "mimetype": "text/x-python",
   "name": "python",
   "nbconvert_exporter": "python",
   "pygments_lexer": "ipython2",
   "version": "2.7.6"
  }
 },
 "nbformat": 4,
 "nbformat_minor": 0
}
