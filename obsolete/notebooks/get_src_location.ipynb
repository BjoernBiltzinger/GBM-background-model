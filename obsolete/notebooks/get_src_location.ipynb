{
 "cells": [
  {
   "cell_type": "code",
   "execution_count": 2,
   "metadata": {
    "collapsed": true
   },
   "outputs": [],
   "source": [
    "#!/usr/bin python2.7\n",
    "\n",
    "from astropy.io       import fits\n",
    "from astropy.table    import Table\n",
    "from astropy.time     import Time\n",
    "from datetime         import date\n",
    "from datetime         import datetime\n",
    "import ephem\n",
    "import fileinput\n",
    "import getpass\n",
    "import math\n",
    "import matplotlib.pyplot                   as plt\n",
    "import matplotlib                          as mpl\n",
    "import numpy                               as np\n",
    "from numpy            import linalg        as LA\n",
    "import os\n",
    "import pyfits\n",
    "import scipy.optimize                      as optimization\n",
    "from scipy            import integrate\n",
    "from scipy            import interpolate\n",
    "from scipy.optimize   import curve_fit\n",
    "import subprocess\n",
    "from subprocess       import Popen, PIPE\n",
    "import urllib2\n",
    "from work_module      import calculate\n",
    "from work_module      import detector\n",
    "from work_module      import readfile\n",
    "from work_module      import writefile\n",
    "calc = calculate()\n",
    "det = detector()\n",
    "rf = readfile()\n",
    "wf = writefile()"
   ]
  },
  {
   "cell_type": "code",
   "execution_count": 18,
   "metadata": {
    "collapsed": false
   },
   "outputs": [],
   "source": [
    "day = 111209\n",
    "detectors = np.array(['n3', 'n6', 'n7', 'n8', 'nb'])\n",
    "#160624\n",
    "time_frame = np.array([7.75775, 7.75781])\n",
    "#140611\n",
    "#time_frame = np.array([4.7185, 4.7285])\n",
    "#101225\n",
    "#time_frame = np.array([9.0481, 9.078])\n",
    "data_type = 'ctime'\n",
    "echans = np.array([1, 2, 3, 4, 5, 6, 7])"
   ]
  },
  {
   "cell_type": "code",
   "execution_count": 19,
   "metadata": {
    "collapsed": false
   },
   "outputs": [],
   "source": [
    "all_det_counts = []\n",
    "for echan in echans:\n",
    "    det_counts = []\n",
    "    for detector in detectors:\n",
    "        data = calc.curve_fit_plots(day, detector, echan, data_type)\n",
    "        residuals = data[0]\n",
    "        plot_time_bin = data[8]\n",
    "        plot_time_sat = data[9]\n",
    "        \n",
    "        residuals_frame = residuals[np.where(np.logical_and(plot_time_bin > time_frame[0], plot_time_bin < time_frame[1]))]\n",
    "        det_counts.append(np.sum(residuals_frame))\n",
    "    \n",
    "    all_det_counts.append(det_counts)\n",
    "\n",
    "all_det_counts = np.array(all_det_counts)\n",
    "mid_point_index = ([np.where(np.logical_and(plot_time_bin > time_frame[0], plot_time_bin < time_frame[1]))][0][0][0] + [np.where(np.logical_and(plot_time_bin > time_frame[0], plot_time_bin < time_frame[1]))][0][0][-1])/2"
   ]
  },
  {
   "cell_type": "code",
   "execution_count": 20,
   "metadata": {
    "collapsed": false
   },
   "outputs": [],
   "source": [
    "det_coords = []\n",
    "det_rads = []\n",
    "for detector in detectors:\n",
    "    det_or = calc.det_or_bin(detector, day, 0, data_type)\n",
    "    det_coor = det_or[0]\n",
    "    det_rad = det_or[1]\n",
    "    sat_pos = det_or[2]\n",
    "    \n",
    "    det_coords.append(det_coor[:,mid_point_index])\n",
    "    det_rads.append(det_rad[mid_point_index])\n",
    "\n",
    "det_coords = np.array(det_coords)\n",
    "det_rads = np.array(det_rads)"
   ]
  },
  {
   "cell_type": "code",
   "execution_count": 21,
   "metadata": {
    "collapsed": true
   },
   "outputs": [],
   "source": [
    "def angle(x1, x2, x3, coords):\n",
    "    x_vec = np.array([x1, x2, x3])\n",
    "    #normalize vektor\n",
    "    x_vec = x_vec/(np.sqrt(x1**2 + x2**2 + x3**2))\n",
    "    \n",
    "    scalar_product = x_vec[0]*coords[0] + x_vec[1]*coords[1] + x_vec[2]*coords[2]\n",
    "    angle = np.arccos(scalar_product)*360./(2.*math.pi)\n",
    "    return angle\n",
    "\n",
    "\n",
    "def eff_counts(angle, echan, factor):\n",
    "    fitsname = 'peak_eff_area_angle_calib_GBM_all_DRM.fits'\n",
    "    user = getpass.getuser()\n",
    "    fits_path = '/home/' + user + '/Work/calibration/'\n",
    "    fitsfilepath = os.path.join(fits_path, fitsname)\n",
    "    fitsfile = fits.open(fitsfilepath, mode='update')\n",
    "    data = fitsfile[1].data\n",
    "    fitsfile.close()\n",
    "    x5 = data.field(0)\n",
    "    y0 = data.field(1)#for NaI (4-12 keV) gewichteter Mittelwert = 10.76 keV\n",
    "    y1 = data.field(2)#for NaI (12-27 keV) gewichteter Mittelwert = 20.42 keV\n",
    "    y2 = data.field(3)#for NaI (27-50 keV) gewichteter Mittelwert = 38.80 keV\n",
    "    y3 = data.field(4)#for NaI (50-102 keV) gewichteter Mittelwert = 76.37 keV\n",
    "    y4 = data.field(5)#for NaI (102-295 keV) gewichteter Mittelwert = 190.19 keV\n",
    "    y5 = data.field(6)#for NaI (295-540 keV) gewichteter Mittelwert = 410.91 keV\n",
    "    y6 = data.field(7)#for NaI (540-985 keV) gewichteter Mittelwert = 751.94 keV\n",
    "    y7 = data.field(8)#for NaI (985-2000 keV) gewichteter Mittelwert = 1466.43 keV\n",
    "    #y4 = data.field(4)#for BGO (898 keV)\n",
    "    #y5 = data.field(5)#for BGO (1836 keV)\n",
    "        \n",
    "    y_all = np.array([y0, y1, y2, y3, y4, y5, y6, y7])\n",
    "    ang_eff = []\n",
    "        \n",
    "    y = y_all[echan]\n",
    "                \n",
    "    #calculate the angle factors\n",
    "    tck = interpolate.splrep(x5, y)\n",
    "    counts_fac = interpolate.splev(angle, tck, der=0)\n",
    "    counts_fac = counts_fac*factor\n",
    "    return counts_fac\n",
    "\n",
    "\n",
    "def echan_fit_function(x, det_coords, echan, x1, x2, x3, factor):\n",
    "    det_counts_fit = []\n",
    "    for coords in det_coords:\n",
    "        ang = angle(x1, x2, x3, coords)\n",
    "        counts_fac = eff_counts(ang, echan, factor)\n",
    "        det_counts_fit.append(counts_fac)\n",
    "    \n",
    "    det_counts_fit = np.array(det_counts_fit)\n",
    "    return det_counts_fit\n",
    "\n",
    "def fit_function(x, x_angles, det_coords, echans, x1, x2, x3, factor):\n",
    "    all_det_counts_fit = []\n",
    "    for echan in echans:\n",
    "        det_counts_fit = echan_fit_function(x, det_coords, echan, x1, x2, x3, factor)\n",
    "        all_det_counts_fit.append(det_counts_fit)\n",
    "    \n",
    "    all_det_counts_fit = np.array(all_det_counts_fit)\n",
    "    return all_det_counts_fit"
   ]
  },
  {
   "cell_type": "code",
   "execution_count": 22,
   "metadata": {
    "collapsed": false
   },
   "outputs": [],
   "source": [
    "results_rad = []\n",
    "results_coor = []\n",
    "results_factor = []\n",
    "for i in range(0, len(echans)):\n",
    "    echan_index = i\n",
    "    echan = echans[echan_index]\n",
    "\n",
    "    x_axis = np.arange(len(detectors))\n",
    "    y_axis = all_det_counts[echan_index]\n",
    "\n",
    "    x0 = np.array([1., 1., 1., 1000.])\n",
    "\n",
    "    fit_results = optimization.curve_fit(lambda x, x1, x2, x3, factor: echan_fit_function(x, det_coords, echan, x1, x2, x3, factor), x_axis, y_axis, x0, maxfev = 10000)\n",
    "    best_coords = fit_results[0][:3]\n",
    "    factor = fit_results[0][3]\n",
    "    #print LA.norm(best_coords, axis=0)\n",
    "    best_coords = best_coords/LA.norm(best_coords, axis=0)\n",
    "    best_ra = np.arctan2(-best_coords[1], -best_coords[0])*360./(2.*math.pi)+180.\n",
    "    best_dec = np.arctan(best_coords[2]/(best_coords[0]**2 + best_coords[1]**2)**0.5)*360./(2.*math.pi)\n",
    "    best_rad = np.array([best_ra, best_dec])\n",
    "    \n",
    "    results_rad.append(best_rad)\n",
    "    results_coor.append(best_coords)\n",
    "    results_factor.append(factor)\n",
    "\n",
    "results_rad = np.array(results_rad)\n",
    "results_coor = np.array(results_coor)\n",
    "results_factor = np.array(results_factor)"
   ]
  },
  {
   "cell_type": "code",
   "execution_count": 23,
   "metadata": {
    "collapsed": false
   },
   "outputs": [
    {
     "name": "stdout",
     "output_type": "stream",
     "text": [
      "[[  33.4373388   -20.59303003]\n",
      " [  15.15303424  -24.07248667]\n",
      " [ 207.03502076   -0.30196285]\n",
      " [  63.27045704   14.25977536]\n",
      " [  12.00481299  -32.02679524]\n",
      " [ 295.25071166  -20.28708979]\n",
      " [ 149.10533874   81.00902121]]\n",
      "[[ 0.78116705  0.51581549 -0.35172778]\n",
      " [ 0.88128509  0.23866431 -0.40789207]\n",
      " [-0.8907165  -0.45452871 -0.00527022]\n",
      " [ 0.43592138  0.86562098  0.24631865]\n",
      " [ 0.8292589   0.17633723 -0.53031581]\n",
      " [ 0.40011797 -0.84834419 -0.34672431]\n",
      " [-0.13410496  0.08024319  0.98771296]]\n",
      "[ 0.64000755  0.63028533  1.36228908  0.92910883  0.38606714  1.83307615\n",
      "  3.54362469]\n"
     ]
    }
   ],
   "source": [
    "print results_rad\n",
    "print results_coor\n",
    "print results_factor"
   ]
  },
  {
   "cell_type": "code",
   "execution_count": 93,
   "metadata": {
    "collapsed": false
   },
   "outputs": [
    {
     "name": "stdout",
     "output_type": "stream",
     "text": [
      "[[ 233.17807541  -44.51957995]\n",
      " [ 302.94449035   -6.26165151]\n",
      " [ 341.8537932     1.71264766]\n",
      " [ 338.8191877    12.88451741]\n",
      " [ 285.40108561   18.45226637]\n",
      " [ 327.97658155   -9.81906695]\n",
      " [ 244.00137136  -18.39737431]]\n",
      "[[-0.42732878 -0.5707667  -0.70115297]\n",
      " [ 0.54058188 -0.83419133 -0.10906902]\n",
      " [ 0.94984038 -0.31130376  0.02988689]\n",
      " [ 0.90896728 -0.35221502  0.22298671]\n",
      " [ 0.25192059 -0.91452425  0.31651449]\n",
      " [ 0.83541172 -0.52249808 -0.17053741]\n",
      " [-0.41594579 -0.85286707 -0.31560555]]\n",
      "[ 1172.73628304   604.75858246   768.49731081  1023.55371131   432.01720063\n",
      "   389.59453946   363.27310692]\n"
     ]
    }
   ],
   "source": [
    "print results_rad\n",
    "print results_coor\n",
    "print results_factor"
   ]
  },
  {
   "cell_type": "code",
   "execution_count": 9,
   "metadata": {
    "collapsed": false
   },
   "outputs": [],
   "source": [
    "all_det_counts_fit = []\n",
    "for i in range(0, len(echans)):\n",
    "    det_counts_fit = echan_fit_function(0, det_coords, echan, results_coor[i][0], results_coor[i][1], results_coor[i][2], results_factor[i])\n",
    "    all_det_counts_fit.append(det_counts_fit)\n",
    "\n",
    "all_det_counts_fit = np.array(all_det_counts_fit)"
   ]
  },
  {
   "cell_type": "code",
   "execution_count": null,
   "metadata": {
    "collapsed": false
   },
   "outputs": [],
   "source": [
    "print all_det_counts_fit"
   ]
  },
  {
   "cell_type": "code",
   "execution_count": null,
   "metadata": {
    "collapsed": false,
    "scrolled": true
   },
   "outputs": [],
   "source": [
    "print all_det_counts"
   ]
  },
  {
   "cell_type": "code",
   "execution_count": 10,
   "metadata": {
    "collapsed": false
   },
   "outputs": [
    {
     "name": "stdout",
     "output_type": "stream",
     "text": [
      "[[ -1.08099722e+01   1.42476407e+01  -2.29634401e+00  -8.01836473e+00\n",
      "   -2.26615448e+00  -3.52085117e+00   1.57524982e-01   1.94887819e-01\n",
      "   -5.90682478e-01  -4.45413196e-02  -4.75029771e+00   3.61672006e+00]\n",
      " [ -1.31235589e+00  -3.48021007e-01  -4.29917453e+02  -5.14556789e-02\n",
      "   -2.35286394e-01   1.31736605e-01  -1.59264282e+00  -3.10350477e-01\n",
      "    1.00063333e-01   2.91677810e-01   3.12938440e-01  -1.00548403e+01]\n",
      " [ -9.00953220e-01  -2.39063383e-01  -1.53094304e+00  -1.06926778e-01\n",
      "   -4.71863382e-01   2.61936653e-01  -3.48692781e+00  -1.07823404e+00\n",
      "   -3.01882857e-02  -1.50769083e-01  -2.35903016e-01  -6.56125837e-01]\n",
      " [ -2.73476486e-01  -1.48147081e-01  -7.89038074e-01  -1.37651739e+00\n",
      "    3.78843963e-01  -2.58529869e-01  -1.34430356e+00  -1.51795938e-01\n",
      "   -9.42032653e-01  -7.38806656e-02  -6.67727624e-01   5.39940264e-01]\n",
      " [  4.27329127e-01  -5.58145371e-02  -8.72085127e-01   2.60722823e-01\n",
      "    2.49721053e-01  -2.54378239e-01  -7.28317404e-02   4.60593757e-02\n",
      "   -4.87136036e-01   4.38840832e-01  -3.48451937e-01   4.05406248e-01]\n",
      " [  3.91157146e-01   2.36042236e-01  -5.40339804e-01   2.94380309e-01\n",
      "    3.54493890e-01  -3.98675022e-01   2.47129443e-01   1.65962415e-01\n",
      "   -1.70072556e-01   6.42655393e-01  -2.40078799e-01   4.13776112e-01]\n",
      " [  1.54593673e-01   4.95752398e-02  -2.49849114e-01   5.30326089e-01\n",
      "    2.37070788e-01  -7.14975616e-01   2.14808645e-01   2.21536247e-01\n",
      "    1.63871196e-01   1.25242411e-01  -6.88020101e-03   3.63539629e-01]]\n"
     ]
    }
   ],
   "source": [
    "print (all_det_counts - all_det_counts_fit)/all_det_counts"
   ]
  }
 ],
 "metadata": {
  "kernelspec": {
   "display_name": "Python 2",
   "language": "python",
   "name": "python2"
  },
  "language_info": {
   "codemirror_mode": {
    "name": "ipython",
    "version": 2
   },
   "file_extension": ".py",
   "mimetype": "text/x-python",
   "name": "python",
   "nbconvert_exporter": "python",
   "pygments_lexer": "ipython2",
   "version": "2.7.6"
  }
 },
 "nbformat": 4,
 "nbformat_minor": 0
}
