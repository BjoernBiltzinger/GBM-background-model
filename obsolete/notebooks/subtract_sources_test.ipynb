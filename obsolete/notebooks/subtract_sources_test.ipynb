{
 "cells": [
  {
   "cell_type": "code",
   "execution_count": 1,
   "metadata": {
    "collapsed": true
   },
   "outputs": [],
   "source": [
    "#!/usr/bin python2.7\n",
    "\n",
    "from astropy.io       import fits\n",
    "from astropy.table    import Table\n",
    "from astropy.time     import Time\n",
    "from datetime         import date\n",
    "from datetime         import datetime\n",
    "import ephem\n",
    "import fileinput\n",
    "import getpass\n",
    "import math\n",
    "import matplotlib.pyplot                   as plt\n",
    "import matplotlib                          as mpl\n",
    "import numpy                               as np\n",
    "from numpy            import linalg        as LA\n",
    "import os\n",
    "import pyfits\n",
    "import scipy.optimize                      as optimization\n",
    "from scipy            import integrate\n",
    "from scipy            import interpolate\n",
    "from scipy.optimize   import curve_fit\n",
    "import subprocess\n",
    "from subprocess       import Popen, PIPE\n",
    "import urllib2\n",
    "from work_module      import calculate\n",
    "from work_module      import detector\n",
    "from work_module      import readfile\n",
    "from work_module      import writefile\n",
    "calc = calculate()\n",
    "det = detector()\n",
    "rf = readfile()\n",
    "wf = writefile()"
   ]
  },
  {
   "cell_type": "code",
   "execution_count": 29,
   "metadata": {
    "collapsed": false
   },
   "outputs": [],
   "source": [
    "def subtract_sources(residuals, sources, detector_name, echan, day, data_type = 'ctime'):\n",
    "    \"\"\"This function calculates the chi-square fit to the data of a given detector, day and energy channel and saves the figure in the appropriate folder\\n\n",
    "    Input:\\n\n",
    "    calculate.subtract_sources(residuals, sources (array of the form [[ra1, dec1], [ra2, dec2]]), detector_name, echan, day = YYMMDD, data_type = 'ctime')\\n\n",
    "    Output:\\n\n",
    "    0 = sub_residuals\\n\n",
    "    1 = fit_curve\\n\n",
    "    2 = sources_ang_bin\\n\n",
    "    3 = sources_plots\\n\n",
    "    4 = sub_coeffs\"\"\"\n",
    "    \n",
    "    #get the downtimes and plotting time from this day\n",
    "    if data_type == 'ctime':\n",
    "        ctime_data = readfile.ctime(readfile(), detector_name, day)\n",
    "        echan_rate = ctime_data[4]\n",
    "        bin_time = ctime_data[5]\n",
    "        \n",
    "        bin_time_mid = np.array((bin_time[:,0]+bin_time[:,1])/2)\n",
    "        total_rate = np.sum(echan_rate[1:-2], axis = 0)\n",
    "    \n",
    "    elif data_type == 'cspec':\n",
    "        cspec_data = readfile.cspec(readfile(), detector_name, day)\n",
    "        echan_rate = cspec_data[4]\n",
    "        bin_time = cspec_data[5]\n",
    "\n",
    "        bin_time_mid = np.array((bin_time[:,0]+bin_time[:,1])/2)\n",
    "        total_rate = np.sum(echan_rate[1:-2], axis = 0)\n",
    "    \n",
    "    else:\n",
    "        print 'Invalid data type: ' + str(data_type) + '\\n Please insert an appropriate data type (ctime or cspec).'\n",
    "    \n",
    "    \n",
    "    \n",
    "    if sources[0].shape == ():\n",
    "        number = 1\n",
    "    else:\n",
    "        number = len(sources)\n",
    "    \n",
    "    \n",
    "\n",
    "    pre_coeffs = [-1.]\n",
    "    \n",
    "    if number == 1:\n",
    "        source_ra = sources[0]\n",
    "        source_dec = sources[1]\n",
    "    else:\n",
    "        source_ra = sources[0,0]\n",
    "        source_dec = sources[0,1]\n",
    "    \n",
    "    source_data = calc.burst_ang_bin(detector_name, day, source_ra, source_dec, bin_time_mid, data_type)\n",
    "    source_ang_bin = source_data[0]\n",
    "    source_ang_bin = calc.ang_eff(source_ang_bin, echan, data_type)[0]\n",
    "    source_occ = calc.src_occultation_bin(day, source_ra, source_dec, bin_time_mid, detector_name, data_type)[0]\n",
    "    \n",
    "    source_ang_bin[np.where(source_occ == 0)] = 0\n",
    "    source_ang_bin[np.where(total_rate == 0)] = 0\n",
    "        \n",
    "    source_ang_bin[source_ang_bin>0] = source_ang_bin[source_ang_bin>0] - np.min(source_ang_bin[source_ang_bin>0])\n",
    "        \n",
    "    sources_ang_bin = np.array([source_ang_bin])\n",
    "    \n",
    "    if number > 1:\n",
    "        for i in range(1, number):\n",
    "            source_ra = sources[i,0]\n",
    "            source_dec = sources[i,1]\n",
    "            \n",
    "            source_data = calc.burst_ang_bin(detector_name, day, source_ra, source_dec, bin_time_mid, data_type)\n",
    "            source_ang_bin = source_data[0]\n",
    "            source_ang_bin = calc.ang_eff(source_ang_bin, echan, data_type)[0]\n",
    "            source_occ = calc.src_occultation_bin(day, source_ra, source_dec, bin_time_mid, detector_name, data_type)[0]\n",
    "            \n",
    "            source_ang_bin[np.where(source_occ == 0)] = 0\n",
    "            source_ang_bin[np.where(total_rate == 0)] = 0\n",
    "            \n",
    "            source_ang_bin[source_ang_bin>0] = source_ang_bin[source_ang_bin>0] - np.mean(source_ang_bin[source_ang_bin>0])\n",
    "            \n",
    "            source_ang_bin = np.array(source_ang_bin)\n",
    "            \n",
    "            sources_ang_bin = np.concatenate((sources_ang_bin, [source_ang_bin]), axis = 0)\n",
    "            pre_coeffs.append(-1.)\n",
    "    \n",
    "    pre_coeffs = np.array(pre_coeffs)\n",
    "    \n",
    "    #print sources_ang_bin\n",
    "    \n",
    "    def wrapper_fit_function(x, number, *args):\n",
    "        coeffs = args[::1]\n",
    "        return fit_function(x, number, coeffs)\n",
    "    \n",
    "    def fit_function(x, number, coeffs):\n",
    "        this_is_it = np.zeros(len(bin_time_mid))\n",
    "        for i in range(0, number):\n",
    "            this_is_it = np.add(this_is_it, coeffs[i]*sources_ang_bin[i])\n",
    "        return this_is_it\n",
    "    \n",
    "    sigma = np.array((np.fabs(residuals) + 1)**(0.5))\n",
    "    \n",
    "    fit_results = optimization.curve_fit(lambda x, *args: wrapper_fit_function(x, number, *args), bin_time_mid, residuals, pre_coeffs, sigma, maxfev = 10000)\n",
    "    \n",
    "    sub_coeffs = fit_results[0]\n",
    "    \n",
    "    fit_curve = fit_function(bin_time_mid, number, sub_coeffs)\n",
    "    sub_residuals = residuals - fit_curve\n",
    "    \n",
    "    sources_plots = np.multiply(sources_ang_bin.T, sub_coeffs).T\n",
    "    \n",
    "    return sub_residuals, fit_curve, sources_ang_bin, sources_plots, sub_coeffs"
   ]
  },
  {
   "cell_type": "code",
   "execution_count": 30,
   "metadata": {
    "collapsed": false
   },
   "outputs": [],
   "source": [
    "day = 150926\n",
    "echan = 1\n",
    "detector = 'n3'\n",
    "sources = np.array([[135.529, -40.555], [186.657, -62.77], [255.986, -37.844], [256.45, -36.417], [270.275, -25.083], [270.382, -20.531], [274.006, -14.036], [288.82, 10.97], [308.107, 40.958]])\n",
    "sources_names = np.array(['VELAX-1', 'GX301-2', '4U1700-377', 'GX349+2', 'GX5-1', 'GX9+1', 'GX17+2', 'GRS1915+105', 'CYGX-3'])\n",
    "\n",
    "measurement = calc.curve_fit_plots(day, detector, echan)\n",
    "residuals = measurement[0]\n",
    "plot_time_bin = measurement[10]\n",
    "\n",
    "data = subtract_sources(residuals, sources, detector, echan, day)\n",
    "sub_residuals = data[0]\n",
    "fit_curve = data[1]\n",
    "sources_ang_bin = data[2]\n",
    "sources_plots = data[3]\n",
    "sub_coeffs = data[4]"
   ]
  },
  {
   "cell_type": "code",
   "execution_count": 31,
   "metadata": {
    "collapsed": false
   },
   "outputs": [],
   "source": [
    "mpl.rcParams['axes.color_cycle'] = ['b', 'g', 'c', 'm', 'y', 'k']\n",
    "\n",
    "for i in range(0, len(sources)):\n",
    "    plt.plot(plot_time_bin, sources_plots[i], label = sources_names[i])\n",
    "\n",
    "#plt.plot(plot_time_bin, residuals, 'b-')\n",
    "plt.plot(plot_time_bin, fit_curve, 'r-')\n",
    "#plt.plot(plot_time_bin, sub_residuals, 'r-')\n",
    "\n",
    "plt.grid()\n",
    "plt.legend()\n",
    "plt.show()"
   ]
  },
  {
   "cell_type": "code",
   "execution_count": 32,
   "metadata": {
    "collapsed": false
   },
   "outputs": [
    {
     "name": "stdout",
     "output_type": "stream",
     "text": [
      "[ 0.11805418  0.56242399  0.06765662  0.08894685 -1.23191628  0.52484047\n",
      "  0.02512609 -0.01682369 -0.08285396]\n"
     ]
    }
   ],
   "source": [
    "print sub_coeffs"
   ]
  },
  {
   "cell_type": "code",
   "execution_count": 50,
   "metadata": {
    "collapsed": true
   },
   "outputs": [],
   "source": [
    "sources_coeff = np.array([2., 4., 10.])\n",
    "\n",
    "sources_ang_bin = np.array([[1, 2, 3], [4, 5, 6], [7, 8, 9]])"
   ]
  },
  {
   "cell_type": "code",
   "execution_count": 54,
   "metadata": {
    "collapsed": false
   },
   "outputs": [
    {
     "data": {
      "text/plain": [
       "array([[  2.,   4.,   6.],\n",
       "       [ 16.,  20.,  24.],\n",
       "       [ 70.,  80.,  90.]])"
      ]
     },
     "execution_count": 54,
     "metadata": {},
     "output_type": "execute_result"
    }
   ],
   "source": [
    "np.multiply(sources_coeff,sources_ang_bin.T).T"
   ]
  },
  {
   "cell_type": "code",
   "execution_count": 55,
   "metadata": {
    "collapsed": false
   },
   "outputs": [
    {
     "data": {
      "text/plain": [
       "array([  88.,  104.,  120.])"
      ]
     },
     "execution_count": 55,
     "metadata": {},
     "output_type": "execute_result"
    }
   ],
   "source": [
    "np.squeeze(np.sum(np.multiply(sources_coeff,sources_ang_bin.T).T, axis = 0))"
   ]
  },
  {
   "cell_type": "code",
   "execution_count": 2,
   "metadata": {
    "collapsed": true
   },
   "outputs": [],
   "source": [
    "import numpy as np"
   ]
  },
  {
   "cell_type": "code",
   "execution_count": 16,
   "metadata": {
    "collapsed": false
   },
   "outputs": [
    {
     "name": "stdout",
     "output_type": "stream",
     "text": [
      "[[1, 2, 3], [4, 5, 6], [7, 8, 9], [10, 11, 12], [13, 14]]\n"
     ]
    }
   ],
   "source": [
    "a = np.array([[1, 2, 3],[4, 5, 6],[7, 8, 9],[10, 11, 12]])\n",
    "b = np.array([[13, 14]])\n",
    "\n",
    "a_list = a.tolist()\n",
    "b_list = b.tolist()\n",
    "\n",
    "c = a_list + b_list\n",
    "\n",
    "print c"
   ]
  }
 ],
 "metadata": {
  "kernelspec": {
   "display_name": "Python 2",
   "language": "python",
   "name": "python2"
  },
  "language_info": {
   "codemirror_mode": {
    "name": "ipython",
    "version": 2
   },
   "file_extension": ".py",
   "mimetype": "text/x-python",
   "name": "python",
   "nbconvert_exporter": "python",
   "pygments_lexer": "ipython2",
   "version": "2.7.6"
  }
 },
 "nbformat": 4,
 "nbformat_minor": 0
}
