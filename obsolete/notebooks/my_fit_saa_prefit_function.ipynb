{
 "cells": [
  {
   "cell_type": "code",
   "execution_count": 1,
   "metadata": {
    "collapsed": false
   },
   "outputs": [],
   "source": [
    "%matplotlib inline\n",
    "#%pylab inline"
   ]
  },
  {
   "cell_type": "code",
   "execution_count": 2,
   "metadata": {
    "collapsed": false,
    "scrolled": true
   },
   "outputs": [
    {
     "name": "stderr",
     "output_type": "stream",
     "text": [
      "work_module.py:1349: RuntimeWarning: invalid value encountered in arccos\n",
      "  ang_det_sun = np.arccos(scalar_product)\n",
      "work_module.py:1065: RuntimeWarning: invalid value encountered in arccos\n",
      "  ang_det_geo = np.arccos(scalar_product)\n"
     ]
    }
   ],
   "source": [
    "#!/usr/bin python2.7\n",
    "\n",
    "from astropy.io       import fits\n",
    "from astropy.table    import Table\n",
    "from astropy.time     import Time\n",
    "from datetime         import date\n",
    "from datetime         import datetime\n",
    "import ephem\n",
    "import fileinput\n",
    "import getpass\n",
    "import math\n",
    "import matplotlib.pyplot                   as plt\n",
    "import matplotlib                          as mpl\n",
    "import numpy                               as np\n",
    "from numpy            import linalg        as LA\n",
    "import os\n",
    "import pyfits\n",
    "import scipy.optimize                      as optimization\n",
    "from scipy            import integrate\n",
    "from scipy            import interpolate\n",
    "from scipy.optimize   import curve_fit\n",
    "import subprocess\n",
    "from subprocess       import Popen, PIPE\n",
    "import urllib2\n",
    "from work_module      import calculate\n",
    "from work_module      import detector\n",
    "from work_module      import readfile\n",
    "from work_module      import writefile\n",
    "calc = calculate()\n",
    "det = detector()\n",
    "rf = readfile()\n",
    "wf = writefile()\n",
    "\n",
    "#docstrings of the different self-made classes within the self-made module\n",
    "#cdoc = calc.__doc__\n",
    "#ddoc = det.__doc__\n",
    "#rdoc = rf.__doc__\n",
    "\n",
    "\n",
    "\n",
    "day = 150926\n",
    "detector = det.n5\n",
    "data_type = 'ctime'\n",
    "year = int('20' + str(day)[0:2])\n",
    "\n",
    "#get the iso-date-format from the day\n",
    "date = datetime(year, int(str(day)[2:4]), int(str(day)[4:6]))\n",
    "\n",
    "#get the ordinal indicator for the date\n",
    "ordinal = lambda n: \"%d%s\" % (n,\"tsnrhtdd\"[(n/10%10!=1)*(n%10<4)*n%10::4])\n",
    "\n",
    "#read the measurement data\n",
    "ctime_data = rf.ctime(detector, day)\n",
    "echan = ctime_data[0]\n",
    "total_counts = ctime_data[1]\n",
    "echan_counts = ctime_data[2]\n",
    "total_rate = ctime_data[3]\n",
    "echan_rate = ctime_data[4]\n",
    "bin_time = ctime_data[5]\n",
    "good_time = ctime_data[6]\n",
    "exptime = ctime_data[7]\n",
    "bin_time_mid = np.array((bin_time[:,0]+bin_time[:,1])/2)\n",
    "\n",
    "echan = 5 #define which energy-channels one wants to look at\n",
    "counts = echan_rate[echan]\n",
    "#counts = total_rate\n",
    "\n",
    "#read the satellite data\n",
    "sat_data = rf.poshist_bin(day, bin_time_mid, detector, data_type)\n",
    "sat_time_bin = sat_data[0]\n",
    "sat_pos_bin = sat_data[1]\n",
    "sat_lat_bin = sat_data[2]\n",
    "sat_lon_bin = sat_data[3]\n",
    "sat_q_bin = sat_data[4]\n",
    "\n",
    "#calculate the sun data\n",
    "sun_data = calc.sun_ang_bin(detector, day, bin_time_mid, data_type)\n",
    "sun_ang_bin = sun_data[0]\n",
    "sun_ang_bin = calc.ang_eff(sun_ang_bin, echan)[0]\n",
    "\n",
    "#calculate the earth data\n",
    "earth_data = calc.earth_ang_bin(detector, day, bin_time_mid, data_type)\n",
    "earth_ang_bin = earth_data[0]\n",
    "earth_ang_bin = calc.ang_eff(earth_ang_bin, echan)[0]\n",
    "#earth_ang_bin = calc.earth_occ_eff(earth_ang_bin, echan)\n",
    "\n",
    "#read the SFL data\n",
    "flares = rf.flares(year)\n",
    "flares_day = flares[0]\n",
    "flares_time = flares[1]\n",
    "if np.any(flares_day == day) == True:\n",
    "    flares_today = flares_time[:,np.where(flares_day == day)]\n",
    "    flares_today = np.squeeze(flares_today, axis=(1,))/3600.\n",
    "else:\n",
    "    flares_today = np.array(-5)\n",
    "\n",
    "\n",
    "#periodical function corresponding to the orbital behaviour -> reference day is 150926, periodical shift per day is approximately 0.199*math.pi\n",
    "sat_time = rf.poshist(day)[0]\n",
    "'''def j2000_orb(f, g, counts):#J2000-position oriented orbit\n",
    "    j2000_orb = f*(calc.intpol(np.sin((2*math.pi*np.arange(len(sat_time)))/5531 + g), day, 0, sat_time, bin_time_mid, detector)[0])\n",
    "    j2000_orb[np.where(counts == 0)] = 0\n",
    "    return j2000_orb\n",
    "\n",
    "def geo_orb(g, h, counts):#LON-oriented orbit (earth rotation considered -> orbit within the magnetic field of the earth)\n",
    "    geo_orb = g*(calc.intpol(np.sin((2*math.pi*np.arange(len(sat_time)))/6120.85 + h), day, 0, sat_time, bin_time_mid, detector)[0])\n",
    "    geo_orb[np.where(counts == 0)] = 0\n",
    "    return geo_orb'''#excluded, because their impact on the background is insignificant\n",
    "\n",
    "\n",
    "#read the magnetic field data\n",
    "'''magn_data = rf.magfits(day)\n",
    "t_magn = magn_data[0]\n",
    "h_magn = magn_data[1]\n",
    "x_magn = magn_data[2]\n",
    "y_magn = magn_data[3]\n",
    "z_magn = magn_data[4]\n",
    "t_magn = calc.intpol(t_magn, day, 0, sat_time, bin_time_mid)[0]\n",
    "h_magn = calc.intpol(h_magn, day, 0, sat_time, bin_time_mid)[0]\n",
    "z_magn = calc.intpol(z_magn, day, 0, sat_time, bin_time_mid)[0]\n",
    "\n",
    "magnetic = z_magn#define which component of the magnetic field to plot'''\n",
    "\n",
    "lat_data = rf.mcilwain(day)\n",
    "mc_b = lat_data[1]\n",
    "mc_l = lat_data[2]\n",
    "\n",
    "mc_b = calc.intpol(mc_b, day, 0, sat_time, bin_time_mid)[0]\n",
    "mc_l = calc.intpol(mc_l, day, 0, sat_time, bin_time_mid)[0]\n",
    "\n",
    "magnetic = mc_l\n",
    "magnetic = magnetic - np.mean(magnetic, dtype=np.float64)\n",
    "\n",
    "#constant function corresponding to the diffuse y-ray background\n",
    "cgb = np.ones(len(counts))\n",
    "\n",
    "#counts[120000:] = 0\n",
    "cgb[np.where(total_rate == 0)] = 0\n",
    "earth_ang_bin[np.where(total_rate == 0)] = 0\n",
    "sun_ang_bin[np.where(total_rate == 0)] = 0\n",
    "magnetic[np.where(total_rate == 0)] = 0\n",
    "\n",
    "\n"
   ]
  },
  {
   "cell_type": "code",
   "execution_count": 3,
   "metadata": {
    "collapsed": false
   },
   "outputs": [
    {
     "name": "stdout",
     "output_type": "stream",
     "text": [
      "2399\n",
      "22312\n",
      "167308\n",
      "185443\n",
      "202562\n",
      "219471\n",
      "236937\n",
      "255193\n",
      "273998\n"
     ]
    }
   ],
   "source": [
    "saa_exits = [0]\n",
    "for i in range(1, len(counts)):\n",
    "    if np.logical_and(total_rate[i-1] == 0, total_rate[i] != 0):\n",
    "        print i\n",
    "        saa_exits.append(i)\n",
    "saa_exits = np.array(saa_exits)"
   ]
  },
  {
   "cell_type": "code",
   "execution_count": 4,
   "metadata": {
    "collapsed": true
   },
   "outputs": [],
   "source": [
    "#def exp_func(x, a, b, c):\n",
    "#    return a*np.exp(-b*x) + c\n",
    "def exp_func(x, a, b, i):\n",
    "    if i == 0:\n",
    "        addition = 0\n",
    "    else:\n",
    "        addition = 5\n",
    "    x_func = x[saa_exits[i]+addition:] - x[saa_exits[i]+addition]\n",
    "    func = a*np.exp(-b*x_func)\n",
    "    zeros = np.zeros(len(x))\n",
    "    zeros[saa_exits[i]+addition:] = func\n",
    "    zeros[np.where(total_rate==0)] = 0\n",
    "    return zeros"
   ]
  },
  {
   "cell_type": "code",
   "execution_count": null,
   "metadata": {
    "collapsed": true
   },
   "outputs": [],
   "source": []
  },
  {
   "cell_type": "code",
   "execution_count": 5,
   "metadata": {
    "collapsed": false,
    "scrolled": true
   },
   "outputs": [
    {
     "name": "stderr",
     "output_type": "stream",
     "text": [
      "/usr/local/lib/python2.7/dist-packages/ipykernel/__main__.py:9: RuntimeWarning: overflow encountered in exp\n",
      "/usr/local/lib/python2.7/dist-packages/ipykernel/__main__.py:9: RuntimeWarning: overflow encountered in multiply\n"
     ]
    },
    {
     "name": "stdout",
     "output_type": "stream",
     "text": [
      "CGB coefficient: 156.483661716\n",
      "Magnetic field coefficient: 25.4704662069\n",
      "Earth angle coefficient: 0.00637670169818\n",
      "Sun angle coefficient: -0.0696914383967\n",
      "starting exp: -121.180394712 & 2.52378216521e-07\n",
      "first SAA: 18.2336957211 & 0.000517553211953\n"
     ]
    }
   ],
   "source": [
    "def fit_function(x, a, b, c, d, exp01, exp02, exp11, exp12, exp21, exp22, exp31, exp32, exp41, exp42, exp51, exp52, exp61, exp62, exp71, exp72, exp81, exp82, exp91, exp92):\n",
    "    return a*cgb + b*magnetic + c*earth_ang_bin + d*sun_ang_bin + exp_func(x, exp01, exp02, 0) + exp_func(x, exp11, exp12, 1) + exp_func(x, exp21, exp22, 2) + exp_func(x, exp31, exp32, 3) + exp_func(x, exp41, exp42, 4) + exp_func(x, exp51, exp52, 5) + exp_func(x, exp61, exp62, 6) + exp_func(x, exp71, exp72, 7) + exp_func(x, exp81, exp82, 8) + exp_func(x, exp91, exp92, 9)# + j2000_orb(e, f, counts) + geo_orb(g, h, counts)\n",
    "\n",
    "x0 = np.array([1300., 20., -12., -1., 40., 0.001, 40., 0.001, 40., 0.001, 40., 0.001, 40., 0.001, 40., 0.001, 40., 0.001, 40., 0.001, 40., 0.001, 40., 0.001])#, 0.5, 0.5, 0.2, -1.3])\n",
    "sigma = np.array((counts + 1)**(0.5))\n",
    "\n",
    "fit_results = optimization.curve_fit(fit_function, bin_time_mid, counts, x0, sigma)\n",
    "coeff = fit_results[0]\n",
    "\n",
    "print 'CGB coefficient:',coeff[0]\n",
    "print 'Magnetic field coefficient:',coeff[1]\n",
    "print 'Earth angle coefficient:',coeff[2]\n",
    "print 'Sun angle coefficient:',coeff[3]\n",
    "print 'starting exp:',coeff[4],'&',coeff[5]\n",
    "print 'first SAA:',coeff[6],'&',coeff[7]\n",
    "#print np.where(total_counts == 0)\n",
    "#print bin_time_mid[np.where(total_counts == 0)]\n",
    "#print sat_time_bin[np.where(total_counts == 0)]\n",
    "#print bin_time_mid[0]\n",
    "#print sat_time_bin[0]\n",
    "\n",
    "a = coeff[0]\n",
    "b = coeff[1]\n",
    "c = coeff[2]\n",
    "d = coeff[3]\n",
    "exp01 = coeff[4]\n",
    "exp02 = coeff[5]\n",
    "exp11 = coeff[6]\n",
    "exp12 = coeff[7]\n",
    "exp21 = coeff[8]\n",
    "exp22 = coeff[9]\n",
    "exp31 = coeff[10]\n",
    "exp32 = coeff[11]\n",
    "exp41 = coeff[12]\n",
    "exp42 = coeff[13]\n",
    "exp51 = coeff[14]\n",
    "exp52 = coeff[15]\n",
    "exp61 = coeff[16]\n",
    "exp62 = coeff[17]\n",
    "exp71 = coeff[18]\n",
    "exp72 = coeff[19]\n",
    "exp81 = coeff[20]\n",
    "exp82 = coeff[21]\n",
    "exp91 = coeff[22]\n",
    "exp92 = coeff[23]\n",
    "\n",
    "#j2000_orb = j2000_orb(e, f, counts)\n",
    "#geo_orb = geo_orb(g, h, counts)\n",
    "\n",
    "fit_curve = a*cgb + b*magnetic + c*earth_ang_bin + d*sun_ang_bin + exp_func(bin_time_mid, exp01, exp02, 0) + exp_func(bin_time_mid, exp11, exp12, 1) + exp_func(bin_time_mid, exp21, exp22, 2) + exp_func(bin_time_mid, exp31, exp32, 3) + exp_func(bin_time_mid, exp41, exp42, 4) + exp_func(bin_time_mid, exp51, exp52, 5) + exp_func(bin_time_mid, exp61, exp62, 6) + exp_func(bin_time_mid, exp71, exp72, 7) + exp_func(bin_time_mid, exp81, exp82, 8) + exp_func(bin_time_mid, exp91, exp92, 9)"
   ]
  },
  {
   "cell_type": "code",
   "execution_count": null,
   "metadata": {
    "collapsed": false
   },
   "outputs": [],
   "source": [
    "exp_func(bin_time_mid, exp01, exp02, 0)"
   ]
  },
  {
   "cell_type": "code",
   "execution_count": 6,
   "metadata": {
    "collapsed": false
   },
   "outputs": [
    {
     "data": {
      "text/plain": [
       "[<matplotlib.lines.Line2D at 0x7faa96c6e510>]"
      ]
     },
     "execution_count": 6,
     "metadata": {},
     "output_type": "execute_result"
    },
    {
     "data": {
      "image/png": "[encoded data removed]",
      "text/plain": [
       "<matplotlib.figure.Figure at 0x7faa8cbc8e10>"
      ]
     },
     "metadata": {},
     "output_type": "display_data"
    }
   ],
   "source": [
    "plt.plot(bin_time_mid - bin_time_mid[0], counts, 'b-')\n",
    "plt.plot(bin_time_mid - bin_time_mid[0], fit_curve, 'r-')"
   ]
  },
  {
   "cell_type": "code",
   "execution_count": 7,
   "metadata": {
    "collapsed": false
   },
   "outputs": [
    {
     "data": {
      "text/plain": [
       "[<matplotlib.lines.Line2D at 0x7faa8bf59050>]"
      ]
     },
     "execution_count": 7,
     "metadata": {},
     "output_type": "execute_result"
    },
    {
     "data": {
      "image/png": "[encoded data removed]",
      "text/plain": [
       "<matplotlib.figure.Figure at 0x7faa8c00e110>"
      ]
     },
     "metadata": {},
     "output_type": "display_data"
    }
   ],
   "source": [
    "residual_curve = counts - fit_curve\n",
    "plt.plot(bin_time_mid - bin_time_mid[0], residual_curve, 'b-')"
   ]
  },
  {
   "cell_type": "code",
   "execution_count": null,
   "metadata": {
    "collapsed": true
   },
   "outputs": [],
   "source": []
  },
  {
   "cell_type": "code",
   "execution_count": null,
   "metadata": {
    "collapsed": false
   },
   "outputs": [],
   "source": [
    "residual_curve = counts - fit_curve\n",
    "\n",
    "index = 8\n",
    "\n",
    "if index == 0:\n",
    "    addition = 0\n",
    "else:\n",
    "    addition = 5\n",
    "if saa_exits[index] == saa_exits[-1]:\n",
    "    index_length = len(bin_time_mid) - saa_exits[index]\n",
    "else:\n",
    "    index_length = saa_exits[index + 1] - saa_exits[index]\n",
    "length = min(index_length, 6000)\n",
    "\n",
    "x = bin_time_mid[saa_exits[index]+addition:saa_exits[index]+length] - bin_time_mid[saa_exits[index]+addition]\n",
    "y = residual_curve[saa_exits[index]+addition:saa_exits[index]+length]\n",
    "\n",
    "popt, pcov = curve_fit(func, x, y, maxfev = 10000)\n",
    "A, B, C = popt\n",
    "\n",
    "exp_curve = func(x, A, B, C)"
   ]
  },
  {
   "cell_type": "code",
   "execution_count": null,
   "metadata": {
    "collapsed": false
   },
   "outputs": [],
   "source": [
    "A, B, C"
   ]
  },
  {
   "cell_type": "code",
   "execution_count": null,
   "metadata": {
    "collapsed": false,
    "scrolled": true
   },
   "outputs": [],
   "source": [
    "plt.plot(bin_time_mid - bin_time_mid[0], residual_curve, 'b-')"
   ]
  },
  {
   "cell_type": "code",
   "execution_count": null,
   "metadata": {
    "collapsed": false
   },
   "outputs": [],
   "source": [
    "plt.plot(x, y, 'b-')\n",
    "plt.plot(x, exp_curve, 'r-')"
   ]
  },
  {
   "cell_type": "code",
   "execution_count": null,
   "metadata": {
    "collapsed": true
   },
   "outputs": [],
   "source": [
    "fit = np.zeros(len(bin_time_mid))\n",
    "\n",
    "x_extended = bin_time_mid[saa_exits[index]+addition:] - bin_time_mid[saa_exits[index]+addition]\n",
    "extended_curve = func(x_extended, A, B, C)\n",
    "\n",
    "fit[saa_exits[index]+addition:] = extended_curve + fit_curve[saa_exits[index]+addition:]\n",
    "fit[np.where(counts == 0)] = 0"
   ]
  },
  {
   "cell_type": "code",
   "execution_count": null,
   "metadata": {
    "collapsed": false
   },
   "outputs": [],
   "source": [
    "plt.plot(bin_time_mid - bin_time_mid[0], counts, 'b-')\n",
    "plt.plot(bin_time_mid - bin_time_mid[0], fit, 'r-')\n",
    "#plt.plot(bin_time_mid - bin_time_mid[0], extended_curve, 'y-')"
   ]
  },
  {
   "cell_type": "code",
   "execution_count": null,
   "metadata": {
    "collapsed": false
   },
   "outputs": [],
   "source": [
    "for index in range(0, len(saa_exits)):\n",
    "    residual_curve = counts - fit_curve\n",
    "    if index == 0:\n",
    "        addition = 0\n",
    "    else:\n",
    "        addition = 5\n",
    "    if saa_exits[index] == saa_exits[-1]:\n",
    "        index_length = len(bin_time_mid) - saa_exits[index]\n",
    "    else:\n",
    "        index_length = saa_exits[index + 1] - saa_exits[index]\n",
    "    length = min(index_length, 1000)\n",
    "    \n",
    "    x = bin_time_mid[saa_exits[index]+addition:saa_exits[index]+length] - bin_time_mid[saa_exits[index]+addition]\n",
    "    y = residual_curve[saa_exits[index]+addition:saa_exits[index]+length]\n",
    "    \n",
    "    popt, pcov = curve_fit(func, x, y, maxfev = 1000)\n",
    "    A, B, C = popt\n",
    "    \n",
    "    exp_curve = func(x, A, B, C)\n",
    "    \n",
    "    #plt.plot(x, y, 'b-')\n",
    "    #plt.plot(x, exp_curve, 'r-')\n",
    "    \n",
    "    x_extended = bin_time_mid[saa_exits[index]+addition:] - bin_time_mid[saa_exits[index]+addition]\n",
    "    extended_curve = func(x_extended, A, B, C)\n",
    "    \n",
    "    fit_curve[saa_exits[index]+addition:] = extended_curve + fit_curve[saa_exits[index]+addition:]\n",
    "    fit_curve[np.where(counts == 0)] = 0"
   ]
  },
  {
   "cell_type": "code",
   "execution_count": null,
   "metadata": {
    "collapsed": false
   },
   "outputs": [],
   "source": [
    "plt.plot(bin_time_mid - bin_time_mid[0], counts, 'b-')\n",
    "plt.plot(bin_time_mid - bin_time_mid[0], fit_curve, 'r-')"
   ]
  },
  {
   "cell_type": "code",
   "execution_count": null,
   "metadata": {
    "collapsed": false
   },
   "outputs": [],
   "source": [
    "#savefig(\"/home/tkili/Work/saa_fit.pdf\",bbox_inches=\"tight\")"
   ]
  },
  {
   "cell_type": "code",
   "execution_count": null,
   "metadata": {
    "collapsed": false
   },
   "outputs": [],
   "source": [
    "#####plot-algorhythm#####\n",
    "#convert the x-axis into hours of the day\n",
    "plot_time_bin_date = calc.met_to_date(bin_time_mid)[0]\n",
    "plot_time_bin = (plot_time_bin_date - calc.day_to_met(day)[1])*24#Time of day in hours\n",
    "plot_time_sat_date = calc.met_to_date(sat_time_bin)[0]\n",
    "plot_time_sat = (plot_time_sat_date - calc.day_to_met(day)[1])*24#Time of day in hours\n",
    "\n",
    "\n",
    "###plot each on the same axis as converted to counts###\n",
    "fig, ax1 = plt.subplots()\n",
    "\n",
    "plot1 = ax1.plot(plot_time_bin, counts, 'b-', label = 'Countrate')\n",
    "plot2 = ax1.plot(plot_time_bin, fit_curve, 'r-', label = 'Fit')\n",
    "plot3 = ax1.plot(plot_time_sat, d*sun_ang_bin, 'y-', label = 'Sun angle')\n",
    "plot4 = ax1.plot(plot_time_sat, c*earth_ang_bin, 'c-', label = 'Earth angle')\n",
    "plot5 = ax1.plot(plot_time_sat, b*magnetic, 'g-', label = 'Magnetic field')\n",
    "plot6 = ax1.plot(plot_time_sat, a*cgb, 'b--', label = 'Cosmic y-ray background')\n",
    "#plot7 = ax1.plot(plot_time_sat, j2000_orb, 'y--', label = 'J2000 orbit')\n",
    "#plot8 = ax1.plot(plot_time_sat, geo_orb, 'g--', label = 'Geographical orbit')\n",
    "\n",
    "#plot vertical lines for the solar flares of the day\n",
    "if np.all(flares_today != -5):\n",
    "    if len(flares_today[0]) > 1:\n",
    "        for i in range(0, len(flares_today[0])):\n",
    "            plt.axvline(x = flares_today[0,i], ymin = 0., ymax = 1., linewidth=2, color = 'grey')\n",
    "            plt.axvline(x = flares_today[1,i], ymin = 0., ymax = 1., color = 'grey', linestyle = '--')\n",
    "    else:\n",
    "        plt.axvline(x = flares_today[0], ymin = 0., ymax = 1., linewidth=2, color = 'grey')\n",
    "        plt.axvline(x = flares_today[1], ymin = 0., ymax = 1., color = 'grey', linestyle = '--')\n",
    "\n",
    "plots = plot1 + plot2 + plot3 + plot4 + plot5 + plot6# + plot7 + plot8\n",
    "labels = [l.get_label() for l in plots]\n",
    "ax1.legend(plots, labels, loc=1)\n",
    "\n",
    "ax1.grid()\n",
    "\n",
    "ax1.set_xlabel('Time of day in 24h')\n",
    "ax1.set_ylabel('Countrate')\n",
    "\n",
    "#ax1.set_xlim([9.84, 9.85])\n",
    "ax1.set_xlim([-0.5, 24.5])\n",
    "ax1.set_ylim([-200, 2000])\n",
    "\n",
    "plt.title(data_type + '-countrate-fit of the ' + detector.__name__ + '-detector on the ' + ordinal(int(str(day)[4:6])) + ' ' + date.strftime('%B')[0:3] + ' ' + str(year))\n",
    "\n",
    "plt.show()\n",
    "\n",
    "\n",
    "###plot residual noise of the fitting algorithm###\n",
    "#plt.plot(plot_time_bin, counts - fit_curve, 'b-')\n",
    "\n",
    "#plt.xlabel('Time of day in 24h')\n",
    "#plt.ylabel('Residual noise')\n",
    "\n",
    "#plt.grid()\n",
    "\n",
    "#plt.title(data_type + '-counts-fit residuals of the ' + detector.__name__ + '-detector on the ' + ordinal(int(str(day)[4:6])) + ' ' + date.strftime('%B')[0:3] + ' ' + str(year))\n",
    "\n",
    "#plt.ylim([-200, 200])\n",
    "\n",
    "#plt.show()"
   ]
  }
 ],
 "metadata": {
  "kernelspec": {
   "display_name": "Python 2",
   "language": "python",
   "name": "python2"
  },
  "language_info": {
   "codemirror_mode": {
    "name": "ipython",
    "version": 2
   },
   "file_extension": ".py",
   "mimetype": "text/x-python",
   "name": "python",
   "nbconvert_exporter": "python",
   "pygments_lexer": "ipython2",
   "version": "2.7.6"
  }
 },
 "nbformat": 4,
 "nbformat_minor": 0
}
