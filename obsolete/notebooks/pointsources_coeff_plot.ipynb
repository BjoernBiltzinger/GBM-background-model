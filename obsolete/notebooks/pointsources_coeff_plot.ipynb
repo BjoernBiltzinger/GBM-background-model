{
 "cells": [
  {
   "cell_type": "code",
   "execution_count": 1,
   "metadata": {
    "collapsed": true
   },
   "outputs": [],
   "source": [
    "#!/usr/bin python2.7\n",
    "\n",
    "from astropy.io       import fits\n",
    "from astropy.table    import Table\n",
    "from astropy.time     import Time\n",
    "from datetime         import date\n",
    "from datetime         import datetime\n",
    "import ephem\n",
    "import fileinput\n",
    "import getpass\n",
    "import math\n",
    "import matplotlib.pyplot                   as plt\n",
    "import matplotlib                          as mpl\n",
    "import numpy                               as np\n",
    "from numpy            import linalg        as LA\n",
    "import os\n",
    "import pyfits\n",
    "import scipy.optimize                      as optimization\n",
    "from scipy            import integrate\n",
    "from scipy            import interpolate\n",
    "from scipy.optimize   import curve_fit\n",
    "import subprocess\n",
    "from subprocess       import Popen, PIPE\n",
    "import urllib2\n",
    "from work_module      import calculate\n",
    "from work_module      import detector\n",
    "from work_module      import readfile\n",
    "from work_module      import writefile\n",
    "calc = calculate()\n",
    "det = detector()\n",
    "rf = readfile()\n",
    "wf = writefile()"
   ]
  },
  {
   "cell_type": "code",
   "execution_count": 6,
   "metadata": {
    "collapsed": true
   },
   "outputs": [],
   "source": [
    "#day = 101225\n",
    "day = 111209\n",
    "detector_name = 'n0'\n",
    "echan = np.array([0, 1, 2, 3, 4, 5, 6, 7])\n",
    "data_type = 'ctime'\n",
    "sources_number = 14"
   ]
  },
  {
   "cell_type": "code",
   "execution_count": 8,
   "metadata": {
    "collapsed": false
   },
   "outputs": [],
   "source": [
    "x = np.arange(sources_number)+1\n",
    "\n",
    "mpl.rcParams['axes.color_cycle'] = ['b', 'g', 'r', 'c', 'm', 'y', 'k']\n",
    "\n",
    "for i in range(0, len(echan)):\n",
    "    data = rf.fits_data(day, detector_name, echan[i], data_type, sources_number)\n",
    "    residuals            = data[0]\n",
    "    counts               = data[1]\n",
    "    fit_curve            = data[2]\n",
    "    cgb                  = data[3]\n",
    "    magnetic             = data[4]\n",
    "    earth_ang_bin        = data[5]\n",
    "    sun_ang_bin          = data[6]\n",
    "    sources_fit_curve    = data[7]\n",
    "    plot_time_bin        = data[8]\n",
    "    plot_time_sat        = data[9]\n",
    "    fit_coeffs           = data[10]\n",
    "    sources_ang_bin      = data[11]\n",
    "    sources_names        = data[12]\n",
    "    sources_coeff        = data[13][:sources_number]\n",
    "    \n",
    "    plt.plot(x, sources_coeff, label = echan[i])\n",
    "    \n",
    "\n",
    "#plt.xticks(x, sources_names)\n",
    "plt.legend()\n",
    "plt.xlabel('Pointsource')\n",
    "plt.ylabel('Coefficient')\n",
    "plt.title('Pointsource Coefficients for different energychannels')\n",
    "plt.grid()\n",
    "\n",
    "#plt.xlim([start_time, end_time])\n",
    "#plt.ylim([-10, 200])\n",
    "\n",
    "#print \"plot\"\n",
    "\n",
    "plt.show()"
   ]
  },
  {
   "cell_type": "code",
   "execution_count": null,
   "metadata": {
    "collapsed": false
   },
   "outputs": [],
   "source": [
    "user = getpass.getuser()\n",
    "\n",
    "figure_path = '/home/' + user + '/Work/Fits/'\n",
    "if not os.access(figure_path, os.F_OK):\n",
    "    os.mkdir(figure_path)\n",
    "figure_name = 'current.png'\n",
    "\n",
    "fig = plt.gcf() # get current figure\n",
    "fig.set_size_inches(20, 12)\n",
    "\n",
    "figure = os.path.join(figure_path, figure_name)\n",
    "plt.savefig(figure, bbox_inches='tight', dpi = 40)\n",
    "\n",
    "#plt.show()\n",
    "\n",
    "fig.clf()\n",
    "plt.clf()"
   ]
  },
  {
   "cell_type": "code",
   "execution_count": null,
   "metadata": {
    "collapsed": false
   },
   "outputs": [],
   "source": [
    "day = 150914\n",
    "detector_name = 'n9'\n",
    "echan = 1\n",
    "#data_type = 'ctime'\n",
    "sources_number = 14\n",
    "source = 3\n",
    "\n",
    "\n",
    "data = rf.fits_data(day, detector_name, echan)\n",
    "residuals            = data[0]\n",
    "counts               = data[1]\n",
    "fit_curve            = data[2]\n",
    "cgb                  = data[3]\n",
    "magnetic             = data[4]\n",
    "earth_ang_bin        = data[5]\n",
    "sun_ang_bin          = data[6]\n",
    "sources_fit_curve    = data[7]\n",
    "plot_time_bin        = data[8]\n",
    "plot_time_sat        = data[9]\n",
    "fit_coeffs           = data[10]\n",
    "sources_ang_bin      = np.array(data[11])\n",
    "sources_names        = data[12]\n",
    "sources_coeff        = data[13][:sources_number]\n",
    "\n",
    "\n",
    "print sources_ang_bin[source-1]\n",
    "#print len(plot_time_bin)\n",
    "\n",
    "plt.plot(plot_time_bin, counts, 'b-', label = 'Count rate')\n",
    "plt.plot(plot_time_bin, fit_curve, 'r-', label = 'Background fit')\n",
    "plt.plot(plot_time_sat, sources_ang_bin[source-1], 'k-', label = str(sources_names[source-1]))\n",
    "\n",
    "plt.legend()\n",
    "plt.grid()\n",
    "\n",
    "plt.show()\n",
    "\n"
   ]
  },
  {
   "cell_type": "code",
   "execution_count": null,
   "metadata": {
    "collapsed": false
   },
   "outputs": [],
   "source": [
    "xyz = sources_ang_bin.view(sources_ang_bin.dtype[0]).reshape(sources_ang_bin.shape + (-1,)).astype(np.float)\n",
    "print xyz.T[-1]"
   ]
  }
 ],
 "metadata": {
  "kernelspec": {
   "display_name": "Python 2",
   "language": "python",
   "name": "python2"
  },
  "language_info": {
   "codemirror_mode": {
    "name": "ipython",
    "version": 2
   },
   "file_extension": ".py",
   "mimetype": "text/x-python",
   "name": "python",
   "nbconvert_exporter": "python",
   "pygments_lexer": "ipython2",
   "version": "2.7.6"
  }
 },
 "nbformat": 4,
 "nbformat_minor": 0
}
